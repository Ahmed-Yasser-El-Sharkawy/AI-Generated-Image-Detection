{
 "cells": [
  {
   "cell_type": "code",
   "execution_count": null,
   "id": "1eb30dab",
   "metadata": {
    "_cell_guid": "b1076dfc-b9ad-4769-8c92-a6c4dae69d19",
    "_uuid": "8f2839f25d086af736a60e9eeb907d3b93b6e0e5",
    "execution": {
     "iopub.execute_input": "2024-11-30T01:23:05.942376Z",
     "iopub.status.busy": "2024-11-30T01:23:05.942033Z",
     "iopub.status.idle": "2024-11-30T01:23:06.636988Z",
     "shell.execute_reply": "2024-11-30T01:23:06.636084Z"
    },
    "papermill": {
     "duration": 0.702092,
     "end_time": "2024-11-30T01:23:06.639106",
     "exception": false,
     "start_time": "2024-11-30T01:23:05.937014",
     "status": "completed"
    },
    "tags": []
   },
   "outputs": [],
   "source": [
    "import numpy as np # linear algebra\n",
    "import pandas as pd # data processing, CSV file I/O (e.g. pd.read_csv)\n",
    "\n",
    "import os\n"
   ]
  },
  {
   "cell_type": "code",
   "execution_count": 2,
   "id": "4165f999",
   "metadata": {
    "execution": {
     "iopub.execute_input": "2024-11-30T01:23:06.647005Z",
     "iopub.status.busy": "2024-11-30T01:23:06.646624Z",
     "iopub.status.idle": "2024-11-30T01:28:20.523047Z",
     "shell.execute_reply": "2024-11-30T01:28:20.522077Z"
    },
    "papermill": {
     "duration": 313.882837,
     "end_time": "2024-11-30T01:28:20.525291",
     "exception": false,
     "start_time": "2024-11-30T01:23:06.642454",
     "status": "completed"
    },
    "tags": []
   },
   "outputs": [],
   "source": [
    "import torch\n",
    "from torch import nn, optim\n",
    "from torchvision import datasets, transforms, models\n",
    "from torch.utils.data import DataLoader, random_split\n",
    "from sklearn.metrics import classification_report, confusion_matrix\n",
    "import os\n",
    "from PIL import Image, ImageFile\n",
    "import warnings\n",
    "\n",
    "with warnings.catch_warnings():\n",
    "    warnings.simplefilter(\"ignore\", Image.DecompressionBombWarning)\n",
    "\n",
    "\n",
    "\n",
    "# Define dataset path\n",
    "data_dir = '/kaggle/input/ai-generated-images-vs-real-images/train'\n",
    "\n",
    "\n",
    "# Set a higher limit if you know your dataset has large images\n",
    "Image.MAX_IMAGE_PIXELS = None  # Disable the check completely (use with caution)\n",
    "# or\n",
    "Image.MAX_IMAGE_PIXELS = 200000000  # Set to a specific safe value (e.g., 200M pixels)\n",
    "\n",
    "\n",
    "def convert_to_rgb(image):\n",
    "    \"\"\"\n",
    "    Ensures the input image is in RGB mode. Converts images with a palette\n",
    "    (e.g., PNG or GIF) and transparency to RGBA, then to RGB by blending with a white background.\n",
    "    \"\"\"\n",
    "    if image.mode == 'P':  # Palette-based images\n",
    "        image = image.convert(\"RGBA\")  # Convert to RGBA\n",
    "    if image.mode == \"RGBA\":  # Images with transparency\n",
    "        # Blend with a white background to remove transparency\n",
    "        background = Image.new(\"RGB\", image.size, (255, 255, 255))\n",
    "        image = Image.alpha_composite(background, image).convert(\"RGB\")\n",
    "    elif image.mode != \"RGB\":\n",
    "        image = image.convert(\"RGB\")  # Convert other modes directly to RGB\n",
    "    return image\n",
    "\n",
    "\n",
    "\n",
    "def resize_large_image(image, max_size):\n",
    "    \"\"\"\n",
    "    Resize images that exceed a certain size.\n",
    "    Args:\n",
    "        image (PIL.Image.Image): Input image.\n",
    "        max_size (tuple): Maximum allowed dimensions (width, height).\n",
    "    Returns:\n",
    "        PIL.Image.Image: Resized image if necessary.\n",
    "    \"\"\"\n",
    "    if image.size[0] > max_size[0] or image.size[1] > max_size[1]:\n",
    "        image.thumbnail(max_size, Image.Resampling.LANCZOS)  # Use LANCZOS for high-quality downscaling\n",
    "    return image\n",
    "\n",
    "\n",
    "train_transform = transforms.Compose([\n",
    "    transforms.Lambda(lambda img: resize_large_image(img, max_size=(5000, 5000))),  # Ensure large images are resized\n",
    "    transforms.Lambda(convert_to_rgb),               # Convert to RGB\n",
    "    transforms.RandomResizedCrop(224),               # Randomly crop and resize to 224x224\n",
    "    transforms.RandomHorizontalFlip(p=0.5),          # Randomly flip horizontally with 50% probability\n",
    "    transforms.RandomVerticalFlip(p=0.2),            # Randomly flip vertically with 20% probability\n",
    "    transforms.RandomRotation(degrees=15),           # Random rotation within ±15 degrees\n",
    "    transforms.ColorJitter(brightness=0.2, contrast=0.2, saturation=0.2, hue=0.1),  # Adjust color properties\n",
    "    transforms.ToTensor(),                           # Convert to tensor\n",
    "    transforms.Normalize([0.485, 0.456, 0.406], [0.229, 0.224, 0.225])  # Normalize using ImageNet stats\n",
    "])\n",
    "\n",
    "\n",
    "\n",
    "val_transform = transforms.Compose([\n",
    "    transforms.Lambda(convert_to_rgb),  # Convert to RGB\n",
    "    transforms.Resize((224, 224)),      # Resize images to 224x224\n",
    "    transforms.ToTensor(),              # Convert to tensor\n",
    "    transforms.Normalize([0.485, 0.456, 0.406], [0.229, 0.224, 0.225])  # Normalize with ImageNet mean and std\n",
    "])\n",
    "\n",
    "# Allow loading of truncated images\n",
    "ImageFile.LOAD_TRUNCATED_IMAGES = True\n",
    "\n",
    "# Minimum file size in bytes for an image to be considered valid\n",
    "MIN_IMAGE_FILE_SIZE = 3284  # 1 KB (adjust as needed)\n",
    "\n",
    "# Function to validate images based on size and format\n",
    "def is_valid_image(file_path):\n",
    "    \"\"\"\n",
    "    Checks if the image file is valid, has enough bytes, and can be opened.\n",
    "    Args:\n",
    "        file_path (str): Path to the image file.\n",
    "    Returns:\n",
    "        bool: True if valid, False otherwise.\n",
    "    \"\"\"\n",
    "    try:\n",
    "        # Check file size\n",
    "        if os.path.getsize(file_path) < MIN_IMAGE_FILE_SIZE:\n",
    "            return False\n",
    "        \n",
    "        # Verify image integrity\n",
    "        with Image.open(file_path) as img:\n",
    "            img.verify()  # Verify it's a valid image\n",
    "        return True\n",
    "    except (OSError, Image.DecompressionBombError):\n",
    "        return False\n",
    "\n",
    "# Custom ImageFolder class that filters invalid images\n",
    "class ValidImageFolder(datasets.ImageFolder):\n",
    "    def __init__(self, root, transform=None):\n",
    "        super().__init__(root, transform)\n",
    "        # Filter out invalid images\n",
    "        self.samples = [(path, label) for path, label in self.samples if is_valid_image(path)]\n",
    "        self.targets = [label for _, label in self.samples]\n",
    "\n",
    "# Load dataset and validate images\n",
    "dataset = ValidImageFolder(root=data_dir, transform=train_transform)"
   ]
  },
  {
   "cell_type": "code",
   "execution_count": 3,
   "id": "0cd7a989",
   "metadata": {
    "execution": {
     "iopub.execute_input": "2024-11-30T01:28:20.533812Z",
     "iopub.status.busy": "2024-11-30T01:28:20.532824Z",
     "iopub.status.idle": "2024-11-30T01:28:20.566384Z",
     "shell.execute_reply": "2024-11-30T01:28:20.565484Z"
    },
    "papermill": {
     "duration": 0.039317,
     "end_time": "2024-11-30T01:28:20.568098",
     "exception": false,
     "start_time": "2024-11-30T01:28:20.528781",
     "status": "completed"
    },
    "tags": []
   },
   "outputs": [
    {
     "name": "stdout",
     "output_type": "stream",
     "text": [
      "Original Dataset Size: 47998\n",
      "Balanced Subset Size: 23999 (Fake: 12000, Real: 11999)\n"
     ]
    }
   ],
   "source": [
    "from torch.utils.data import Subset\n",
    "# Separate indices for \"fake\" and \"real\" images\n",
    "fake_indices = [i for i, (_, label) in enumerate(dataset.samples) if label == dataset.class_to_idx['fake']]\n",
    "real_indices = [i for i, (_, label) in enumerate(dataset.samples) if label == dataset.class_to_idx['real']]\n",
    "\n",
    "# Take 50% from each class\n",
    "fake_subset_size = int(0.5 * len(fake_indices))\n",
    "real_subset_size = int(0.5 * len(real_indices))\n",
    "\n",
    "fake_subset_indices = np.random.choice(fake_indices, fake_subset_size, replace=False)\n",
    "real_subset_indices = np.random.choice(real_indices, real_subset_size, replace=False)\n",
    "\n",
    "# Combine the indices for the balanced subset\n",
    "balanced_subset_indices = np.concatenate((fake_subset_indices, real_subset_indices))\n",
    "\n",
    "# Create the subset\n",
    "balanced_subset = Subset(dataset, balanced_subset_indices)\n",
    "\n",
    "# Print the sizes of the original and subset datasets\n",
    "print(f\"Original Dataset Size: {len(dataset)}\")\n",
    "print(f\"Balanced Subset Size: {len(balanced_subset)} (Fake: {fake_subset_size}, Real: {real_subset_size})\")\n"
   ]
  },
  {
   "cell_type": "code",
   "execution_count": 4,
   "id": "25e58922",
   "metadata": {
    "execution": {
     "iopub.execute_input": "2024-11-30T01:28:20.575160Z",
     "iopub.status.busy": "2024-11-30T01:28:20.574902Z",
     "iopub.status.idle": "2024-11-30T01:28:20.604397Z",
     "shell.execute_reply": "2024-11-30T01:28:20.603569Z"
    },
    "papermill": {
     "duration": 0.035118,
     "end_time": "2024-11-30T01:28:20.606245",
     "exception": false,
     "start_time": "2024-11-30T01:28:20.571127",
     "status": "completed"
    },
    "tags": []
   },
   "outputs": [],
   "source": [
    "# Split the balanced subset into training and validation sets\n",
    "train_size = int(0.8 * len(balanced_subset))\n",
    "val_size = len(balanced_subset) - train_size\n",
    "train_dataset, val_dataset = random_split(balanced_subset, [train_size, val_size])\n",
    "\n",
    "# Apply validation transforms to validation set\n",
    "val_dataset.dataset.transform = val_transform\n",
    "\n",
    "# Create DataLoader for training and validation sets\n",
    "train_loader = DataLoader(train_dataset, batch_size=512, shuffle=True)\n",
    "val_loader = DataLoader(val_dataset, batch_size=512, shuffle=False)"
   ]
  },
  {
   "cell_type": "code",
   "execution_count": 5,
   "id": "9dcc6eac",
   "metadata": {
    "execution": {
     "iopub.execute_input": "2024-11-30T01:28:20.613615Z",
     "iopub.status.busy": "2024-11-30T01:28:20.612915Z",
     "iopub.status.idle": "2024-11-30T01:28:20.617776Z",
     "shell.execute_reply": "2024-11-30T01:28:20.616939Z"
    },
    "papermill": {
     "duration": 0.010007,
     "end_time": "2024-11-30T01:28:20.619283",
     "exception": false,
     "start_time": "2024-11-30T01:28:20.609276",
     "status": "completed"
    },
    "tags": []
   },
   "outputs": [
    {
     "name": "stdout",
     "output_type": "stream",
     "text": [
      "Train Dataset Size: 19199\n",
      "Validation Dataset Size: 4800\n"
     ]
    }
   ],
   "source": [
    "# Print the sizes of the training and validation datasets\n",
    "print(f\"Train Dataset Size: {len(train_dataset)}\")\n",
    "print(f\"Validation Dataset Size: {len(val_dataset)}\")"
   ]
  },
  {
   "cell_type": "code",
   "execution_count": 6,
   "id": "31136b13",
   "metadata": {
    "execution": {
     "iopub.execute_input": "2024-11-30T01:28:20.627888Z",
     "iopub.status.busy": "2024-11-30T01:28:20.627295Z",
     "iopub.status.idle": "2024-11-30T01:28:20.873415Z",
     "shell.execute_reply": "2024-11-30T01:28:20.872438Z"
    },
    "papermill": {
     "duration": 0.252765,
     "end_time": "2024-11-30T01:28:20.875059",
     "exception": false,
     "start_time": "2024-11-30T01:28:20.622294",
     "status": "completed"
    },
    "tags": []
   },
   "outputs": [
    {
     "data": {
      "image/png": "[encoded data removed]",
      "text/plain": [
       "<Figure size 800x600 with 1 Axes>"
      ]
     },
     "metadata": {},
     "output_type": "display_data"
    }
   ],
   "source": [
    "import matplotlib.pyplot as plt\n",
    "\n",
    "# Calculate dataset sizes\n",
    "train_size = len(train_dataset)\n",
    "val_size = len(val_dataset)\n",
    "\n",
    "# Dataset labels and sizes\n",
    "labels = ['Training Dataset', 'Validation Dataset']\n",
    "sizes = [train_size, val_size]\n",
    "\n",
    "# Create bar chart\n",
    "plt.figure(figsize=(8, 6))\n",
    "plt.bar(labels, sizes, color=['blue', 'orange'], alpha=0.7)\n",
    "\n",
    "# Add annotations to the bars\n",
    "for i, size in enumerate(sizes):\n",
    "    plt.text(i, size + 5, str(size), ha='center', fontsize=12)\n",
    "\n",
    "# Add chart details\n",
    "plt.title('Dataset Split Distribution')\n",
    "plt.ylabel('Number of Samples')\n",
    "plt.xlabel('Dataset')\n",
    "plt.ylim(0, max(sizes) + 50)\n",
    "plt.show()"
   ]
  },
  {
   "cell_type": "code",
   "execution_count": 7,
   "id": "6ff715ba",
   "metadata": {
    "execution": {
     "iopub.execute_input": "2024-11-30T01:28:20.883233Z",
     "iopub.status.busy": "2024-11-30T01:28:20.882894Z",
     "iopub.status.idle": "2024-11-30T01:28:20.947515Z",
     "shell.execute_reply": "2024-11-30T01:28:20.946757Z"
    },
    "papermill": {
     "duration": 0.071104,
     "end_time": "2024-11-30T01:28:20.949666",
     "exception": false,
     "start_time": "2024-11-30T01:28:20.878562",
     "status": "completed"
    },
    "tags": []
   },
   "outputs": [
    {
     "name": "stdout",
     "output_type": "stream",
     "text": [
      "cuda\n"
     ]
    }
   ],
   "source": [
    "# Move model to GPU if available\n",
    "device = torch.device(\"cuda\" if torch.cuda.is_available() else \"cpu\")\n",
    "print(device)"
   ]
  },
  {
   "cell_type": "code",
   "execution_count": 8,
   "id": "31fb9b33",
   "metadata": {
    "execution": {
     "iopub.execute_input": "2024-11-30T01:28:20.962750Z",
     "iopub.status.busy": "2024-11-30T01:28:20.962473Z",
     "iopub.status.idle": "2024-11-30T01:28:21.732083Z",
     "shell.execute_reply": "2024-11-30T01:28:21.731036Z"
    },
    "papermill": {
     "duration": 0.7788,
     "end_time": "2024-11-30T01:28:21.734586",
     "exception": false,
     "start_time": "2024-11-30T01:28:20.955786",
     "status": "completed"
    },
    "tags": []
   },
   "outputs": [
    {
     "name": "stderr",
     "output_type": "stream",
     "text": [
      "/opt/conda/lib/python3.10/site-packages/torchvision/models/_utils.py:208: UserWarning: The parameter 'pretrained' is deprecated since 0.13 and may be removed in the future, please use 'weights' instead.\n",
      "  warnings.warn(\n",
      "/opt/conda/lib/python3.10/site-packages/torchvision/models/_utils.py:223: UserWarning: Arguments other than a weight enum or `None` for 'weights' are deprecated since 0.13 and may be removed in the future. The current behavior is equivalent to passing `weights=ResNet18_Weights.IMAGENET1K_V1`. You can also use `weights=ResNet18_Weights.DEFAULT` to get the most up-to-date weights.\n",
      "  warnings.warn(msg)\n",
      "Downloading: \"https://download.pytorch.org/models/resnet18-f37072fd.pth\" to /root/.cache/torch/hub/checkpoints/resnet18-f37072fd.pth\n",
      "100%|██████████| 44.7M/44.7M [00:00<00:00, 201MB/s]\n"
     ]
    }
   ],
   "source": [
    "from torchvision.models import resnet18\n",
    "import torch.nn as nn\n",
    "\n",
    "# Load a pre-trained ResNet18\n",
    "model = models.resnet18(pretrained=True)\n",
    "\n",
    "# Modify the last fully connected layer with dropout\n",
    "num_ftrs = model.fc.in_features\n",
    "model.fc = nn.Sequential(\n",
    "    nn.Dropout(p=0.5),  # 50% dropout\n",
    "    nn.Linear(num_ftrs, 2)  # 2 output classes\n",
    ")\n",
    "\n",
    "model = model.to(device)\n"
   ]
  },
  {
   "cell_type": "code",
   "execution_count": 9,
   "id": "9adbf0a9",
   "metadata": {
    "execution": {
     "iopub.execute_input": "2024-11-30T01:28:21.745102Z",
     "iopub.status.busy": "2024-11-30T01:28:21.744721Z",
     "iopub.status.idle": "2024-11-30T01:28:21.750730Z",
     "shell.execute_reply": "2024-11-30T01:28:21.749660Z"
    },
    "papermill": {
     "duration": 0.013305,
     "end_time": "2024-11-30T01:28:21.753372",
     "exception": false,
     "start_time": "2024-11-30T01:28:21.740067",
     "status": "completed"
    },
    "tags": []
   },
   "outputs": [],
   "source": [
    "from torch.optim.lr_scheduler import StepLR\n",
    "\n",
    "# Define the optimizer\n",
    "optimizer = optim.Adam(model.parameters(), lr=0.001)\n",
    "criterion = nn.CrossEntropyLoss()\n",
    "\n",
    "# Define a scheduler that reduces the learning rate every 3 epochs\n",
    "scheduler = StepLR(optimizer, step_size=3, gamma=0.1)"
   ]
  },
  {
   "cell_type": "code",
   "execution_count": 10,
   "id": "66f90582",
   "metadata": {
    "execution": {
     "iopub.execute_input": "2024-11-30T01:28:21.764150Z",
     "iopub.status.busy": "2024-11-30T01:28:21.763752Z",
     "iopub.status.idle": "2024-11-30T01:28:21.768077Z",
     "shell.execute_reply": "2024-11-30T01:28:21.767246Z"
    },
    "papermill": {
     "duration": 0.011897,
     "end_time": "2024-11-30T01:28:21.770015",
     "exception": false,
     "start_time": "2024-11-30T01:28:21.758118",
     "status": "completed"
    },
    "tags": []
   },
   "outputs": [],
   "source": [
    "# Early stopping parameters\n",
    "patience = 3\n",
    "trigger_times = 0\n",
    "best_val_loss = float('inf')\n"
   ]
  },
  {
   "cell_type": "code",
   "execution_count": 11,
   "id": "274e97ef",
   "metadata": {
    "execution": {
     "iopub.execute_input": "2024-11-30T01:28:21.785925Z",
     "iopub.status.busy": "2024-11-30T01:28:21.785517Z",
     "iopub.status.idle": "2024-11-30T01:28:21.790168Z",
     "shell.execute_reply": "2024-11-30T01:28:21.789238Z"
    },
    "papermill": {
     "duration": 0.014172,
     "end_time": "2024-11-30T01:28:21.792476",
     "exception": false,
     "start_time": "2024-11-30T01:28:21.778304",
     "status": "completed"
    },
    "tags": []
   },
   "outputs": [],
   "source": [
    "# Training and validation loop\n",
    "epochs = 11\n",
    "best_val_acc = 0.0\n",
    "\n",
    "# Initialize lists to store metrics\n",
    "train_losses = []\n",
    "train_accuracies = []\n",
    "val_losses = []\n",
    "val_accuracies = []"
   ]
  },
  {
   "cell_type": "code",
   "execution_count": 12,
   "id": "3efbdc4f",
   "metadata": {
    "execution": {
     "iopub.execute_input": "2024-11-30T01:28:21.803876Z",
     "iopub.status.busy": "2024-11-30T01:28:21.803556Z",
     "iopub.status.idle": "2024-11-30T12:50:52.459489Z",
     "shell.execute_reply": "2024-11-30T12:50:52.458572Z"
    },
    "papermill": {
     "duration": 40950.669129,
     "end_time": "2024-11-30T12:50:52.467545",
     "exception": false,
     "start_time": "2024-11-30T01:28:21.798416",
     "status": "completed"
    },
    "tags": []
   },
   "outputs": [
    {
     "name": "stdout",
     "output_type": "stream",
     "text": [
      "Epoch 1/11\n"
     ]
    },
    {
     "name": "stderr",
     "output_type": "stream",
     "text": [
      "/opt/conda/lib/python3.10/site-packages/PIL/Image.py:1056: UserWarning: Palette images with Transparency expressed in bytes should be converted to RGBA images\n",
      "  warnings.warn(\n"
     ]
    },
    {
     "name": "stdout",
     "output_type": "stream",
     "text": [
      "Train Loss: 0.4842 Acc: 0.7763\n",
      "Val Loss: 0.7411 Acc: 0.6740\n",
      "\n",
      "Classification Report:\n",
      "              precision    recall  f1-score   support\n",
      "\n",
      "        fake       0.90      0.39      0.54      2389\n",
      "        real       0.61      0.95      0.75      2411\n",
      "\n",
      "    accuracy                           0.67      4800\n",
      "   macro avg       0.75      0.67      0.65      4800\n",
      "weighted avg       0.75      0.67      0.65      4800\n",
      "\n",
      "Epoch 2/11\n"
     ]
    },
    {
     "name": "stderr",
     "output_type": "stream",
     "text": [
      "/opt/conda/lib/python3.10/site-packages/PIL/Image.py:1056: UserWarning: Palette images with Transparency expressed in bytes should be converted to RGBA images\n",
      "  warnings.warn(\n"
     ]
    },
    {
     "name": "stdout",
     "output_type": "stream",
     "text": [
      "Train Loss: 0.3957 Acc: 0.8245\n",
      "Val Loss: 0.3954 Acc: 0.8277\n",
      "\n",
      "Classification Report:\n",
      "              precision    recall  f1-score   support\n",
      "\n",
      "        fake       0.81      0.86      0.83      2389\n",
      "        real       0.85      0.80      0.82      2411\n",
      "\n",
      "    accuracy                           0.83      4800\n",
      "   macro avg       0.83      0.83      0.83      4800\n",
      "weighted avg       0.83      0.83      0.83      4800\n",
      "\n",
      "Epoch 3/11\n"
     ]
    },
    {
     "name": "stderr",
     "output_type": "stream",
     "text": [
      "/opt/conda/lib/python3.10/site-packages/PIL/Image.py:1056: UserWarning: Palette images with Transparency expressed in bytes should be converted to RGBA images\n",
      "  warnings.warn(\n"
     ]
    },
    {
     "name": "stdout",
     "output_type": "stream",
     "text": [
      "Train Loss: 0.3527 Acc: 0.8491\n",
      "Val Loss: 0.4432 Acc: 0.8038\n",
      "\n",
      "Classification Report:\n",
      "              precision    recall  f1-score   support\n",
      "\n",
      "        fake       0.74      0.94      0.83      2389\n",
      "        real       0.92      0.67      0.77      2411\n",
      "\n",
      "    accuracy                           0.80      4800\n",
      "   macro avg       0.83      0.80      0.80      4800\n",
      "weighted avg       0.83      0.80      0.80      4800\n",
      "\n",
      "Early stopping trigger count: 1/3\n",
      "Epoch 4/11\n"
     ]
    },
    {
     "name": "stderr",
     "output_type": "stream",
     "text": [
      "/opt/conda/lib/python3.10/site-packages/PIL/Image.py:1056: UserWarning: Palette images with Transparency expressed in bytes should be converted to RGBA images\n",
      "  warnings.warn(\n"
     ]
    },
    {
     "name": "stdout",
     "output_type": "stream",
     "text": [
      "Train Loss: 0.3117 Acc: 0.8648\n",
      "Val Loss: 0.3078 Acc: 0.8663\n",
      "\n",
      "Classification Report:\n",
      "              precision    recall  f1-score   support\n",
      "\n",
      "        fake       0.90      0.83      0.86      2389\n",
      "        real       0.84      0.91      0.87      2411\n",
      "\n",
      "    accuracy                           0.87      4800\n",
      "   macro avg       0.87      0.87      0.87      4800\n",
      "weighted avg       0.87      0.87      0.87      4800\n",
      "\n",
      "Epoch 5/11\n"
     ]
    },
    {
     "name": "stderr",
     "output_type": "stream",
     "text": [
      "/opt/conda/lib/python3.10/site-packages/PIL/Image.py:1056: UserWarning: Palette images with Transparency expressed in bytes should be converted to RGBA images\n",
      "  warnings.warn(\n"
     ]
    },
    {
     "name": "stdout",
     "output_type": "stream",
     "text": [
      "Train Loss: 0.2870 Acc: 0.8802\n",
      "Val Loss: 0.3164 Acc: 0.8665\n",
      "\n",
      "Classification Report:\n",
      "              precision    recall  f1-score   support\n",
      "\n",
      "        fake       0.90      0.82      0.86      2389\n",
      "        real       0.84      0.91      0.87      2411\n",
      "\n",
      "    accuracy                           0.87      4800\n",
      "   macro avg       0.87      0.87      0.87      4800\n",
      "weighted avg       0.87      0.87      0.87      4800\n",
      "\n",
      "Early stopping trigger count: 1/3\n",
      "Epoch 6/11\n"
     ]
    },
    {
     "name": "stderr",
     "output_type": "stream",
     "text": [
      "/opt/conda/lib/python3.10/site-packages/PIL/Image.py:1056: UserWarning: Palette images with Transparency expressed in bytes should be converted to RGBA images\n",
      "  warnings.warn(\n"
     ]
    },
    {
     "name": "stdout",
     "output_type": "stream",
     "text": [
      "Train Loss: 0.2762 Acc: 0.8843\n",
      "Val Loss: 0.2910 Acc: 0.8815\n",
      "\n",
      "Classification Report:\n",
      "              precision    recall  f1-score   support\n",
      "\n",
      "        fake       0.88      0.88      0.88      2389\n",
      "        real       0.88      0.89      0.88      2411\n",
      "\n",
      "    accuracy                           0.88      4800\n",
      "   macro avg       0.88      0.88      0.88      4800\n",
      "weighted avg       0.88      0.88      0.88      4800\n",
      "\n",
      "Epoch 7/11\n"
     ]
    },
    {
     "name": "stderr",
     "output_type": "stream",
     "text": [
      "/opt/conda/lib/python3.10/site-packages/PIL/Image.py:1056: UserWarning: Palette images with Transparency expressed in bytes should be converted to RGBA images\n",
      "  warnings.warn(\n"
     ]
    },
    {
     "name": "stdout",
     "output_type": "stream",
     "text": [
      "Train Loss: 0.2683 Acc: 0.8884\n",
      "Val Loss: 0.2893 Acc: 0.8733\n",
      "\n",
      "Classification Report:\n",
      "              precision    recall  f1-score   support\n",
      "\n",
      "        fake       0.89      0.85      0.87      2389\n",
      "        real       0.86      0.89      0.88      2411\n",
      "\n",
      "    accuracy                           0.87      4800\n",
      "   macro avg       0.87      0.87      0.87      4800\n",
      "weighted avg       0.87      0.87      0.87      4800\n",
      "\n",
      "Epoch 8/11\n"
     ]
    },
    {
     "name": "stderr",
     "output_type": "stream",
     "text": [
      "/opt/conda/lib/python3.10/site-packages/PIL/Image.py:1056: UserWarning: Palette images with Transparency expressed in bytes should be converted to RGBA images\n",
      "  warnings.warn(\n"
     ]
    },
    {
     "name": "stdout",
     "output_type": "stream",
     "text": [
      "Train Loss: 0.2620 Acc: 0.8889\n",
      "Val Loss: 0.2829 Acc: 0.8800\n",
      "\n",
      "Classification Report:\n",
      "              precision    recall  f1-score   support\n",
      "\n",
      "        fake       0.89      0.87      0.88      2389\n",
      "        real       0.87      0.89      0.88      2411\n",
      "\n",
      "    accuracy                           0.88      4800\n",
      "   macro avg       0.88      0.88      0.88      4800\n",
      "weighted avg       0.88      0.88      0.88      4800\n",
      "\n",
      "Epoch 9/11\n"
     ]
    },
    {
     "name": "stderr",
     "output_type": "stream",
     "text": [
      "/opt/conda/lib/python3.10/site-packages/PIL/Image.py:1056: UserWarning: Palette images with Transparency expressed in bytes should be converted to RGBA images\n",
      "  warnings.warn(\n"
     ]
    },
    {
     "name": "stdout",
     "output_type": "stream",
     "text": [
      "Train Loss: 0.2615 Acc: 0.8899\n",
      "Val Loss: 0.2828 Acc: 0.8802\n",
      "\n",
      "Classification Report:\n",
      "              precision    recall  f1-score   support\n",
      "\n",
      "        fake       0.88      0.88      0.88      2389\n",
      "        real       0.88      0.88      0.88      2411\n",
      "\n",
      "    accuracy                           0.88      4800\n",
      "   macro avg       0.88      0.88      0.88      4800\n",
      "weighted avg       0.88      0.88      0.88      4800\n",
      "\n",
      "Epoch 10/11\n"
     ]
    },
    {
     "name": "stderr",
     "output_type": "stream",
     "text": [
      "/opt/conda/lib/python3.10/site-packages/PIL/Image.py:1056: UserWarning: Palette images with Transparency expressed in bytes should be converted to RGBA images\n",
      "  warnings.warn(\n"
     ]
    },
    {
     "name": "stdout",
     "output_type": "stream",
     "text": [
      "Train Loss: 0.2592 Acc: 0.8906\n",
      "Val Loss: 0.2811 Acc: 0.8800\n",
      "\n",
      "Classification Report:\n",
      "              precision    recall  f1-score   support\n",
      "\n",
      "        fake       0.89      0.86      0.88      2389\n",
      "        real       0.87      0.90      0.88      2411\n",
      "\n",
      "    accuracy                           0.88      4800\n",
      "   macro avg       0.88      0.88      0.88      4800\n",
      "weighted avg       0.88      0.88      0.88      4800\n",
      "\n",
      "Epoch 11/11\n"
     ]
    },
    {
     "name": "stderr",
     "output_type": "stream",
     "text": [
      "/opt/conda/lib/python3.10/site-packages/PIL/Image.py:1056: UserWarning: Palette images with Transparency expressed in bytes should be converted to RGBA images\n",
      "  warnings.warn(\n"
     ]
    },
    {
     "name": "stdout",
     "output_type": "stream",
     "text": [
      "Train Loss: 0.2600 Acc: 0.8928\n",
      "Val Loss: 0.2833 Acc: 0.8823\n",
      "\n",
      "Classification Report:\n",
      "              precision    recall  f1-score   support\n",
      "\n",
      "        fake       0.89      0.88      0.88      2389\n",
      "        real       0.88      0.89      0.88      2411\n",
      "\n",
      "    accuracy                           0.88      4800\n",
      "   macro avg       0.88      0.88      0.88      4800\n",
      "weighted avg       0.88      0.88      0.88      4800\n",
      "\n",
      "Early stopping trigger count: 1/3\n",
      "Best Validation Accuracy: 0.0000\n",
      "Best Validation loss: 0.2811\n"
     ]
    }
   ],
   "source": [
    "for epoch in range(epochs):\n",
    "    print(f\"Epoch {epoch+1}/{epochs}\")\n",
    "\n",
    "    # Training phase\n",
    "    model.train()\n",
    "    running_loss = 0.0\n",
    "    running_corrects = 0\n",
    "\n",
    "    for inputs, labels in train_loader:\n",
    "        inputs, labels = inputs.to(device), labels.to(device)\n",
    "\n",
    "        # Zero the parameter gradients\n",
    "        optimizer.zero_grad()\n",
    "\n",
    "        # Forward pass\n",
    "        outputs = model(inputs)\n",
    "        _, preds = torch.max(outputs, 1)\n",
    "        loss = criterion(outputs, labels)\n",
    "\n",
    "        # Backward pass and optimization\n",
    "        loss.backward()\n",
    "        optimizer.step()\n",
    "\n",
    "        # Track loss and accuracy\n",
    "        running_loss += loss.item() * inputs.size(0)\n",
    "        running_corrects += torch.sum(preds == labels.data)\n",
    "\n",
    "    epoch_loss = running_loss / len(train_dataset)\n",
    "    epoch_acc = running_corrects.double() / len(train_dataset)\n",
    "\n",
    "    train_losses.append(epoch_loss)\n",
    "    train_accuracies.append(epoch_acc.item())\n",
    "    \n",
    "    print(f\"Train Loss: {epoch_loss:.4f} Acc: {epoch_acc:.4f}\")\n",
    "\n",
    "    # Validation phase\n",
    "    model.eval()\n",
    "    val_loss = 0.0\n",
    "    val_corrects = 0\n",
    "    all_preds = []\n",
    "    all_labels = []\n",
    "\n",
    "    with torch.no_grad():\n",
    "        for inputs, labels in val_loader:\n",
    "            inputs, labels = inputs.to(device), labels.to(device)\n",
    "\n",
    "            outputs = model(inputs)\n",
    "            _, preds = torch.max(outputs, 1)\n",
    "            loss = criterion(outputs, labels)\n",
    "\n",
    "            val_loss += loss.item() * inputs.size(0)\n",
    "            val_corrects += torch.sum(preds == labels.data)\n",
    "\n",
    "            # Store predictions and labels for metrics\n",
    "            all_preds.extend(preds.cpu().numpy())\n",
    "            all_labels.extend(labels.cpu().numpy())\n",
    "\n",
    "    val_loss = val_loss / len(val_dataset)\n",
    "    val_acc = val_corrects.double() / len(val_dataset)\n",
    "\n",
    "    val_losses.append(val_loss)\n",
    "    val_accuracies.append(val_acc.item())\n",
    "\n",
    "    print(f\"Val Loss: {val_loss:.4f} Acc: {val_acc:.4f}\")\n",
    "\n",
    "    # Precision, Recall, F1-Score\n",
    "    print(\"\\nClassification Report:\")\n",
    "    print(classification_report(all_labels, all_preds, target_names=dataset.classes))\n",
    "\n",
    "    if val_acc < best_val_acc:\n",
    "        best_val_acc = val_acc\n",
    "    \n",
    "    # Save the best model\n",
    "    if val_loss < best_val_loss:\n",
    "        best_val_loss = val_loss\n",
    "        torch.save(model.state_dict(), f'best_model{epoch}.pth')\n",
    "        trigger_times = 0  # Reset early stopping counter\n",
    "    else:\n",
    "        trigger_times += 1\n",
    "        print(f\"Early stopping trigger count: {trigger_times}/{patience}\")\n",
    "        if trigger_times >= patience:\n",
    "            print(\"Early stopping...\")\n",
    "            break\n",
    "\n",
    "    # Step the scheduler\n",
    "    scheduler.step()\n",
    "\n",
    "print(f'Best Validation Accuracy: {best_val_acc:.4f}')\n",
    "print(f'Best Validation loss: {best_val_loss:.4f}')\n"
   ]
  },
  {
   "cell_type": "code",
   "execution_count": 13,
   "id": "dd1ffd17",
   "metadata": {
    "execution": {
     "iopub.execute_input": "2024-11-30T12:50:52.479431Z",
     "iopub.status.busy": "2024-11-30T12:50:52.479142Z",
     "iopub.status.idle": "2024-11-30T12:50:52.823139Z",
     "shell.execute_reply": "2024-11-30T12:50:52.822277Z"
    },
    "papermill": {
     "duration": 0.351973,
     "end_time": "2024-11-30T12:50:52.824845",
     "exception": false,
     "start_time": "2024-11-30T12:50:52.472872",
     "status": "completed"
    },
    "tags": []
   },
   "outputs": [
    {
     "data": {
      "image/png": "[encoded data removed]",
      "text/plain": [
       "<Figure size 1000x500 with 1 Axes>"
      ]
     },
     "metadata": {},
     "output_type": "display_data"
    },
    {
     "data": {
      "image/png": "[encoded data removed]",
      "text/plain": [
       "<Figure size 1000x500 with 1 Axes>"
      ]
     },
     "metadata": {},
     "output_type": "display_data"
    }
   ],
   "source": [
    "# Plot Loss\n",
    "plt.figure(figsize=(10, 5))\n",
    "plt.plot(range(1, epochs + 1), train_losses, label='Training Loss')\n",
    "plt.plot(range(1, epochs + 1), val_losses, label='Validation Loss')\n",
    "plt.title('Training and Validation Loss')\n",
    "plt.xlabel('Epochs')\n",
    "plt.ylabel('Loss')\n",
    "plt.legend()\n",
    "plt.show()\n",
    "\n",
    "# Plot Accuracy\n",
    "plt.figure(figsize=(10, 5))\n",
    "plt.plot(range(1, epochs + 1), train_accuracies, label='Training Accuracy')\n",
    "plt.plot(range(1, epochs + 1), val_accuracies, label='Validation Accuracy')\n",
    "plt.title('Training and Validation Accuracy')\n",
    "plt.xlabel('Epochs')\n",
    "plt.ylabel('Accuracy')\n",
    "plt.legend()\n",
    "plt.show()\n"
   ]
  },
  {
   "cell_type": "code",
   "execution_count": null,
   "id": "fc6eb06d",
   "metadata": {
    "papermill": {
     "duration": 0.006303,
     "end_time": "2024-11-30T12:50:52.837604",
     "exception": false,
     "start_time": "2024-11-30T12:50:52.831301",
     "status": "completed"
    },
    "tags": []
   },
   "outputs": [],
   "source": []
  }
 ],
 "metadata": {
  "kaggle": {
   "accelerator": "gpu",
   "dataSources": [
    {
     "datasetId": 5070657,
     "sourceId": 8497982,
     "sourceType": "datasetVersion"
    }
   ],
   "dockerImageVersionId": 30786,
   "isGpuEnabled": true,
   "isInternetEnabled": true,
   "language": "python",
   "sourceType": "notebook"
  },
  "kernelspec": {
   "display_name": "Python 3",
   "language": "python",
   "name": "python3"
  },
  "language_info": {
   "codemirror_mode": {
    "name": "ipython",
    "version": 3
   },
   "file_extension": ".py",
   "mimetype": "text/x-python",
   "name": "python",
   "nbconvert_exporter": "python",
   "pygments_lexer": "ipython3",
   "version": "3.10.14"
  },
  "papermill": {
   "default_parameters": {},
   "duration": 41271.626288,
   "end_time": "2024-11-30T12:50:55.083363",
   "environment_variables": {},
   "exception": null,
   "input_path": "__notebook__.ipynb",
   "output_path": "__notebook__.ipynb",
   "parameters": {},
   "start_time": "2024-11-30T01:23:03.457075",
   "version": "2.6.0"
  }
 },
 "nbformat": 4,
 "nbformat_minor": 5
}
