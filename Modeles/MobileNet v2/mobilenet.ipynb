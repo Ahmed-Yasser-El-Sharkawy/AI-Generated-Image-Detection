{
 "cells": [
  {
   "cell_type": "code",
   "execution_count": 1,
   "id": "05164fbf",
   "metadata": {
    "_cell_guid": "b1076dfc-b9ad-4769-8c92-a6c4dae69d19",
    "_uuid": "8f2839f25d086af736a60e9eeb907d3b93b6e0e5",
    "execution": {
     "iopub.execute_input": "2025-02-08T20:08:27.984610Z",
     "iopub.status.busy": "2025-02-08T20:08:27.984322Z",
     "iopub.status.idle": "2025-02-08T20:08:37.346139Z",
     "shell.execute_reply": "2025-02-08T20:08:37.345172Z"
    },
    "papermill": {
     "duration": 9.368645,
     "end_time": "2025-02-08T20:08:37.347938",
     "exception": false,
     "start_time": "2025-02-08T20:08:27.979293",
     "status": "completed"
    },
    "tags": []
   },
   "outputs": [],
   "source": [
    "# This Python 3 environment comes with many helpful analytics libraries installed\n",
    "# It is defined by the kaggle/python Docker image: https://github.com/kaggle/docker-python\n",
    "\n",
    "import numpy as np \n",
    "import pandas as pd \n",
    "import os\n",
    "import torch\n",
    "from torch import nn, optim\n",
    "from torchvision import datasets, transforms, models\n",
    "from torch.utils.data import DataLoader, random_split\n",
    "from sklearn.metrics import classification_report, confusion_matrix\n",
    "import os\n",
    "from PIL import Image, ImageFile\n",
    "import warnings\n",
    "\n",
    "with warnings.catch_warnings():\n",
    "    warnings.simplefilter(\"ignore\", Image.DecompressionBombWarning)"
   ]
  },
  {
   "cell_type": "code",
   "execution_count": 2,
   "id": "90d0fcef",
   "metadata": {
    "execution": {
     "iopub.execute_input": "2025-02-08T20:08:37.355560Z",
     "iopub.status.busy": "2025-02-08T20:08:37.355200Z",
     "iopub.status.idle": "2025-02-08T20:16:08.166444Z",
     "shell.execute_reply": "2025-02-08T20:16:08.165663Z"
    },
    "papermill": {
     "duration": 450.816764,
     "end_time": "2025-02-08T20:16:08.168186",
     "exception": false,
     "start_time": "2025-02-08T20:08:37.351422",
     "status": "completed"
    },
    "tags": []
   },
   "outputs": [],
   "source": [
    "import torch\n",
    "from torch import nn, optim\n",
    "from torchvision import datasets, transforms, models\n",
    "from torch.utils.data import DataLoader, random_split\n",
    "from sklearn.metrics import classification_report, confusion_matrix\n",
    "import os\n",
    "from PIL import Image, ImageFile\n",
    "import warnings\n",
    "\n",
    "with warnings.catch_warnings():\n",
    "    warnings.simplefilter(\"ignore\", Image.DecompressionBombWarning)\n",
    "\n",
    "\n",
    "\n",
    "# Define dataset path\n",
    "data_dir = '/kaggle/input/ai-generated-images-vs-real-images/train'\n",
    "\n",
    "\n",
    "\n",
    "Image.MAX_IMAGE_PIXELS = None  \n",
    "# or\n",
    "Image.MAX_IMAGE_PIXELS = 200000000  \n",
    "\n",
    "\n",
    "def convert_to_rgb(image):\n",
    "    if image.mode == 'P':  \n",
    "        image = image.convert(\"RGBA\")  \n",
    "    if image.mode == \"RGBA\":  \n",
    "        background = Image.new(\"RGB\", image.size, (255, 255, 255))\n",
    "        image = Image.alpha_composite(background, image).convert(\"RGB\")\n",
    "    elif image.mode != \"RGB\":\n",
    "        image = image.convert(\"RGB\") \n",
    "    return image\n",
    "\n",
    "\n",
    "\n",
    "def resize_large_image(image, max_size):\n",
    "    if image.size[0] > max_size[0] or image.size[1] > max_size[1]:\n",
    "        image.thumbnail(max_size, Image.Resampling.LANCZOS)  \n",
    "    return image\n",
    "\n",
    "\n",
    "train_transform = transforms.Compose([\n",
    "    transforms.Lambda(lambda img: resize_large_image(img, max_size=(5000, 5000))),  \n",
    "    transforms.Lambda(convert_to_rgb),               \n",
    "    transforms.RandomResizedCrop(224),               \n",
    "    transforms.RandomHorizontalFlip(p=0.5),          \n",
    "    transforms.RandomVerticalFlip(p=0.2),            \n",
    "    transforms.RandomRotation(degrees=15),           \n",
    "    transforms.ColorJitter(brightness=0.2, contrast=0.2, saturation=0.2, hue=0.1),  \n",
    "    transforms.ToTensor(),                           # Convert to tensor\n",
    "    transforms.Normalize([0.485, 0.456, 0.406], [0.229, 0.224, 0.225])  \n",
    "])\n",
    "\n",
    "\n",
    "\n",
    "val_transform = transforms.Compose([\n",
    "    transforms.Lambda(convert_to_rgb),  \n",
    "    transforms.Resize((224, 224)),      \n",
    "    transforms.ToTensor(),             \n",
    "    transforms.Normalize([0.485, 0.456, 0.406], [0.229, 0.224, 0.225])  \n",
    "])\n",
    "\n",
    "\n",
    "ImageFile.LOAD_TRUNCATED_IMAGES = True\n",
    "\n",
    "\n",
    "MIN_IMAGE_FILE_SIZE = 3284  \n",
    "\n",
    "\n",
    "def is_valid_image(file_path):\n",
    "    try:\n",
    "        if os.path.getsize(file_path) < MIN_IMAGE_FILE_SIZE:\n",
    "            return False\n",
    "        \n",
    "        with Image.open(file_path) as img:\n",
    "            img.verify()  \n",
    "        return True\n",
    "    except (OSError, Image.DecompressionBombError):\n",
    "        return False\n",
    "\n",
    "\n",
    "class ValidImageFolder(datasets.ImageFolder):\n",
    "    def __init__(self, root, transform=None):\n",
    "        super().__init__(root, transform)\n",
    "        self.samples = [(path, label) for path, label in self.samples if is_valid_image(path)]\n",
    "        self.targets = [label for _, label in self.samples]\n",
    "\n",
    "\n",
    "dataset = ValidImageFolder(root=data_dir, transform=train_transform)"
   ]
  },
  {
   "cell_type": "code",
   "execution_count": 3,
   "id": "9f153033",
   "metadata": {
    "execution": {
     "iopub.execute_input": "2025-02-08T20:16:08.176091Z",
     "iopub.status.busy": "2025-02-08T20:16:08.175799Z",
     "iopub.status.idle": "2025-02-08T20:16:08.199431Z",
     "shell.execute_reply": "2025-02-08T20:16:08.198667Z"
    },
    "papermill": {
     "duration": 0.028809,
     "end_time": "2025-02-08T20:16:08.200769",
     "exception": false,
     "start_time": "2025-02-08T20:16:08.171960",
     "status": "completed"
    },
    "tags": []
   },
   "outputs": [
    {
     "name": "stdout",
     "output_type": "stream",
     "text": [
      "Original Dataset Size: 47998\n",
      "Balanced Subset Size: 15999 (Fake: 8000, Real: 7999)\n"
     ]
    }
   ],
   "source": [
    "from torch.utils.data import Subset\n",
    "\n",
    "fake_indices = [i for i, (_, label) in enumerate(dataset.samples) if label == dataset.class_to_idx['fake']]\n",
    "real_indices = [i for i, (_, label) in enumerate(dataset.samples) if label == dataset.class_to_idx['real']]\n",
    "\n",
    "\n",
    "fake_subset_size = int(1.0/3.0 * len(fake_indices))\n",
    "real_subset_size = int(1.0/3.0 * len(real_indices))\n",
    "\n",
    "fake_subset_indices = fake_indices[:fake_subset_size]  \n",
    "real_subset_indices = real_indices[:real_subset_size]  \n",
    "\n",
    "balanced_subset_indices = np.concatenate((fake_subset_indices, real_subset_indices))\n",
    "\n",
    "balanced_subset = Subset(dataset, balanced_subset_indices)\n",
    "\n",
    "print(f\"Original Dataset Size: {len(dataset)}\")\n",
    "print(f\"Balanced Subset Size: {len(balanced_subset)} (Fake: {fake_subset_size}, Real: {real_subset_size})\")\n"
   ]
  },
  {
   "cell_type": "code",
   "execution_count": 4,
   "id": "f22b49b0",
   "metadata": {
    "execution": {
     "iopub.execute_input": "2025-02-08T20:16:08.208042Z",
     "iopub.status.busy": "2025-02-08T20:16:08.207789Z",
     "iopub.status.idle": "2025-02-08T20:16:08.275623Z",
     "shell.execute_reply": "2025-02-08T20:16:08.274690Z"
    },
    "papermill": {
     "duration": 0.073152,
     "end_time": "2025-02-08T20:16:08.277226",
     "exception": false,
     "start_time": "2025-02-08T20:16:08.204074",
     "status": "completed"
    },
    "tags": []
   },
   "outputs": [],
   "source": [
    "train_size = int(0.8 * len(balanced_subset))\n",
    "val_size = len(balanced_subset) - train_size\n",
    "train_dataset, val_dataset = random_split(balanced_subset, [train_size, val_size])\n",
    "\n",
    "val_dataset.dataset.transform = val_transform\n",
    "\n",
    "train_loader = DataLoader(train_dataset, batch_size=128, shuffle=True)\n",
    "val_loader = DataLoader(val_dataset, batch_size=128, shuffle=False)"
   ]
  },
  {
   "cell_type": "code",
   "execution_count": 5,
   "id": "4b59deda",
   "metadata": {
    "execution": {
     "iopub.execute_input": "2025-02-08T20:16:08.285164Z",
     "iopub.status.busy": "2025-02-08T20:16:08.284891Z",
     "iopub.status.idle": "2025-02-08T20:16:08.290000Z",
     "shell.execute_reply": "2025-02-08T20:16:08.289106Z"
    },
    "papermill": {
     "duration": 0.010424,
     "end_time": "2025-02-08T20:16:08.291220",
     "exception": false,
     "start_time": "2025-02-08T20:16:08.280796",
     "status": "completed"
    },
    "tags": []
   },
   "outputs": [
    {
     "name": "stdout",
     "output_type": "stream",
     "text": [
      "Train Dataset Size: 12799\n",
      "Validation Dataset Size: 3200\n"
     ]
    }
   ],
   "source": [
    "print(f\"Train Dataset Size: {len(train_dataset)}\")\n",
    "print(f\"Validation Dataset Size: {len(val_dataset)}\")"
   ]
  },
  {
   "cell_type": "code",
   "execution_count": 6,
   "id": "4eeb7d34",
   "metadata": {
    "execution": {
     "iopub.execute_input": "2025-02-08T20:16:08.299130Z",
     "iopub.status.busy": "2025-02-08T20:16:08.298873Z",
     "iopub.status.idle": "2025-02-08T20:16:08.500262Z",
     "shell.execute_reply": "2025-02-08T20:16:08.499404Z"
    },
    "papermill": {
     "duration": 0.206473,
     "end_time": "2025-02-08T20:16:08.501505",
     "exception": false,
     "start_time": "2025-02-08T20:16:08.295032",
     "status": "completed"
    },
    "tags": []
   },
   "outputs": [
    {
     "data": {
      "image/png": "[encoded data removed]",
      "text/plain": [
       "<Figure size 800x600 with 1 Axes>"
      ]
     },
     "metadata": {},
     "output_type": "display_data"
    }
   ],
   "source": [
    "import matplotlib.pyplot as plt\n",
    "\n",
    "train_size = len(train_dataset)\n",
    "val_size = len(val_dataset)\n",
    "\n",
    "labels = ['Training Dataset', 'Validation Dataset']\n",
    "sizes = [train_size, val_size]\n",
    "\n",
    "plt.figure(figsize=(8, 6))\n",
    "plt.bar(labels, sizes, color=['blue', 'orange'], alpha=0.7)\n",
    "\n",
    "for i, size in enumerate(sizes):\n",
    "    plt.text(i, size + 5, str(size), ha='center', fontsize=12)\n",
    "\n",
    "plt.title('Dataset Split Distribution')\n",
    "plt.ylabel('Number of Samples')\n",
    "plt.xlabel('Dataset')\n",
    "plt.ylim(0, max(sizes) + 50)\n",
    "plt.show()"
   ]
  },
  {
   "cell_type": "code",
   "execution_count": 7,
   "id": "2ad9ffc0",
   "metadata": {
    "execution": {
     "iopub.execute_input": "2025-02-08T20:16:08.509808Z",
     "iopub.status.busy": "2025-02-08T20:16:08.509520Z",
     "iopub.status.idle": "2025-02-08T20:16:09.172063Z",
     "shell.execute_reply": "2025-02-08T20:16:09.171111Z"
    },
    "papermill": {
     "duration": 0.668283,
     "end_time": "2025-02-08T20:16:09.173706",
     "exception": false,
     "start_time": "2025-02-08T20:16:08.505423",
     "status": "completed"
    },
    "tags": []
   },
   "outputs": [
    {
     "name": "stderr",
     "output_type": "stream",
     "text": [
      "Downloading: \"https://download.pytorch.org/models/mobilenet_v2-7ebf99e0.pth\" to /root/.cache/torch/hub/checkpoints/mobilenet_v2-7ebf99e0.pth\n",
      "100%|██████████| 13.6M/13.6M [00:00<00:00, 88.1MB/s]\n"
     ]
    }
   ],
   "source": [
    "model = models.mobilenet_v2(weights=models.MobileNet_V2_Weights.DEFAULT)\n",
    "num_ftrs = model.classifier[1].in_features\n",
    "model.classifier[1] = nn.Linear(num_ftrs, 2)\n",
    "device = torch.device(\"cuda\" if torch.cuda.is_available() else \"cpu\")\n",
    "model = model.to(device)"
   ]
  },
  {
   "cell_type": "code",
   "execution_count": 8,
   "id": "0e2f70eb",
   "metadata": {
    "execution": {
     "iopub.execute_input": "2025-02-08T20:16:09.182784Z",
     "iopub.status.busy": "2025-02-08T20:16:09.182496Z",
     "iopub.status.idle": "2025-02-08T20:16:09.187137Z",
     "shell.execute_reply": "2025-02-08T20:16:09.186484Z"
    },
    "papermill": {
     "duration": 0.010354,
     "end_time": "2025-02-08T20:16:09.188348",
     "exception": false,
     "start_time": "2025-02-08T20:16:09.177994",
     "status": "completed"
    },
    "tags": []
   },
   "outputs": [],
   "source": [
    "from torch.optim.lr_scheduler import StepLR\n",
    "\n",
    "optimizer = optim.Adam(model.parameters(), lr=0.001)\n",
    "criterion = nn.CrossEntropyLoss()\n",
    "\n",
    "scheduler = StepLR(optimizer, step_size=3, gamma=0.1)"
   ]
  },
  {
   "cell_type": "code",
   "execution_count": 9,
   "id": "e46b7082",
   "metadata": {
    "execution": {
     "iopub.execute_input": "2025-02-08T20:16:09.196875Z",
     "iopub.status.busy": "2025-02-08T20:16:09.196624Z",
     "iopub.status.idle": "2025-02-08T20:16:09.199787Z",
     "shell.execute_reply": "2025-02-08T20:16:09.199144Z"
    },
    "papermill": {
     "duration": 0.00862,
     "end_time": "2025-02-08T20:16:09.200957",
     "exception": false,
     "start_time": "2025-02-08T20:16:09.192337",
     "status": "completed"
    },
    "tags": []
   },
   "outputs": [],
   "source": [
    "patience = 6\n",
    "trigger_times = 0\n",
    "best_val_loss = float('inf')"
   ]
  },
  {
   "cell_type": "code",
   "execution_count": 10,
   "id": "bc976191",
   "metadata": {
    "execution": {
     "iopub.execute_input": "2025-02-08T20:16:09.209412Z",
     "iopub.status.busy": "2025-02-08T20:16:09.209205Z",
     "iopub.status.idle": "2025-02-08T20:16:09.212305Z",
     "shell.execute_reply": "2025-02-08T20:16:09.211752Z"
    },
    "papermill": {
     "duration": 0.008664,
     "end_time": "2025-02-08T20:16:09.213478",
     "exception": false,
     "start_time": "2025-02-08T20:16:09.204814",
     "status": "completed"
    },
    "tags": []
   },
   "outputs": [],
   "source": [
    "epochs = 8\n",
    "best_val_acc = 0.0\n",
    "\n",
    "data={\n",
    "    \"train_losses\" : [],\n",
    "    \"train_accuracies\" : [],\n",
    "    \"val_losses\" : [],\n",
    "    \"val_accuracies\" : [],\n",
    "}"
   ]
  },
  {
   "cell_type": "code",
   "execution_count": 11,
   "id": "7e507400",
   "metadata": {
    "execution": {
     "iopub.execute_input": "2025-02-08T20:16:09.222561Z",
     "iopub.status.busy": "2025-02-08T20:16:09.222271Z",
     "iopub.status.idle": "2025-02-09T03:33:18.303454Z",
     "shell.execute_reply": "2025-02-09T03:33:18.302533Z"
    },
    "papermill": {
     "duration": 26229.092287,
     "end_time": "2025-02-09T03:33:18.309882",
     "exception": false,
     "start_time": "2025-02-08T20:16:09.217595",
     "status": "completed"
    },
    "tags": []
   },
   "outputs": [
    {
     "name": "stdout",
     "output_type": "stream",
     "text": [
      "Epoch 1/8\n"
     ]
    },
    {
     "name": "stderr",
     "output_type": "stream",
     "text": [
      "/usr/local/lib/python3.10/dist-packages/PIL/Image.py:1054: UserWarning: Palette images with Transparency expressed in bytes should be converted to RGBA images\n",
      "  warnings.warn(\n"
     ]
    },
    {
     "name": "stdout",
     "output_type": "stream",
     "text": [
      "Train Loss: 0.3580 Acc: 0.8484\n",
      "Val Loss: 0.3029 Acc: 0.8778\n",
      "\n",
      "Classification Report:\n",
      "              precision    recall  f1-score   support\n",
      "\n",
      "        fake       0.91      0.84      0.87      1587\n",
      "        real       0.85      0.92      0.88      1613\n",
      "\n",
      "    accuracy                           0.88      3200\n",
      "   macro avg       0.88      0.88      0.88      3200\n",
      "weighted avg       0.88      0.88      0.88      3200\n",
      "\n",
      "Epoch 2/8\n"
     ]
    },
    {
     "name": "stderr",
     "output_type": "stream",
     "text": [
      "/usr/local/lib/python3.10/dist-packages/PIL/Image.py:1054: UserWarning: Palette images with Transparency expressed in bytes should be converted to RGBA images\n",
      "  warnings.warn(\n"
     ]
    },
    {
     "name": "stdout",
     "output_type": "stream",
     "text": [
      "Train Loss: 0.2872 Acc: 0.8794\n",
      "Val Loss: 0.3265 Acc: 0.8659\n",
      "\n",
      "Classification Report:\n",
      "              precision    recall  f1-score   support\n",
      "\n",
      "        fake       0.85      0.89      0.87      1587\n",
      "        real       0.89      0.84      0.86      1613\n",
      "\n",
      "    accuracy                           0.87      3200\n",
      "   macro avg       0.87      0.87      0.87      3200\n",
      "weighted avg       0.87      0.87      0.87      3200\n",
      "\n",
      "Early stopping trigger count: 1/6\n",
      "Epoch 3/8\n"
     ]
    },
    {
     "name": "stderr",
     "output_type": "stream",
     "text": [
      "/usr/local/lib/python3.10/dist-packages/PIL/Image.py:1054: UserWarning: Palette images with Transparency expressed in bytes should be converted to RGBA images\n",
      "  warnings.warn(\n"
     ]
    },
    {
     "name": "stdout",
     "output_type": "stream",
     "text": [
      "Train Loss: 0.2616 Acc: 0.8951\n",
      "Val Loss: 0.2853 Acc: 0.8788\n",
      "\n",
      "Classification Report:\n",
      "              precision    recall  f1-score   support\n",
      "\n",
      "        fake       0.86      0.90      0.88      1587\n",
      "        real       0.90      0.86      0.88      1613\n",
      "\n",
      "    accuracy                           0.88      3200\n",
      "   macro avg       0.88      0.88      0.88      3200\n",
      "weighted avg       0.88      0.88      0.88      3200\n",
      "\n",
      "Epoch 4/8\n"
     ]
    },
    {
     "name": "stderr",
     "output_type": "stream",
     "text": [
      "/usr/local/lib/python3.10/dist-packages/PIL/Image.py:1054: UserWarning: Palette images with Transparency expressed in bytes should be converted to RGBA images\n",
      "  warnings.warn(\n"
     ]
    },
    {
     "name": "stdout",
     "output_type": "stream",
     "text": [
      "Train Loss: 0.2131 Acc: 0.9137\n",
      "Val Loss: 0.2317 Acc: 0.9047\n",
      "\n",
      "Classification Report:\n",
      "              precision    recall  f1-score   support\n",
      "\n",
      "        fake       0.91      0.89      0.90      1587\n",
      "        real       0.90      0.92      0.91      1613\n",
      "\n",
      "    accuracy                           0.90      3200\n",
      "   macro avg       0.90      0.90      0.90      3200\n",
      "weighted avg       0.90      0.90      0.90      3200\n",
      "\n",
      "Epoch 5/8\n"
     ]
    },
    {
     "name": "stderr",
     "output_type": "stream",
     "text": [
      "/usr/local/lib/python3.10/dist-packages/PIL/Image.py:1054: UserWarning: Palette images with Transparency expressed in bytes should be converted to RGBA images\n",
      "  warnings.warn(\n"
     ]
    },
    {
     "name": "stdout",
     "output_type": "stream",
     "text": [
      "Train Loss: 0.1864 Acc: 0.9225\n",
      "Val Loss: 0.2350 Acc: 0.9038\n",
      "\n",
      "Classification Report:\n",
      "              precision    recall  f1-score   support\n",
      "\n",
      "        fake       0.91      0.89      0.90      1587\n",
      "        real       0.90      0.91      0.91      1613\n",
      "\n",
      "    accuracy                           0.90      3200\n",
      "   macro avg       0.90      0.90      0.90      3200\n",
      "weighted avg       0.90      0.90      0.90      3200\n",
      "\n",
      "Early stopping trigger count: 1/6\n",
      "Epoch 6/8\n"
     ]
    },
    {
     "name": "stderr",
     "output_type": "stream",
     "text": [
      "/usr/local/lib/python3.10/dist-packages/PIL/Image.py:1054: UserWarning: Palette images with Transparency expressed in bytes should be converted to RGBA images\n",
      "  warnings.warn(\n"
     ]
    },
    {
     "name": "stdout",
     "output_type": "stream",
     "text": [
      "Train Loss: 0.1655 Acc: 0.9336\n",
      "Val Loss: 0.2223 Acc: 0.9078\n",
      "\n",
      "Classification Report:\n",
      "              precision    recall  f1-score   support\n",
      "\n",
      "        fake       0.91      0.90      0.91      1587\n",
      "        real       0.90      0.92      0.91      1613\n",
      "\n",
      "    accuracy                           0.91      3200\n",
      "   macro avg       0.91      0.91      0.91      3200\n",
      "weighted avg       0.91      0.91      0.91      3200\n",
      "\n",
      "Epoch 7/8\n"
     ]
    },
    {
     "name": "stderr",
     "output_type": "stream",
     "text": [
      "/usr/local/lib/python3.10/dist-packages/PIL/Image.py:1054: UserWarning: Palette images with Transparency expressed in bytes should be converted to RGBA images\n",
      "  warnings.warn(\n"
     ]
    },
    {
     "name": "stdout",
     "output_type": "stream",
     "text": [
      "Train Loss: 0.1648 Acc: 0.9322\n",
      "Val Loss: 0.2160 Acc: 0.9103\n",
      "\n",
      "Classification Report:\n",
      "              precision    recall  f1-score   support\n",
      "\n",
      "        fake       0.92      0.89      0.91      1587\n",
      "        real       0.90      0.93      0.91      1613\n",
      "\n",
      "    accuracy                           0.91      3200\n",
      "   macro avg       0.91      0.91      0.91      3200\n",
      "weighted avg       0.91      0.91      0.91      3200\n",
      "\n",
      "Epoch 8/8\n"
     ]
    },
    {
     "name": "stderr",
     "output_type": "stream",
     "text": [
      "/usr/local/lib/python3.10/dist-packages/PIL/Image.py:1054: UserWarning: Palette images with Transparency expressed in bytes should be converted to RGBA images\n",
      "  warnings.warn(\n"
     ]
    },
    {
     "name": "stdout",
     "output_type": "stream",
     "text": [
      "Train Loss: 0.1616 Acc: 0.9353\n",
      "Val Loss: 0.2180 Acc: 0.9103\n",
      "\n",
      "Classification Report:\n",
      "              precision    recall  f1-score   support\n",
      "\n",
      "        fake       0.92      0.90      0.91      1587\n",
      "        real       0.90      0.92      0.91      1613\n",
      "\n",
      "    accuracy                           0.91      3200\n",
      "   macro avg       0.91      0.91      0.91      3200\n",
      "weighted avg       0.91      0.91      0.91      3200\n",
      "\n",
      "Early stopping trigger count: 1/6\n",
      "Best Validation Accuracy: 0.9103\n",
      "Best Validation loss: 0.2160\n"
     ]
    }
   ],
   "source": [
    "for epoch in range(epochs):\n",
    "    print(f\"Epoch {epoch+1}/{epochs}\")\n",
    "\n",
    "    # Training phase\n",
    "    model.train()\n",
    "    running_loss = 0.0\n",
    "    running_corrects = 0\n",
    "\n",
    "    for inputs, labels in train_loader:\n",
    "        inputs, labels = inputs.to(device), labels.to(device)\n",
    "\n",
    "        # Zero the parameter gradients\n",
    "        optimizer.zero_grad()\n",
    "\n",
    "        # Forward pass\n",
    "        outputs = model(inputs)\n",
    "        _, preds = torch.max(outputs, 1)\n",
    "        loss = criterion(outputs, labels)\n",
    "\n",
    "        # Backward pass and optimization\n",
    "        loss.backward()\n",
    "        optimizer.step()\n",
    "\n",
    "        # Track loss and accuracy\n",
    "        running_loss += loss.item() * inputs.size(0)\n",
    "        running_corrects += torch.sum(preds == labels.data)\n",
    "\n",
    "    epoch_loss = running_loss / len(train_dataset)\n",
    "    epoch_acc = running_corrects.double() / len(train_dataset)\n",
    "\n",
    "    data[\"train_losses\"].append(epoch_loss)\n",
    "    data[\"train_accuracies\"].append(epoch_acc.item())\n",
    "    \n",
    "    print(f\"Train Loss: {epoch_loss:.4f} Acc: {epoch_acc:.4f}\")\n",
    "\n",
    "    # Validation phase\n",
    "    model.eval()\n",
    "    val_loss = 0.0\n",
    "    val_corrects = 0\n",
    "    all_preds = []\n",
    "    all_labels = []\n",
    "\n",
    "    with torch.no_grad():\n",
    "        for inputs, labels in val_loader:\n",
    "            inputs, labels = inputs.to(device), labels.to(device)\n",
    "\n",
    "            outputs = model(inputs)\n",
    "            _, preds = torch.max(outputs, 1)\n",
    "            loss = criterion(outputs, labels)\n",
    "\n",
    "            val_loss += loss.item() * inputs.size(0)\n",
    "            val_corrects += torch.sum(preds == labels.data)\n",
    "\n",
    "            # Store predictions and labels for metrics\n",
    "            all_preds.extend(preds.cpu().numpy())\n",
    "            all_labels.extend(labels.cpu().numpy())\n",
    "\n",
    "    val_loss = val_loss / len(val_dataset)\n",
    "    val_acc = val_corrects.double() / len(val_dataset)\n",
    "\n",
    "    data[\"val_losses\"].append(val_loss)\n",
    "    data[\"val_accuracies\"].append(val_acc.item())\n",
    "\n",
    "    print(f\"Val Loss: {val_loss:.4f} Acc: {val_acc:.4f}\")\n",
    "\n",
    "    # Precision, Recall, F1-Score\n",
    "    print(\"\\nClassification Report:\")\n",
    "    print(classification_report(all_labels, all_preds, target_names=dataset.classes))\n",
    "\n",
    "    if val_acc > best_val_acc:\n",
    "        best_val_acc = val_acc\n",
    "    \n",
    "    # Save the best model\n",
    "    if val_loss < best_val_loss:\n",
    "        best_val_loss = val_loss\n",
    "        torch.save(model.state_dict(), f'best_model{epoch}for_mobilnet_sdk_First_training_part.pth')\n",
    "        trigger_times = 0  # Reset early stopping counter\n",
    "    else:\n",
    "        trigger_times += 1\n",
    "        print(f\"Early stopping trigger count: {trigger_times}/{patience}\")\n",
    "        if trigger_times >= patience:\n",
    "            print(\"Early stopping...\")\n",
    "            break\n",
    "\n",
    "    # Step the scheduler\n",
    "    scheduler.step()\n",
    "\n",
    "print(f'Best Validation Accuracy: {best_val_acc:.4f}')\n",
    "print(f'Best Validation loss: {best_val_loss:.4f}')\n"
   ]
  },
  {
   "cell_type": "code",
   "execution_count": 12,
   "id": "cc9d355b",
   "metadata": {
    "execution": {
     "iopub.execute_input": "2025-02-09T03:33:18.321203Z",
     "iopub.status.busy": "2025-02-09T03:33:18.320952Z",
     "iopub.status.idle": "2025-02-09T03:33:18.329025Z",
     "shell.execute_reply": "2025-02-09T03:33:18.328390Z"
    },
    "papermill": {
     "duration": 0.014957,
     "end_time": "2025-02-09T03:33:18.330172",
     "exception": false,
     "start_time": "2025-02-09T03:33:18.315215",
     "status": "completed"
    },
    "tags": []
   },
   "outputs": [],
   "source": [
    "df = pd.DataFrame(data)"
   ]
  },
  {
   "cell_type": "code",
   "execution_count": 13,
   "id": "3471f0f5",
   "metadata": {
    "execution": {
     "iopub.execute_input": "2025-02-09T03:33:18.341944Z",
     "iopub.status.busy": "2025-02-09T03:33:18.341696Z",
     "iopub.status.idle": "2025-02-09T03:33:18.345376Z",
     "shell.execute_reply": "2025-02-09T03:33:18.344553Z"
    },
    "papermill": {
     "duration": 0.010683,
     "end_time": "2025-02-09T03:33:18.346614",
     "exception": false,
     "start_time": "2025-02-09T03:33:18.335931",
     "status": "completed"
    },
    "tags": []
   },
   "outputs": [
    {
     "name": "stdout",
     "output_type": "stream",
     "text": [
      "{'train_losses': [0.3579643191045705, 0.28717249819325025, 0.261627867957588, 0.2131132036447525, 0.18644927096875424, 0.16551517841184743, 0.16475722219564176, 0.1615731157900924], 'train_accuracies': [0.8484256582545512, 0.8794437065395734, 0.8951480584420658, 0.9136651300882881, 0.9224939448394406, 0.9335885616063755, 0.9321822017345105, 0.9353074458942104], 'val_losses': [0.30287290513515475, 0.3264560627937317, 0.2852565610408783, 0.23169731736183166, 0.23497584760189055, 0.22232974588871002, 0.21602358907461167, 0.2180216634273529], 'val_accuracies': [0.8778125, 0.8659375, 0.87875, 0.9046875, 0.90375, 0.9078125, 0.9103125, 0.9103125]}\n"
     ]
    }
   ],
   "source": [
    "print(data)"
   ]
  },
  {
   "cell_type": "code",
   "execution_count": 14,
   "id": "3d329722",
   "metadata": {
    "execution": {
     "iopub.execute_input": "2025-02-09T03:33:18.357685Z",
     "iopub.status.busy": "2025-02-09T03:33:18.357462Z",
     "iopub.status.idle": "2025-02-09T03:33:18.378030Z",
     "shell.execute_reply": "2025-02-09T03:33:18.377307Z"
    },
    "papermill": {
     "duration": 0.027301,
     "end_time": "2025-02-09T03:33:18.379140",
     "exception": false,
     "start_time": "2025-02-09T03:33:18.351839",
     "status": "completed"
    },
    "tags": []
   },
   "outputs": [
    {
     "data": {
      "text/html": [
       "<div>\n",
       "<style scoped>\n",
       "    .dataframe tbody tr th:only-of-type {\n",
       "        vertical-align: middle;\n",
       "    }\n",
       "\n",
       "    .dataframe tbody tr th {\n",
       "        vertical-align: top;\n",
       "    }\n",
       "\n",
       "    .dataframe thead th {\n",
       "        text-align: right;\n",
       "    }\n",
       "</style>\n",
       "<table border=\"1\" class=\"dataframe\">\n",
       "  <thead>\n",
       "    <tr style=\"text-align: right;\">\n",
       "      <th></th>\n",
       "      <th>train_losses</th>\n",
       "      <th>train_accuracies</th>\n",
       "      <th>val_losses</th>\n",
       "      <th>val_accuracies</th>\n",
       "    </tr>\n",
       "  </thead>\n",
       "  <tbody>\n",
       "    <tr>\n",
       "      <th>0</th>\n",
       "      <td>0.357964</td>\n",
       "      <td>0.848426</td>\n",
       "      <td>0.302873</td>\n",
       "      <td>0.877812</td>\n",
       "    </tr>\n",
       "    <tr>\n",
       "      <th>1</th>\n",
       "      <td>0.287172</td>\n",
       "      <td>0.879444</td>\n",
       "      <td>0.326456</td>\n",
       "      <td>0.865938</td>\n",
       "    </tr>\n",
       "    <tr>\n",
       "      <th>2</th>\n",
       "      <td>0.261628</td>\n",
       "      <td>0.895148</td>\n",
       "      <td>0.285257</td>\n",
       "      <td>0.878750</td>\n",
       "    </tr>\n",
       "    <tr>\n",
       "      <th>3</th>\n",
       "      <td>0.213113</td>\n",
       "      <td>0.913665</td>\n",
       "      <td>0.231697</td>\n",
       "      <td>0.904687</td>\n",
       "    </tr>\n",
       "    <tr>\n",
       "      <th>4</th>\n",
       "      <td>0.186449</td>\n",
       "      <td>0.922494</td>\n",
       "      <td>0.234976</td>\n",
       "      <td>0.903750</td>\n",
       "    </tr>\n",
       "    <tr>\n",
       "      <th>5</th>\n",
       "      <td>0.165515</td>\n",
       "      <td>0.933589</td>\n",
       "      <td>0.222330</td>\n",
       "      <td>0.907813</td>\n",
       "    </tr>\n",
       "    <tr>\n",
       "      <th>6</th>\n",
       "      <td>0.164757</td>\n",
       "      <td>0.932182</td>\n",
       "      <td>0.216024</td>\n",
       "      <td>0.910312</td>\n",
       "    </tr>\n",
       "    <tr>\n",
       "      <th>7</th>\n",
       "      <td>0.161573</td>\n",
       "      <td>0.935307</td>\n",
       "      <td>0.218022</td>\n",
       "      <td>0.910312</td>\n",
       "    </tr>\n",
       "  </tbody>\n",
       "</table>\n",
       "</div>"
      ],
      "text/plain": [
       "   train_losses  train_accuracies  val_losses  val_accuracies\n",
       "0      0.357964          0.848426    0.302873        0.877812\n",
       "1      0.287172          0.879444    0.326456        0.865938\n",
       "2      0.261628          0.895148    0.285257        0.878750\n",
       "3      0.213113          0.913665    0.231697        0.904687\n",
       "4      0.186449          0.922494    0.234976        0.903750\n",
       "5      0.165515          0.933589    0.222330        0.907813\n",
       "6      0.164757          0.932182    0.216024        0.910312\n",
       "7      0.161573          0.935307    0.218022        0.910312"
      ]
     },
     "execution_count": 14,
     "metadata": {},
     "output_type": "execute_result"
    }
   ],
   "source": [
    "df"
   ]
  },
  {
   "cell_type": "code",
   "execution_count": 15,
   "id": "a5961ca9",
   "metadata": {
    "execution": {
     "iopub.execute_input": "2025-02-09T03:33:18.390620Z",
     "iopub.status.busy": "2025-02-09T03:33:18.390409Z",
     "iopub.status.idle": "2025-02-09T03:33:18.399223Z",
     "shell.execute_reply": "2025-02-09T03:33:18.398597Z"
    },
    "papermill": {
     "duration": 0.015697,
     "end_time": "2025-02-09T03:33:18.400315",
     "exception": false,
     "start_time": "2025-02-09T03:33:18.384618",
     "status": "completed"
    },
    "tags": []
   },
   "outputs": [
    {
     "name": "stdout",
     "output_type": "stream",
     "text": [
      "CSV file saved successfully!\n"
     ]
    }
   ],
   "source": [
    "df.to_csv(\"/kaggle/working/scorse2_ResNet_34.csv\", index=False)\n",
    "print(\"CSV file saved successfully!\")"
   ]
  },
  {
   "cell_type": "code",
   "execution_count": null,
   "id": "a597a82c",
   "metadata": {
    "papermill": {
     "duration": 0.005195,
     "end_time": "2025-02-09T03:33:18.410969",
     "exception": false,
     "start_time": "2025-02-09T03:33:18.405774",
     "status": "completed"
    },
    "tags": []
   },
   "outputs": [],
   "source": []
  }
 ],
 "metadata": {
  "kaggle": {
   "accelerator": "gpu",
   "dataSources": [
    {
     "datasetId": 5070657,
     "sourceId": 8497982,
     "sourceType": "datasetVersion"
    }
   ],
   "dockerImageVersionId": 30887,
   "isGpuEnabled": true,
   "isInternetEnabled": true,
   "language": "python",
   "sourceType": "notebook"
  },
  "kernelspec": {
   "display_name": "Python 3",
   "language": "python",
   "name": "python3"
  },
  "language_info": {
   "codemirror_mode": {
    "name": "ipython",
    "version": 3
   },
   "file_extension": ".py",
   "mimetype": "text/x-python",
   "name": "python",
   "nbconvert_exporter": "python",
   "pygments_lexer": "ipython3",
   "version": "3.10.12"
  },
  "papermill": {
   "default_parameters": {},
   "duration": 26694.832452,
   "end_time": "2025-02-09T03:33:20.163647",
   "environment_variables": {},
   "exception": null,
   "input_path": "__notebook__.ipynb",
   "output_path": "__notebook__.ipynb",
   "parameters": {},
   "start_time": "2025-02-08T20:08:25.331195",
   "version": "2.6.0"
  }
 },
 "nbformat": 4,
 "nbformat_minor": 5
}
