{
 "cells": [
  {
   "cell_type": "code",
   "execution_count": 1,
   "id": "2fee5630",
   "metadata": {
    "_cell_guid": "b1076dfc-b9ad-4769-8c92-a6c4dae69d19",
    "_uuid": "8f2839f25d086af736a60e9eeb907d3b93b6e0e5",
    "execution": {
     "iopub.execute_input": "2025-02-09T22:58:39.155033Z",
     "iopub.status.busy": "2025-02-09T22:58:39.154732Z",
     "iopub.status.idle": "2025-02-09T22:58:48.371725Z",
     "shell.execute_reply": "2025-02-09T22:58:48.370755Z"
    },
    "papermill": {
     "duration": 9.223908,
     "end_time": "2025-02-09T22:58:48.373306",
     "exception": false,
     "start_time": "2025-02-09T22:58:39.149398",
     "status": "completed"
    },
    "tags": []
   },
   "outputs": [],
   "source": [
    "# This Python 3 environment comes with many helpful analytics libraries installed\n",
    "# It is defined by the kaggle/python Docker image: https://github.com/kaggle/docker-python\n",
    "\n",
    "import numpy as np \n",
    "import pandas as pd \n",
    "import os\n",
    "import torch\n",
    "from torch import nn, optim\n",
    "from torchvision import datasets, transforms, models\n",
    "from torch.utils.data import DataLoader, random_split\n",
    "from sklearn.metrics import classification_report, confusion_matrix\n",
    "import os\n",
    "from PIL import Image, ImageFile\n",
    "import warnings\n",
    "\n",
    "with warnings.catch_warnings():\n",
    "    warnings.simplefilter(\"ignore\", Image.DecompressionBombWarning)"
   ]
  },
  {
   "cell_type": "code",
   "execution_count": 2,
   "id": "7d541548",
   "metadata": {
    "execution": {
     "iopub.execute_input": "2025-02-09T22:58:48.381489Z",
     "iopub.status.busy": "2025-02-09T22:58:48.381106Z",
     "iopub.status.idle": "2025-02-09T23:05:50.127464Z",
     "shell.execute_reply": "2025-02-09T23:05:50.126720Z"
    },
    "papermill": {
     "duration": 421.752084,
     "end_time": "2025-02-09T23:05:50.129203",
     "exception": false,
     "start_time": "2025-02-09T22:58:48.377119",
     "status": "completed"
    },
    "tags": []
   },
   "outputs": [],
   "source": [
    "import torch\n",
    "from torch import nn, optim\n",
    "from torchvision import datasets, transforms, models\n",
    "from torch.utils.data import DataLoader, random_split\n",
    "from sklearn.metrics import classification_report, confusion_matrix\n",
    "import os\n",
    "from PIL import Image, ImageFile\n",
    "import warnings\n",
    "\n",
    "with warnings.catch_warnings():\n",
    "    warnings.simplefilter(\"ignore\", Image.DecompressionBombWarning)\n",
    "\n",
    "\n",
    "\n",
    "# Define dataset path\n",
    "data_dir = '/kaggle/input/ai-generated-images-vs-real-images/train'\n",
    "\n",
    "\n",
    "\n",
    "Image.MAX_IMAGE_PIXELS = None  \n",
    "# or\n",
    "Image.MAX_IMAGE_PIXELS = 200000000  \n",
    "\n",
    "\n",
    "def convert_to_rgb(image):\n",
    "    if image.mode == 'P':  \n",
    "        image = image.convert(\"RGBA\")  \n",
    "    if image.mode == \"RGBA\":  \n",
    "        background = Image.new(\"RGB\", image.size, (255, 255, 255))\n",
    "        image = Image.alpha_composite(background, image).convert(\"RGB\")\n",
    "    elif image.mode != \"RGB\":\n",
    "        image = image.convert(\"RGB\") \n",
    "    return image\n",
    "\n",
    "\n",
    "\n",
    "def resize_large_image(image, max_size):\n",
    "    if image.size[0] > max_size[0] or image.size[1] > max_size[1]:\n",
    "        image.thumbnail(max_size, Image.Resampling.LANCZOS)  \n",
    "    return image\n",
    "\n",
    "\n",
    "train_transform = transforms.Compose([\n",
    "    transforms.Lambda(lambda img: resize_large_image(img, max_size=(5000, 5000))),  \n",
    "    transforms.Lambda(convert_to_rgb),               \n",
    "    transforms.RandomResizedCrop(224),               \n",
    "    transforms.RandomHorizontalFlip(p=0.5),          \n",
    "    transforms.RandomVerticalFlip(p=0.2),            \n",
    "    transforms.RandomRotation(degrees=15),           \n",
    "    transforms.ColorJitter(brightness=0.2, contrast=0.2, saturation=0.2, hue=0.1),  \n",
    "    transforms.ToTensor(),                           # Convert to tensor\n",
    "    transforms.Normalize([0.485, 0.456, 0.406], [0.229, 0.224, 0.225])  \n",
    "])\n",
    "\n",
    "\n",
    "\n",
    "val_transform = transforms.Compose([\n",
    "    transforms.Lambda(convert_to_rgb),  \n",
    "    transforms.Resize((224, 224)),      \n",
    "    transforms.ToTensor(),             \n",
    "    transforms.Normalize([0.485, 0.456, 0.406], [0.229, 0.224, 0.225])  \n",
    "])\n",
    "\n",
    "\n",
    "ImageFile.LOAD_TRUNCATED_IMAGES = True\n",
    "\n",
    "\n",
    "MIN_IMAGE_FILE_SIZE = 3284  \n",
    "\n",
    "\n",
    "def is_valid_image(file_path):\n",
    "    try:\n",
    "        if os.path.getsize(file_path) < MIN_IMAGE_FILE_SIZE:\n",
    "            return False\n",
    "        \n",
    "        with Image.open(file_path) as img:\n",
    "            img.verify()  \n",
    "        return True\n",
    "    except (OSError, Image.DecompressionBombError):\n",
    "        return False\n",
    "\n",
    "\n",
    "class ValidImageFolder(datasets.ImageFolder):\n",
    "    def __init__(self, root, transform=None):\n",
    "        super().__init__(root, transform)\n",
    "        self.samples = [(path, label) for path, label in self.samples if is_valid_image(path)]\n",
    "        self.targets = [label for _, label in self.samples]\n",
    "\n",
    "\n",
    "dataset = ValidImageFolder(root=data_dir, transform=train_transform)"
   ]
  },
  {
   "cell_type": "code",
   "execution_count": 3,
   "id": "016c4c8c",
   "metadata": {
    "execution": {
     "iopub.execute_input": "2025-02-09T23:05:50.137538Z",
     "iopub.status.busy": "2025-02-09T23:05:50.137293Z",
     "iopub.status.idle": "2025-02-09T23:05:50.158554Z",
     "shell.execute_reply": "2025-02-09T23:05:50.157612Z"
    },
    "papermill": {
     "duration": 0.026526,
     "end_time": "2025-02-09T23:05:50.159833",
     "exception": false,
     "start_time": "2025-02-09T23:05:50.133307",
     "status": "completed"
    },
    "tags": []
   },
   "outputs": [
    {
     "name": "stdout",
     "output_type": "stream",
     "text": [
      "Original Dataset Size: 47998\n",
      "Balanced Subset Size: 15999 (Fake: 8000, Real: 7999)\n"
     ]
    }
   ],
   "source": [
    "from torch.utils.data import Subset\n",
    "\n",
    "fake_indices = [i for i, (_, label) in enumerate(dataset.samples) if label == dataset.class_to_idx['fake']]\n",
    "real_indices = [i for i, (_, label) in enumerate(dataset.samples) if label == dataset.class_to_idx['real']]\n",
    "\n",
    "\n",
    "fake_subset_size = int(1.0/3.0 * len(fake_indices))\n",
    "real_subset_size = int(1.0/3.0 * len(real_indices))\n",
    "\n",
    "fake_subset_indices = fake_indices[:fake_subset_size]  \n",
    "real_subset_indices = real_indices[:real_subset_size]  \n",
    "\n",
    "balanced_subset_indices = np.concatenate((fake_subset_indices, real_subset_indices))\n",
    "\n",
    "balanced_subset = Subset(dataset, balanced_subset_indices)\n",
    "\n",
    "print(f\"Original Dataset Size: {len(dataset)}\")\n",
    "print(f\"Balanced Subset Size: {len(balanced_subset)} (Fake: {fake_subset_size}, Real: {real_subset_size})\")\n"
   ]
  },
  {
   "cell_type": "code",
   "execution_count": 4,
   "id": "54f1c6bd",
   "metadata": {
    "execution": {
     "iopub.execute_input": "2025-02-09T23:05:50.167314Z",
     "iopub.status.busy": "2025-02-09T23:05:50.167085Z",
     "iopub.status.idle": "2025-02-09T23:05:50.192374Z",
     "shell.execute_reply": "2025-02-09T23:05:50.191539Z"
    },
    "papermill": {
     "duration": 0.030307,
     "end_time": "2025-02-09T23:05:50.193608",
     "exception": false,
     "start_time": "2025-02-09T23:05:50.163301",
     "status": "completed"
    },
    "tags": []
   },
   "outputs": [],
   "source": [
    "train_size = int(0.8 * len(balanced_subset))\n",
    "val_size = len(balanced_subset) - train_size\n",
    "train_dataset, val_dataset = random_split(balanced_subset, [train_size, val_size])\n",
    "\n",
    "val_dataset.dataset.transform = val_transform\n",
    "\n",
    "train_loader = DataLoader(train_dataset, batch_size=128, shuffle=True)\n",
    "val_loader = DataLoader(val_dataset, batch_size=128, shuffle=False)"
   ]
  },
  {
   "cell_type": "code",
   "execution_count": 5,
   "id": "923bbc3e",
   "metadata": {
    "execution": {
     "iopub.execute_input": "2025-02-09T23:05:50.200799Z",
     "iopub.status.busy": "2025-02-09T23:05:50.200543Z",
     "iopub.status.idle": "2025-02-09T23:05:50.204657Z",
     "shell.execute_reply": "2025-02-09T23:05:50.203882Z"
    },
    "papermill": {
     "duration": 0.009086,
     "end_time": "2025-02-09T23:05:50.205943",
     "exception": false,
     "start_time": "2025-02-09T23:05:50.196857",
     "status": "completed"
    },
    "tags": []
   },
   "outputs": [
    {
     "name": "stdout",
     "output_type": "stream",
     "text": [
      "Train Dataset Size: 12799\n",
      "Validation Dataset Size: 3200\n"
     ]
    }
   ],
   "source": [
    "print(f\"Train Dataset Size: {len(train_dataset)}\")\n",
    "print(f\"Validation Dataset Size: {len(val_dataset)}\")"
   ]
  },
  {
   "cell_type": "code",
   "execution_count": 6,
   "id": "c6c62b32",
   "metadata": {
    "execution": {
     "iopub.execute_input": "2025-02-09T23:05:50.213254Z",
     "iopub.status.busy": "2025-02-09T23:05:50.213056Z",
     "iopub.status.idle": "2025-02-09T23:05:50.405773Z",
     "shell.execute_reply": "2025-02-09T23:05:50.405018Z"
    },
    "papermill": {
     "duration": 0.197772,
     "end_time": "2025-02-09T23:05:50.407051",
     "exception": false,
     "start_time": "2025-02-09T23:05:50.209279",
     "status": "completed"
    },
    "tags": []
   },
   "outputs": [
    {
     "data": {
      "image/png": "[encoded data removed]",
      "text/plain": [
       "<Figure size 800x600 with 1 Axes>"
      ]
     },
     "metadata": {},
     "output_type": "display_data"
    }
   ],
   "source": [
    "import matplotlib.pyplot as plt\n",
    "\n",
    "train_size = len(train_dataset)\n",
    "val_size = len(val_dataset)\n",
    "\n",
    "labels = ['Training Dataset', 'Validation Dataset']\n",
    "sizes = [train_size, val_size]\n",
    "\n",
    "plt.figure(figsize=(8, 6))\n",
    "plt.bar(labels, sizes, color=['blue', 'orange'], alpha=0.7)\n",
    "\n",
    "for i, size in enumerate(sizes):\n",
    "    plt.text(i, size + 5, str(size), ha='center', fontsize=12)\n",
    "\n",
    "plt.title('Dataset Split Distribution')\n",
    "plt.ylabel('Number of Samples')\n",
    "plt.xlabel('Dataset')\n",
    "plt.ylim(0, max(sizes) + 50)\n",
    "plt.show()"
   ]
  },
  {
   "cell_type": "code",
   "execution_count": 7,
   "id": "0a97ce72",
   "metadata": {
    "execution": {
     "iopub.execute_input": "2025-02-09T23:05:50.415568Z",
     "iopub.status.busy": "2025-02-09T23:05:50.415354Z",
     "iopub.status.idle": "2025-02-09T23:05:51.305779Z",
     "shell.execute_reply": "2025-02-09T23:05:51.304974Z"
    },
    "papermill": {
     "duration": 0.896085,
     "end_time": "2025-02-09T23:05:51.307124",
     "exception": false,
     "start_time": "2025-02-09T23:05:50.411039",
     "status": "completed"
    },
    "tags": []
   },
   "outputs": [
    {
     "name": "stderr",
     "output_type": "stream",
     "text": [
      "Downloading: \"https://download.pytorch.org/models/mobilenet_v2-7ebf99e0.pth\" to /root/.cache/torch/hub/checkpoints/mobilenet_v2-7ebf99e0.pth\n",
      "100%|██████████| 13.6M/13.6M [00:00<00:00, 81.0MB/s]\n",
      "<ipython-input-7-6928d2bdda7a>:8: FutureWarning: You are using `torch.load` with `weights_only=False` (the current default value), which uses the default pickle module implicitly. It is possible to construct malicious pickle data which will execute arbitrary code during unpickling (See https://github.com/pytorch/pytorch/blob/main/SECURITY.md#untrusted-models for more details). In a future release, the default value for `weights_only` will be flipped to `True`. This limits the functions that could be executed during unpickling. Arbitrary objects will no longer be allowed to be loaded via this mode unless they are explicitly allowlisted by the user via `torch.serialization.add_safe_globals`. We recommend you start setting `weights_only=True` for any use case where you don't have full control of the loaded file. Please open an issue on GitHub for any issues related to this experimental feature.\n",
      "  model.load_state_dict(torch.load('/kaggle/input/mobile-net-model-trained13/pytorch/default/1/best_model6for_mobilnet_sdk_First_training_part.pth', map_location=device))\n"
     ]
    },
    {
     "data": {
      "text/plain": [
       "<All keys matched successfully>"
      ]
     },
     "execution_count": 7,
     "metadata": {},
     "output_type": "execute_result"
    }
   ],
   "source": [
    "model = models.mobilenet_v2(weights=models.MobileNet_V2_Weights.DEFAULT)\n",
    "num_ftrs = model.classifier[1].in_features\n",
    "model.classifier[1] = nn.Linear(num_ftrs, 2)\n",
    "device = torch.device(\"cuda\" if torch.cuda.is_available() else \"cpu\")\n",
    "model = model.to(device)\n",
    "\n",
    "# Load the model state\n",
    "model.load_state_dict(torch.load('/kaggle/input/mobile-net-model-trained13/pytorch/default/1/best_model6for_mobilnet_sdk_First_training_part.pth', map_location=device))\n"
   ]
  },
  {
   "cell_type": "code",
   "execution_count": 8,
   "id": "3f8cc905",
   "metadata": {
    "execution": {
     "iopub.execute_input": "2025-02-09T23:05:51.317046Z",
     "iopub.status.busy": "2025-02-09T23:05:51.316794Z",
     "iopub.status.idle": "2025-02-09T23:05:51.321432Z",
     "shell.execute_reply": "2025-02-09T23:05:51.320618Z"
    },
    "papermill": {
     "duration": 0.010624,
     "end_time": "2025-02-09T23:05:51.322529",
     "exception": false,
     "start_time": "2025-02-09T23:05:51.311905",
     "status": "completed"
    },
    "tags": []
   },
   "outputs": [],
   "source": [
    "from torch.optim.lr_scheduler import StepLR\n",
    "\n",
    "optimizer = optim.Adam(model.parameters(), lr=0.001)\n",
    "criterion = nn.CrossEntropyLoss()\n",
    "\n",
    "scheduler = StepLR(optimizer, step_size=3, gamma=0.1)"
   ]
  },
  {
   "cell_type": "code",
   "execution_count": 9,
   "id": "08a0068b",
   "metadata": {
    "execution": {
     "iopub.execute_input": "2025-02-09T23:05:51.331952Z",
     "iopub.status.busy": "2025-02-09T23:05:51.331722Z",
     "iopub.status.idle": "2025-02-09T23:05:51.334943Z",
     "shell.execute_reply": "2025-02-09T23:05:51.334129Z"
    },
    "papermill": {
     "duration": 0.009245,
     "end_time": "2025-02-09T23:05:51.336162",
     "exception": false,
     "start_time": "2025-02-09T23:05:51.326917",
     "status": "completed"
    },
    "tags": []
   },
   "outputs": [],
   "source": [
    "patience = 6\n",
    "trigger_times = 0\n",
    "best_val_loss = float('inf')"
   ]
  },
  {
   "cell_type": "code",
   "execution_count": 10,
   "id": "726b66d4",
   "metadata": {
    "execution": {
     "iopub.execute_input": "2025-02-09T23:05:51.345390Z",
     "iopub.status.busy": "2025-02-09T23:05:51.345162Z",
     "iopub.status.idle": "2025-02-09T23:05:51.348110Z",
     "shell.execute_reply": "2025-02-09T23:05:51.347496Z"
    },
    "papermill": {
     "duration": 0.008833,
     "end_time": "2025-02-09T23:05:51.349312",
     "exception": false,
     "start_time": "2025-02-09T23:05:51.340479",
     "status": "completed"
    },
    "tags": []
   },
   "outputs": [],
   "source": [
    "epochs = 8\n",
    "best_val_acc = 0.0\n",
    "\n",
    "# data={\n",
    "#     \"train_losses\" : [],\n",
    "#     \"train_accuracies\" : [],\n",
    "#     \"val_losses\" : [],\n",
    "#     \"val_accuracies\" : [],\n",
    "# }"
   ]
  },
  {
   "cell_type": "code",
   "execution_count": 11,
   "id": "d596979b",
   "metadata": {
    "execution": {
     "iopub.execute_input": "2025-02-09T23:05:51.358615Z",
     "iopub.status.busy": "2025-02-09T23:05:51.358420Z",
     "iopub.status.idle": "2025-02-09T23:05:51.383234Z",
     "shell.execute_reply": "2025-02-09T23:05:51.382556Z"
    },
    "papermill": {
     "duration": 0.030793,
     "end_time": "2025-02-09T23:05:51.384478",
     "exception": false,
     "start_time": "2025-02-09T23:05:51.353685",
     "status": "completed"
    },
    "tags": []
   },
   "outputs": [
    {
     "name": "stdout",
     "output_type": "stream",
     "text": [
      "{'train_losses': [0.3579643191045705, 0.2871724981932502, 0.261627867957588, 0.2131132036447525, 0.1864492709687542, 0.1655151784118474, 0.1647572221956417, 0.1615731157900924], 'train_accuracies': [0.8484256582545512, 0.8794437065395734, 0.8951480584420658, 0.913665130088288, 0.9224939448394406, 0.9335885616063756, 0.9321822017345104, 0.9353074458942104], 'val_losses': [0.3028729051351547, 0.3264560627937317, 0.2852565610408783, 0.2316973173618316, 0.2349758476018905, 0.22232974588871, 0.2160235890746116, 0.2180216634273529], 'val_accuracies': [0.8778125, 0.8659375, 0.87875, 0.9046875, 0.90375, 0.9078125, 0.9103125, 0.9103125]}\n"
     ]
    }
   ],
   "source": [
    "df = pd.read_csv(\"/kaggle/input/score-of-mobilenet-aftertrained-in-13-data/scorse2_MobileNet.csv\")\n",
    "\n",
    "data = df.to_dict(orient=\"list\")\n",
    "\n",
    "print(data)"
   ]
  },
  {
   "cell_type": "code",
   "execution_count": 12,
   "id": "7385453d",
   "metadata": {
    "execution": {
     "iopub.execute_input": "2025-02-09T23:05:51.394292Z",
     "iopub.status.busy": "2025-02-09T23:05:51.394069Z",
     "iopub.status.idle": "2025-02-10T06:08:39.056550Z",
     "shell.execute_reply": "2025-02-10T06:08:39.055608Z"
    },
    "papermill": {
     "duration": 25367.674845,
     "end_time": "2025-02-10T06:08:39.063782",
     "exception": false,
     "start_time": "2025-02-09T23:05:51.388937",
     "status": "completed"
    },
    "tags": []
   },
   "outputs": [
    {
     "name": "stdout",
     "output_type": "stream",
     "text": [
      "Epoch 1/8\n"
     ]
    },
    {
     "name": "stderr",
     "output_type": "stream",
     "text": [
      "/usr/local/lib/python3.10/dist-packages/PIL/Image.py:1054: UserWarning: Palette images with Transparency expressed in bytes should be converted to RGBA images\n",
      "  warnings.warn(\n"
     ]
    },
    {
     "name": "stdout",
     "output_type": "stream",
     "text": [
      "Train Loss: 0.2603 Acc: 0.8987\n",
      "Val Loss: 0.2662 Acc: 0.8884\n",
      "\n",
      "Classification Report:\n",
      "              precision    recall  f1-score   support\n",
      "\n",
      "        fake       0.85      0.94      0.89      1589\n",
      "        real       0.93      0.84      0.88      1611\n",
      "\n",
      "    accuracy                           0.89      3200\n",
      "   macro avg       0.89      0.89      0.89      3200\n",
      "weighted avg       0.89      0.89      0.89      3200\n",
      "\n",
      "Epoch 2/8\n"
     ]
    },
    {
     "name": "stderr",
     "output_type": "stream",
     "text": [
      "/usr/local/lib/python3.10/dist-packages/PIL/Image.py:1054: UserWarning: Palette images with Transparency expressed in bytes should be converted to RGBA images\n",
      "  warnings.warn(\n"
     ]
    },
    {
     "name": "stdout",
     "output_type": "stream",
     "text": [
      "Train Loss: 0.2344 Acc: 0.9051\n",
      "Val Loss: 0.2288 Acc: 0.9019\n",
      "\n",
      "Classification Report:\n",
      "              precision    recall  f1-score   support\n",
      "\n",
      "        fake       0.91      0.89      0.90      1589\n",
      "        real       0.90      0.91      0.90      1611\n",
      "\n",
      "    accuracy                           0.90      3200\n",
      "   macro avg       0.90      0.90      0.90      3200\n",
      "weighted avg       0.90      0.90      0.90      3200\n",
      "\n",
      "Epoch 3/8\n"
     ]
    },
    {
     "name": "stderr",
     "output_type": "stream",
     "text": [
      "/usr/local/lib/python3.10/dist-packages/PIL/Image.py:1054: UserWarning: Palette images with Transparency expressed in bytes should be converted to RGBA images\n",
      "  warnings.warn(\n"
     ]
    },
    {
     "name": "stdout",
     "output_type": "stream",
     "text": [
      "Train Loss: 0.2197 Acc: 0.9138\n",
      "Val Loss: 0.2809 Acc: 0.8909\n",
      "\n",
      "Classification Report:\n",
      "              precision    recall  f1-score   support\n",
      "\n",
      "        fake       0.87      0.92      0.89      1589\n",
      "        real       0.92      0.86      0.89      1611\n",
      "\n",
      "    accuracy                           0.89      3200\n",
      "   macro avg       0.89      0.89      0.89      3200\n",
      "weighted avg       0.89      0.89      0.89      3200\n",
      "\n",
      "Early stopping trigger count: 1/6\n",
      "Epoch 4/8\n"
     ]
    },
    {
     "name": "stderr",
     "output_type": "stream",
     "text": [
      "/usr/local/lib/python3.10/dist-packages/PIL/Image.py:1054: UserWarning: Palette images with Transparency expressed in bytes should be converted to RGBA images\n",
      "  warnings.warn(\n"
     ]
    },
    {
     "name": "stdout",
     "output_type": "stream",
     "text": [
      "Train Loss: 0.1758 Acc: 0.9281\n",
      "Val Loss: 0.1943 Acc: 0.9241\n",
      "\n",
      "Classification Report:\n",
      "              precision    recall  f1-score   support\n",
      "\n",
      "        fake       0.93      0.91      0.92      1589\n",
      "        real       0.92      0.93      0.93      1611\n",
      "\n",
      "    accuracy                           0.92      3200\n",
      "   macro avg       0.92      0.92      0.92      3200\n",
      "weighted avg       0.92      0.92      0.92      3200\n",
      "\n",
      "Epoch 5/8\n"
     ]
    },
    {
     "name": "stderr",
     "output_type": "stream",
     "text": [
      "/usr/local/lib/python3.10/dist-packages/PIL/Image.py:1054: UserWarning: Palette images with Transparency expressed in bytes should be converted to RGBA images\n",
      "  warnings.warn(\n"
     ]
    },
    {
     "name": "stdout",
     "output_type": "stream",
     "text": [
      "Train Loss: 0.1546 Acc: 0.9394\n",
      "Val Loss: 0.1826 Acc: 0.9247\n",
      "\n",
      "Classification Report:\n",
      "              precision    recall  f1-score   support\n",
      "\n",
      "        fake       0.93      0.92      0.92      1589\n",
      "        real       0.92      0.93      0.93      1611\n",
      "\n",
      "    accuracy                           0.92      3200\n",
      "   macro avg       0.92      0.92      0.92      3200\n",
      "weighted avg       0.92      0.92      0.92      3200\n",
      "\n",
      "Epoch 6/8\n"
     ]
    },
    {
     "name": "stderr",
     "output_type": "stream",
     "text": [
      "/usr/local/lib/python3.10/dist-packages/PIL/Image.py:1054: UserWarning: Palette images with Transparency expressed in bytes should be converted to RGBA images\n",
      "  warnings.warn(\n"
     ]
    },
    {
     "name": "stdout",
     "output_type": "stream",
     "text": [
      "Train Loss: 0.1433 Acc: 0.9441\n",
      "Val Loss: 0.1770 Acc: 0.9281\n",
      "\n",
      "Classification Report:\n",
      "              precision    recall  f1-score   support\n",
      "\n",
      "        fake       0.92      0.94      0.93      1589\n",
      "        real       0.94      0.91      0.93      1611\n",
      "\n",
      "    accuracy                           0.93      3200\n",
      "   macro avg       0.93      0.93      0.93      3200\n",
      "weighted avg       0.93      0.93      0.93      3200\n",
      "\n",
      "Epoch 7/8\n"
     ]
    },
    {
     "name": "stderr",
     "output_type": "stream",
     "text": [
      "/usr/local/lib/python3.10/dist-packages/PIL/Image.py:1054: UserWarning: Palette images with Transparency expressed in bytes should be converted to RGBA images\n",
      "  warnings.warn(\n"
     ]
    },
    {
     "name": "stdout",
     "output_type": "stream",
     "text": [
      "Train Loss: 0.1370 Acc: 0.9455\n",
      "Val Loss: 0.1752 Acc: 0.9284\n",
      "\n",
      "Classification Report:\n",
      "              precision    recall  f1-score   support\n",
      "\n",
      "        fake       0.93      0.92      0.93      1589\n",
      "        real       0.93      0.93      0.93      1611\n",
      "\n",
      "    accuracy                           0.93      3200\n",
      "   macro avg       0.93      0.93      0.93      3200\n",
      "weighted avg       0.93      0.93      0.93      3200\n",
      "\n",
      "Epoch 8/8\n"
     ]
    },
    {
     "name": "stderr",
     "output_type": "stream",
     "text": [
      "/usr/local/lib/python3.10/dist-packages/PIL/Image.py:1054: UserWarning: Palette images with Transparency expressed in bytes should be converted to RGBA images\n",
      "  warnings.warn(\n"
     ]
    },
    {
     "name": "stdout",
     "output_type": "stream",
     "text": [
      "Train Loss: 0.1312 Acc: 0.9484\n",
      "Val Loss: 0.1832 Acc: 0.9309\n",
      "\n",
      "Classification Report:\n",
      "              precision    recall  f1-score   support\n",
      "\n",
      "        fake       0.94      0.92      0.93      1589\n",
      "        real       0.93      0.94      0.93      1611\n",
      "\n",
      "    accuracy                           0.93      3200\n",
      "   macro avg       0.93      0.93      0.93      3200\n",
      "weighted avg       0.93      0.93      0.93      3200\n",
      "\n",
      "Early stopping trigger count: 1/6\n",
      "Best Validation Accuracy: 0.9309\n",
      "Best Validation loss: 0.1752\n"
     ]
    }
   ],
   "source": [
    "for epoch in range(epochs):\n",
    "    print(f\"Epoch {epoch+1}/{epochs}\")\n",
    "\n",
    "    # Training phase\n",
    "    model.train()\n",
    "    running_loss = 0.0\n",
    "    running_corrects = 0\n",
    "\n",
    "    for inputs, labels in train_loader:\n",
    "        inputs, labels = inputs.to(device), labels.to(device)\n",
    "\n",
    "        # Zero the parameter gradients\n",
    "        optimizer.zero_grad()\n",
    "\n",
    "        # Forward pass\n",
    "        outputs = model(inputs)\n",
    "        _, preds = torch.max(outputs, 1)\n",
    "        loss = criterion(outputs, labels)\n",
    "\n",
    "        # Backward pass and optimization\n",
    "        loss.backward()\n",
    "        optimizer.step()\n",
    "\n",
    "        # Track loss and accuracy\n",
    "        running_loss += loss.item() * inputs.size(0)\n",
    "        running_corrects += torch.sum(preds == labels.data)\n",
    "\n",
    "    epoch_loss = running_loss / len(train_dataset)\n",
    "    epoch_acc = running_corrects.double() / len(train_dataset)\n",
    "\n",
    "    data[\"train_losses\"].append(epoch_loss)\n",
    "    data[\"train_accuracies\"].append(epoch_acc.item())\n",
    "    \n",
    "    print(f\"Train Loss: {epoch_loss:.4f} Acc: {epoch_acc:.4f}\")\n",
    "\n",
    "    # Validation phase\n",
    "    model.eval()\n",
    "    val_loss = 0.0\n",
    "    val_corrects = 0\n",
    "    all_preds = []\n",
    "    all_labels = []\n",
    "\n",
    "    with torch.no_grad():\n",
    "        for inputs, labels in val_loader:\n",
    "            inputs, labels = inputs.to(device), labels.to(device)\n",
    "\n",
    "            outputs = model(inputs)\n",
    "            _, preds = torch.max(outputs, 1)\n",
    "            loss = criterion(outputs, labels)\n",
    "\n",
    "            val_loss += loss.item() * inputs.size(0)\n",
    "            val_corrects += torch.sum(preds == labels.data)\n",
    "\n",
    "            # Store predictions and labels for metrics\n",
    "            all_preds.extend(preds.cpu().numpy())\n",
    "            all_labels.extend(labels.cpu().numpy())\n",
    "\n",
    "    val_loss = val_loss / len(val_dataset)\n",
    "    val_acc = val_corrects.double() / len(val_dataset)\n",
    "\n",
    "    data[\"val_losses\"].append(val_loss)\n",
    "    data[\"val_accuracies\"].append(val_acc.item())\n",
    "\n",
    "    print(f\"Val Loss: {val_loss:.4f} Acc: {val_acc:.4f}\")\n",
    "\n",
    "    # Precision, Recall, F1-Score\n",
    "    print(\"\\nClassification Report:\")\n",
    "    print(classification_report(all_labels, all_preds, target_names=dataset.classes))\n",
    "\n",
    "    if val_acc > best_val_acc:\n",
    "        best_val_acc = val_acc\n",
    "    \n",
    "    # Save the best model\n",
    "    if val_loss < best_val_loss:\n",
    "        best_val_loss = val_loss\n",
    "        torch.save(model.state_dict(), f'best_model{epoch}for_mobilnet_sdk_First_training_part.pth')\n",
    "        trigger_times = 0  # Reset early stopping counter\n",
    "    else:\n",
    "        trigger_times += 1\n",
    "        print(f\"Early stopping trigger count: {trigger_times}/{patience}\")\n",
    "        if trigger_times >= patience:\n",
    "            print(\"Early stopping...\")\n",
    "            break\n",
    "\n",
    "    # Step the scheduler\n",
    "    scheduler.step()\n",
    "\n",
    "print(f'Best Validation Accuracy: {best_val_acc:.4f}')\n",
    "print(f'Best Validation loss: {best_val_loss:.4f}')\n"
   ]
  },
  {
   "cell_type": "code",
   "execution_count": 13,
   "id": "b2665c53",
   "metadata": {
    "execution": {
     "iopub.execute_input": "2025-02-10T06:08:39.076150Z",
     "iopub.status.busy": "2025-02-10T06:08:39.075860Z",
     "iopub.status.idle": "2025-02-10T06:08:39.080335Z",
     "shell.execute_reply": "2025-02-10T06:08:39.079516Z"
    },
    "papermill": {
     "duration": 0.012078,
     "end_time": "2025-02-10T06:08:39.081572",
     "exception": false,
     "start_time": "2025-02-10T06:08:39.069494",
     "status": "completed"
    },
    "tags": []
   },
   "outputs": [],
   "source": [
    "df = pd.DataFrame(data)"
   ]
  },
  {
   "cell_type": "code",
   "execution_count": 14,
   "id": "e1149724",
   "metadata": {
    "execution": {
     "iopub.execute_input": "2025-02-10T06:08:39.093949Z",
     "iopub.status.busy": "2025-02-10T06:08:39.093746Z",
     "iopub.status.idle": "2025-02-10T06:08:39.096923Z",
     "shell.execute_reply": "2025-02-10T06:08:39.096154Z"
    },
    "papermill": {
     "duration": 0.010903,
     "end_time": "2025-02-10T06:08:39.098165",
     "exception": false,
     "start_time": "2025-02-10T06:08:39.087262",
     "status": "completed"
    },
    "tags": []
   },
   "outputs": [
    {
     "name": "stdout",
     "output_type": "stream",
     "text": [
      "{'train_losses': [0.3579643191045705, 0.2871724981932502, 0.261627867957588, 0.2131132036447525, 0.1864492709687542, 0.1655151784118474, 0.1647572221956417, 0.1615731157900924, 0.2603123411437256, 0.23435738132292241, 0.21966776211859332, 0.17584978440341767, 0.15462867211844736, 0.14333069935838025, 0.13700261197711203, 0.13124113041229085], 'train_accuracies': [0.8484256582545512, 0.8794437065395734, 0.8951480584420658, 0.913665130088288, 0.9224939448394406, 0.9335885616063756, 0.9321822017345104, 0.9353074458942104, 0.8986639581217283, 0.9050707086491132, 0.9138213922962731, 0.9281193843269006, 0.9393702633018205, 0.9440581295413705, 0.9455426205172279, 0.9484334713649504], 'val_losses': [0.3028729051351547, 0.3264560627937317, 0.2852565610408783, 0.2316973173618316, 0.2349758476018905, 0.22232974588871, 0.2160235890746116, 0.2180216634273529, 0.266209996342659, 0.22880579829216002, 0.2809083521366119, 0.19428035438060762, 0.18256874173879623, 0.1770115514099598, 0.17516575664281844, 0.18323147624731065], 'val_accuracies': [0.8778125, 0.8659375, 0.87875, 0.9046875, 0.90375, 0.9078125, 0.9103125, 0.9103125, 0.8884375, 0.901875, 0.8909375, 0.9240625, 0.9246875, 0.928125, 0.9284375, 0.9309375]}\n"
     ]
    }
   ],
   "source": [
    "print(data)"
   ]
  },
  {
   "cell_type": "code",
   "execution_count": 15,
   "id": "ab0bfb97",
   "metadata": {
    "execution": {
     "iopub.execute_input": "2025-02-10T06:08:39.110169Z",
     "iopub.status.busy": "2025-02-10T06:08:39.109975Z",
     "iopub.status.idle": "2025-02-10T06:08:39.127028Z",
     "shell.execute_reply": "2025-02-10T06:08:39.126346Z"
    },
    "papermill": {
     "duration": 0.02428,
     "end_time": "2025-02-10T06:08:39.128208",
     "exception": false,
     "start_time": "2025-02-10T06:08:39.103928",
     "status": "completed"
    },
    "tags": []
   },
   "outputs": [
    {
     "data": {
      "text/html": [
       "<div>\n",
       "<style scoped>\n",
       "    .dataframe tbody tr th:only-of-type {\n",
       "        vertical-align: middle;\n",
       "    }\n",
       "\n",
       "    .dataframe tbody tr th {\n",
       "        vertical-align: top;\n",
       "    }\n",
       "\n",
       "    .dataframe thead th {\n",
       "        text-align: right;\n",
       "    }\n",
       "</style>\n",
       "<table border=\"1\" class=\"dataframe\">\n",
       "  <thead>\n",
       "    <tr style=\"text-align: right;\">\n",
       "      <th></th>\n",
       "      <th>train_losses</th>\n",
       "      <th>train_accuracies</th>\n",
       "      <th>val_losses</th>\n",
       "      <th>val_accuracies</th>\n",
       "    </tr>\n",
       "  </thead>\n",
       "  <tbody>\n",
       "    <tr>\n",
       "      <th>0</th>\n",
       "      <td>0.357964</td>\n",
       "      <td>0.848426</td>\n",
       "      <td>0.302873</td>\n",
       "      <td>0.877812</td>\n",
       "    </tr>\n",
       "    <tr>\n",
       "      <th>1</th>\n",
       "      <td>0.287172</td>\n",
       "      <td>0.879444</td>\n",
       "      <td>0.326456</td>\n",
       "      <td>0.865938</td>\n",
       "    </tr>\n",
       "    <tr>\n",
       "      <th>2</th>\n",
       "      <td>0.261628</td>\n",
       "      <td>0.895148</td>\n",
       "      <td>0.285257</td>\n",
       "      <td>0.878750</td>\n",
       "    </tr>\n",
       "    <tr>\n",
       "      <th>3</th>\n",
       "      <td>0.213113</td>\n",
       "      <td>0.913665</td>\n",
       "      <td>0.231697</td>\n",
       "      <td>0.904687</td>\n",
       "    </tr>\n",
       "    <tr>\n",
       "      <th>4</th>\n",
       "      <td>0.186449</td>\n",
       "      <td>0.922494</td>\n",
       "      <td>0.234976</td>\n",
       "      <td>0.903750</td>\n",
       "    </tr>\n",
       "    <tr>\n",
       "      <th>5</th>\n",
       "      <td>0.165515</td>\n",
       "      <td>0.933589</td>\n",
       "      <td>0.222330</td>\n",
       "      <td>0.907813</td>\n",
       "    </tr>\n",
       "    <tr>\n",
       "      <th>6</th>\n",
       "      <td>0.164757</td>\n",
       "      <td>0.932182</td>\n",
       "      <td>0.216024</td>\n",
       "      <td>0.910312</td>\n",
       "    </tr>\n",
       "    <tr>\n",
       "      <th>7</th>\n",
       "      <td>0.161573</td>\n",
       "      <td>0.935307</td>\n",
       "      <td>0.218022</td>\n",
       "      <td>0.910312</td>\n",
       "    </tr>\n",
       "    <tr>\n",
       "      <th>8</th>\n",
       "      <td>0.260312</td>\n",
       "      <td>0.898664</td>\n",
       "      <td>0.266210</td>\n",
       "      <td>0.888437</td>\n",
       "    </tr>\n",
       "    <tr>\n",
       "      <th>9</th>\n",
       "      <td>0.234357</td>\n",
       "      <td>0.905071</td>\n",
       "      <td>0.228806</td>\n",
       "      <td>0.901875</td>\n",
       "    </tr>\n",
       "    <tr>\n",
       "      <th>10</th>\n",
       "      <td>0.219668</td>\n",
       "      <td>0.913821</td>\n",
       "      <td>0.280908</td>\n",
       "      <td>0.890938</td>\n",
       "    </tr>\n",
       "    <tr>\n",
       "      <th>11</th>\n",
       "      <td>0.175850</td>\n",
       "      <td>0.928119</td>\n",
       "      <td>0.194280</td>\n",
       "      <td>0.924063</td>\n",
       "    </tr>\n",
       "    <tr>\n",
       "      <th>12</th>\n",
       "      <td>0.154629</td>\n",
       "      <td>0.939370</td>\n",
       "      <td>0.182569</td>\n",
       "      <td>0.924687</td>\n",
       "    </tr>\n",
       "    <tr>\n",
       "      <th>13</th>\n",
       "      <td>0.143331</td>\n",
       "      <td>0.944058</td>\n",
       "      <td>0.177012</td>\n",
       "      <td>0.928125</td>\n",
       "    </tr>\n",
       "    <tr>\n",
       "      <th>14</th>\n",
       "      <td>0.137003</td>\n",
       "      <td>0.945543</td>\n",
       "      <td>0.175166</td>\n",
       "      <td>0.928438</td>\n",
       "    </tr>\n",
       "    <tr>\n",
       "      <th>15</th>\n",
       "      <td>0.131241</td>\n",
       "      <td>0.948433</td>\n",
       "      <td>0.183231</td>\n",
       "      <td>0.930937</td>\n",
       "    </tr>\n",
       "  </tbody>\n",
       "</table>\n",
       "</div>"
      ],
      "text/plain": [
       "    train_losses  train_accuracies  val_losses  val_accuracies\n",
       "0       0.357964          0.848426    0.302873        0.877812\n",
       "1       0.287172          0.879444    0.326456        0.865938\n",
       "2       0.261628          0.895148    0.285257        0.878750\n",
       "3       0.213113          0.913665    0.231697        0.904687\n",
       "4       0.186449          0.922494    0.234976        0.903750\n",
       "5       0.165515          0.933589    0.222330        0.907813\n",
       "6       0.164757          0.932182    0.216024        0.910312\n",
       "7       0.161573          0.935307    0.218022        0.910312\n",
       "8       0.260312          0.898664    0.266210        0.888437\n",
       "9       0.234357          0.905071    0.228806        0.901875\n",
       "10      0.219668          0.913821    0.280908        0.890938\n",
       "11      0.175850          0.928119    0.194280        0.924063\n",
       "12      0.154629          0.939370    0.182569        0.924687\n",
       "13      0.143331          0.944058    0.177012        0.928125\n",
       "14      0.137003          0.945543    0.175166        0.928438\n",
       "15      0.131241          0.948433    0.183231        0.930937"
      ]
     },
     "execution_count": 15,
     "metadata": {},
     "output_type": "execute_result"
    }
   ],
   "source": [
    "df"
   ]
  },
  {
   "cell_type": "code",
   "execution_count": 16,
   "id": "40bd2087",
   "metadata": {
    "execution": {
     "iopub.execute_input": "2025-02-10T06:08:39.140588Z",
     "iopub.status.busy": "2025-02-10T06:08:39.140391Z",
     "iopub.status.idle": "2025-02-10T06:08:39.149092Z",
     "shell.execute_reply": "2025-02-10T06:08:39.148291Z"
    },
    "papermill": {
     "duration": 0.016197,
     "end_time": "2025-02-10T06:08:39.150295",
     "exception": false,
     "start_time": "2025-02-10T06:08:39.134098",
     "status": "completed"
    },
    "tags": []
   },
   "outputs": [
    {
     "name": "stdout",
     "output_type": "stream",
     "text": [
      "CSV file saved successfully!\n"
     ]
    }
   ],
   "source": [
    "df.to_csv(\"/kaggle/working/scorse2_ResNet_34.csv\", index=False)\n",
    "print(\"CSV file saved successfully!\")"
   ]
  },
  {
   "cell_type": "code",
   "execution_count": 17,
   "id": "ab4dc269",
   "metadata": {
    "execution": {
     "iopub.execute_input": "2025-02-10T06:08:39.162836Z",
     "iopub.status.busy": "2025-02-10T06:08:39.162592Z",
     "iopub.status.idle": "2025-02-10T06:08:39.612157Z",
     "shell.execute_reply": "2025-02-10T06:08:39.611291Z"
    },
    "papermill": {
     "duration": 0.457166,
     "end_time": "2025-02-10T06:08:39.613389",
     "exception": false,
     "start_time": "2025-02-10T06:08:39.156223",
     "status": "completed"
    },
    "tags": []
   },
   "outputs": [
    {
     "data": {
      "image/png": "[encoded data removed]",
      "text/plain": [
       "<Figure size 1200x600 with 1 Axes>"
      ]
     },
     "metadata": {},
     "output_type": "display_data"
    },
    {
     "data": {
      "image/png": "[encoded data removed]",
      "text/plain": [
       "<Figure size 1200x600 with 1 Axes>"
      ]
     },
     "metadata": {},
     "output_type": "display_data"
    }
   ],
   "source": [
    "import matplotlib.pyplot as plt\n",
    "\n",
    "# Plot Training and Validation Loss\n",
    "plt.figure(figsize=(12, 6))\n",
    "plt.plot(range(1, len(data[\"train_losses\"]) + 1), data[\"train_losses\"], label='Training Loss', marker='o')\n",
    "plt.plot(range(1, len(data[\"val_losses\"]) + 1), data[\"val_losses\"], label='Validation Loss', marker='o')\n",
    "plt.title('Training and Validation Loss', fontsize=16)\n",
    "plt.xlabel('Epochs', fontsize=14)\n",
    "plt.ylabel('Loss', fontsize=14)\n",
    "plt.xticks(range(1, len(data[\"train_losses\"]) + 1))\n",
    "plt.legend(fontsize=12)\n",
    "plt.grid(alpha=0.5)\n",
    "plt.show()\n",
    "\n",
    "# Plot Training and Validation Accuracy\n",
    "plt.figure(figsize=(12, 6))\n",
    "plt.plot(range(1, len(data[\"train_accuracies\"]) + 1), data[\"train_accuracies\"], label='Training Accuracy', marker='o')\n",
    "plt.plot(range(1, len(data[\"val_accuracies\"]) + 1), data[\"val_accuracies\"], label='Validation Accuracy', marker='o')\n",
    "plt.title('Training and Validation Accuracy', fontsize=16)\n",
    "plt.xlabel('Epochs', fontsize=14)\n",
    "plt.ylabel('Accuracy', fontsize=14)\n",
    "plt.xticks(range(1, len(data[\"train_accuracies\"]) + 1))\n",
    "plt.legend(fontsize=12)\n",
    "plt.grid(alpha=0.5)\n",
    "plt.show()"
   ]
  },
  {
   "cell_type": "code",
   "execution_count": null,
   "id": "29962311",
   "metadata": {
    "papermill": {
     "duration": 0.008489,
     "end_time": "2025-02-10T06:08:39.630986",
     "exception": false,
     "start_time": "2025-02-10T06:08:39.622497",
     "status": "completed"
    },
    "tags": []
   },
   "outputs": [],
   "source": []
  },
  {
   "cell_type": "code",
   "execution_count": 18,
   "id": "e480472c",
   "metadata": {
    "execution": {
     "iopub.execute_input": "2025-02-10T06:08:39.648540Z",
     "iopub.status.busy": "2025-02-10T06:08:39.648279Z",
     "iopub.status.idle": "2025-02-10T06:08:39.708508Z",
     "shell.execute_reply": "2025-02-10T06:08:39.707457Z"
    },
    "papermill": {
     "duration": 0.070323,
     "end_time": "2025-02-10T06:08:39.709591",
     "exception": true,
     "start_time": "2025-02-10T06:08:39.639268",
     "status": "failed"
    },
    "tags": []
   },
   "outputs": [
    {
     "ename": "NameError",
     "evalue": "name 'ghgjgddfdf' is not defined",
     "output_type": "error",
     "traceback": [
      "\u001b[0;31m---------------------------------------------------------------------------\u001b[0m",
      "\u001b[0;31mNameError\u001b[0m                                 Traceback (most recent call last)",
      "\u001b[0;32m<ipython-input-18-ace9d72cc2e5>\u001b[0m in \u001b[0;36m<cell line: 1>\u001b[0;34m()\u001b[0m\n\u001b[0;32m----> 1\u001b[0;31m \u001b[0mghgjgddfdf\u001b[0m\u001b[0;34m\u001b[0m\u001b[0;34m\u001b[0m\u001b[0m\n\u001b[0m",
      "\u001b[0;31mNameError\u001b[0m: name 'ghgjgddfdf' is not defined"
     ]
    }
   ],
   "source": [
    "ghgjgddfdf"
   ]
  }
 ],
 "metadata": {
  "kaggle": {
   "accelerator": "gpu",
   "dataSources": [
    {
     "datasetId": 5070657,
     "sourceId": 8497982,
     "sourceType": "datasetVersion"
    },
    {
     "datasetId": 6635453,
     "sourceId": 10706626,
     "sourceType": "datasetVersion"
    },
    {
     "modelId": 238997,
     "modelInstanceId": 217280,
     "sourceId": 254128,
     "sourceType": "modelInstanceVersion"
    }
   ],
   "dockerImageVersionId": 30887,
   "isGpuEnabled": true,
   "isInternetEnabled": true,
   "language": "python",
   "sourceType": "notebook"
  },
  "kernelspec": {
   "display_name": "Python 3",
   "language": "python",
   "name": "python3"
  },
  "language_info": {
   "codemirror_mode": {
    "name": "ipython",
    "version": 3
   },
   "file_extension": ".py",
   "mimetype": "text/x-python",
   "name": "python",
   "nbconvert_exporter": "python",
   "pygments_lexer": "ipython3",
   "version": "3.10.12"
  },
  "papermill": {
   "default_parameters": {},
   "duration": 25805.59048,
   "end_time": "2025-02-10T06:08:42.095196",
   "environment_variables": {},
   "exception": true,
   "input_path": "__notebook__.ipynb",
   "output_path": "__notebook__.ipynb",
   "parameters": {},
   "start_time": "2025-02-09T22:58:36.504716",
   "version": "2.6.0"
  }
 },
 "nbformat": 4,
 "nbformat_minor": 5
}
