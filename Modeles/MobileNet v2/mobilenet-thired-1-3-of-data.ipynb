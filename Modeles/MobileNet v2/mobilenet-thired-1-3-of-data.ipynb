{
 "cells": [
  {
   "cell_type": "code",
   "execution_count": 1,
   "id": "ea551e6f",
   "metadata": {
    "_cell_guid": "b1076dfc-b9ad-4769-8c92-a6c4dae69d19",
    "_uuid": "8f2839f25d086af736a60e9eeb907d3b93b6e0e5",
    "execution": {
     "iopub.execute_input": "2025-02-11T05:16:12.529667Z",
     "iopub.status.busy": "2025-02-11T05:16:12.529386Z",
     "iopub.status.idle": "2025-02-11T05:16:21.862437Z",
     "shell.execute_reply": "2025-02-11T05:16:21.861747Z"
    },
    "papermill": {
     "duration": 9.33905,
     "end_time": "2025-02-11T05:16:21.863987",
     "exception": false,
     "start_time": "2025-02-11T05:16:12.524937",
     "status": "completed"
    },
    "tags": []
   },
   "outputs": [],
   "source": [
    "# This Python 3 environment comes with many helpful analytics libraries installed\n",
    "# It is defined by the kaggle/python Docker image: https://github.com/kaggle/docker-python\n",
    "\n",
    "import numpy as np \n",
    "import pandas as pd \n",
    "import os\n",
    "import torch\n",
    "from torch import nn, optim\n",
    "from torchvision import datasets, transforms, models\n",
    "from torch.utils.data import DataLoader, random_split\n",
    "from sklearn.metrics import classification_report, confusion_matrix\n",
    "import os\n",
    "from PIL import Image, ImageFile\n",
    "import warnings\n",
    "\n",
    "with warnings.catch_warnings():\n",
    "    warnings.simplefilter(\"ignore\", Image.DecompressionBombWarning)"
   ]
  },
  {
   "cell_type": "code",
   "execution_count": 2,
   "id": "803e4177",
   "metadata": {
    "execution": {
     "iopub.execute_input": "2025-02-11T05:16:21.871434Z",
     "iopub.status.busy": "2025-02-11T05:16:21.871066Z",
     "iopub.status.idle": "2025-02-11T05:27:50.679443Z",
     "shell.execute_reply": "2025-02-11T05:27:50.678645Z"
    },
    "papermill": {
     "duration": 688.813814,
     "end_time": "2025-02-11T05:27:50.681185",
     "exception": false,
     "start_time": "2025-02-11T05:16:21.867371",
     "status": "completed"
    },
    "tags": []
   },
   "outputs": [],
   "source": [
    "import torch\n",
    "from torch import nn, optim\n",
    "from torchvision import datasets, transforms, models\n",
    "from torch.utils.data import DataLoader, random_split\n",
    "from sklearn.metrics import classification_report, confusion_matrix\n",
    "import os\n",
    "from PIL import Image, ImageFile\n",
    "import warnings\n",
    "\n",
    "with warnings.catch_warnings():\n",
    "    warnings.simplefilter(\"ignore\", Image.DecompressionBombWarning)\n",
    "\n",
    "\n",
    "\n",
    "# Define dataset path\n",
    "data_dir = '/kaggle/input/ai-generated-images-vs-real-images/train'\n",
    "\n",
    "\n",
    "\n",
    "Image.MAX_IMAGE_PIXELS = None  \n",
    "# or\n",
    "Image.MAX_IMAGE_PIXELS = 200000000  \n",
    "\n",
    "\n",
    "def convert_to_rgb(image):\n",
    "    if image.mode == 'P':  \n",
    "        image = image.convert(\"RGBA\")  \n",
    "    if image.mode == \"RGBA\":  \n",
    "        background = Image.new(\"RGB\", image.size, (255, 255, 255))\n",
    "        image = Image.alpha_composite(background, image).convert(\"RGB\")\n",
    "    elif image.mode != \"RGB\":\n",
    "        image = image.convert(\"RGB\") \n",
    "    return image\n",
    "\n",
    "\n",
    "\n",
    "def resize_large_image(image, max_size):\n",
    "    if image.size[0] > max_size[0] or image.size[1] > max_size[1]:\n",
    "        image.thumbnail(max_size, Image.Resampling.LANCZOS)  \n",
    "    return image\n",
    "\n",
    "\n",
    "train_transform = transforms.Compose([\n",
    "    transforms.Lambda(lambda img: resize_large_image(img, max_size=(5000, 5000))),  \n",
    "    transforms.Lambda(convert_to_rgb),               \n",
    "    transforms.RandomResizedCrop(224),               \n",
    "    transforms.RandomHorizontalFlip(p=0.5),          \n",
    "    transforms.RandomVerticalFlip(p=0.2),            \n",
    "    transforms.RandomRotation(degrees=15),           \n",
    "    transforms.ColorJitter(brightness=0.2, contrast=0.2, saturation=0.2, hue=0.1),  \n",
    "    transforms.ToTensor(),                           # Convert to tensor\n",
    "    transforms.Normalize([0.485, 0.456, 0.406], [0.229, 0.224, 0.225])  \n",
    "])\n",
    "\n",
    "\n",
    "\n",
    "val_transform = transforms.Compose([\n",
    "    transforms.Lambda(convert_to_rgb),  \n",
    "    transforms.Resize((224, 224)),      \n",
    "    transforms.ToTensor(),             \n",
    "    transforms.Normalize([0.485, 0.456, 0.406], [0.229, 0.224, 0.225])  \n",
    "])\n",
    "\n",
    "\n",
    "ImageFile.LOAD_TRUNCATED_IMAGES = True\n",
    "\n",
    "\n",
    "MIN_IMAGE_FILE_SIZE = 3284  \n",
    "\n",
    "\n",
    "def is_valid_image(file_path):\n",
    "    try:\n",
    "        if os.path.getsize(file_path) < MIN_IMAGE_FILE_SIZE:\n",
    "            return False\n",
    "        \n",
    "        with Image.open(file_path) as img:\n",
    "            img.verify()  \n",
    "        return True\n",
    "    except (OSError, Image.DecompressionBombError):\n",
    "        return False\n",
    "\n",
    "\n",
    "class ValidImageFolder(datasets.ImageFolder):\n",
    "    def __init__(self, root, transform=None):\n",
    "        super().__init__(root, transform)\n",
    "        self.samples = [(path, label) for path, label in self.samples if is_valid_image(path)]\n",
    "        self.targets = [label for _, label in self.samples]\n",
    "\n",
    "\n",
    "dataset = ValidImageFolder(root=data_dir, transform=train_transform)"
   ]
  },
  {
   "cell_type": "code",
   "execution_count": 3,
   "id": "50af7f5b",
   "metadata": {
    "execution": {
     "iopub.execute_input": "2025-02-11T05:27:50.688610Z",
     "iopub.status.busy": "2025-02-11T05:27:50.688369Z",
     "iopub.status.idle": "2025-02-11T05:27:50.709622Z",
     "shell.execute_reply": "2025-02-11T05:27:50.708634Z"
    },
    "papermill": {
     "duration": 0.026057,
     "end_time": "2025-02-11T05:27:50.710937",
     "exception": false,
     "start_time": "2025-02-11T05:27:50.684880",
     "status": "completed"
    },
    "tags": []
   },
   "outputs": [
    {
     "name": "stdout",
     "output_type": "stream",
     "text": [
      "Original Dataset Size: 47998\n",
      "Balanced Subset Size: 15999 (Fake: 8000, Real: 7999)\n"
     ]
    }
   ],
   "source": [
    "from torch.utils.data import Subset\n",
    "\n",
    "fake_indices = [i for i, (_, label) in enumerate(dataset.samples) if label == dataset.class_to_idx['fake']]\n",
    "real_indices = [i for i, (_, label) in enumerate(dataset.samples) if label == dataset.class_to_idx['real']]\n",
    "\n",
    "\n",
    "fake_subset_size = int(1.0/3.0 * len(fake_indices))\n",
    "real_subset_size = int(1.0/3.0 * len(real_indices))\n",
    "\n",
    "fake_subset_indices = fake_indices[fake_subset_size:fake_subset_size*2]  \n",
    "real_subset_indices = real_indices[real_subset_size:real_subset_size*2]  \n",
    "\n",
    "balanced_subset_indices = np.concatenate((fake_subset_indices, real_subset_indices))\n",
    "\n",
    "balanced_subset = Subset(dataset, balanced_subset_indices)\n",
    "\n",
    "print(f\"Original Dataset Size: {len(dataset)}\")\n",
    "print(f\"Balanced Subset Size: {len(balanced_subset)} (Fake: {fake_subset_size}, Real: {real_subset_size})\")\n"
   ]
  },
  {
   "cell_type": "code",
   "execution_count": 4,
   "id": "79725701",
   "metadata": {
    "execution": {
     "iopub.execute_input": "2025-02-11T05:27:50.718097Z",
     "iopub.status.busy": "2025-02-11T05:27:50.717837Z",
     "iopub.status.idle": "2025-02-11T05:27:50.747943Z",
     "shell.execute_reply": "2025-02-11T05:27:50.747270Z"
    },
    "papermill": {
     "duration": 0.035267,
     "end_time": "2025-02-11T05:27:50.749363",
     "exception": false,
     "start_time": "2025-02-11T05:27:50.714096",
     "status": "completed"
    },
    "tags": []
   },
   "outputs": [],
   "source": [
    "train_size = int(0.8 * len(balanced_subset))\n",
    "val_size = len(balanced_subset) - train_size\n",
    "train_dataset, val_dataset = random_split(balanced_subset, [train_size, val_size])\n",
    "\n",
    "val_dataset.dataset.transform = val_transform\n",
    "\n",
    "train_loader = DataLoader(train_dataset, batch_size=128, shuffle=True)\n",
    "val_loader = DataLoader(val_dataset, batch_size=128, shuffle=False)"
   ]
  },
  {
   "cell_type": "code",
   "execution_count": 5,
   "id": "858f86ac",
   "metadata": {
    "execution": {
     "iopub.execute_input": "2025-02-11T05:27:50.756463Z",
     "iopub.status.busy": "2025-02-11T05:27:50.756238Z",
     "iopub.status.idle": "2025-02-11T05:27:50.760408Z",
     "shell.execute_reply": "2025-02-11T05:27:50.759655Z"
    },
    "papermill": {
     "duration": 0.008855,
     "end_time": "2025-02-11T05:27:50.761552",
     "exception": false,
     "start_time": "2025-02-11T05:27:50.752697",
     "status": "completed"
    },
    "tags": []
   },
   "outputs": [
    {
     "name": "stdout",
     "output_type": "stream",
     "text": [
      "Train Dataset Size: 12799\n",
      "Validation Dataset Size: 3200\n"
     ]
    }
   ],
   "source": [
    "print(f\"Train Dataset Size: {len(train_dataset)}\")\n",
    "print(f\"Validation Dataset Size: {len(val_dataset)}\")"
   ]
  },
  {
   "cell_type": "code",
   "execution_count": 6,
   "id": "cfbdffdf",
   "metadata": {
    "execution": {
     "iopub.execute_input": "2025-02-11T05:27:50.768484Z",
     "iopub.status.busy": "2025-02-11T05:27:50.768277Z",
     "iopub.status.idle": "2025-02-11T05:27:50.967216Z",
     "shell.execute_reply": "2025-02-11T05:27:50.966334Z"
    },
    "papermill": {
     "duration": 0.203739,
     "end_time": "2025-02-11T05:27:50.968479",
     "exception": false,
     "start_time": "2025-02-11T05:27:50.764740",
     "status": "completed"
    },
    "tags": []
   },
   "outputs": [
    {
     "data": {
      "image/png": "[encoded data removed]",
      "text/plain": [
       "<Figure size 800x600 with 1 Axes>"
      ]
     },
     "metadata": {},
     "output_type": "display_data"
    }
   ],
   "source": [
    "import matplotlib.pyplot as plt\n",
    "\n",
    "train_size = len(train_dataset)\n",
    "val_size = len(val_dataset)\n",
    "\n",
    "labels = ['Training Dataset', 'Validation Dataset']\n",
    "sizes = [train_size, val_size]\n",
    "\n",
    "plt.figure(figsize=(8, 6))\n",
    "plt.bar(labels, sizes, color=['blue', 'orange'], alpha=0.7)\n",
    "\n",
    "for i, size in enumerate(sizes):\n",
    "    plt.text(i, size + 5, str(size), ha='center', fontsize=12)\n",
    "\n",
    "plt.title('Dataset Split Distribution')\n",
    "plt.ylabel('Number of Samples')\n",
    "plt.xlabel('Dataset')\n",
    "plt.ylim(0, max(sizes) + 50)\n",
    "plt.show()"
   ]
  },
  {
   "cell_type": "code",
   "execution_count": 7,
   "id": "a4bce6f9",
   "metadata": {
    "execution": {
     "iopub.execute_input": "2025-02-11T05:27:50.976711Z",
     "iopub.status.busy": "2025-02-11T05:27:50.976486Z",
     "iopub.status.idle": "2025-02-11T05:27:51.859794Z",
     "shell.execute_reply": "2025-02-11T05:27:51.858818Z"
    },
    "papermill": {
     "duration": 0.888765,
     "end_time": "2025-02-11T05:27:51.861076",
     "exception": false,
     "start_time": "2025-02-11T05:27:50.972311",
     "status": "completed"
    },
    "tags": []
   },
   "outputs": [
    {
     "name": "stderr",
     "output_type": "stream",
     "text": [
      "Downloading: \"https://download.pytorch.org/models/mobilenet_v2-7ebf99e0.pth\" to /root/.cache/torch/hub/checkpoints/mobilenet_v2-7ebf99e0.pth\n",
      "100%|██████████| 13.6M/13.6M [00:00<00:00, 76.9MB/s]\n",
      "<ipython-input-7-79b12408ad28>:8: FutureWarning: You are using `torch.load` with `weights_only=False` (the current default value), which uses the default pickle module implicitly. It is possible to construct malicious pickle data which will execute arbitrary code during unpickling (See https://github.com/pytorch/pytorch/blob/main/SECURITY.md#untrusted-models for more details). In a future release, the default value for `weights_only` will be flipped to `True`. This limits the functions that could be executed during unpickling. Arbitrary objects will no longer be allowed to be loaded via this mode unless they are explicitly allowlisted by the user via `torch.serialization.add_safe_globals`. We recommend you start setting `weights_only=True` for any use case where you don't have full control of the loaded file. Please open an issue on GitHub for any issues related to this experimental feature.\n",
      "  model.load_state_dict(torch.load('/kaggle/input/mobilenet/pytorch/default/1/best_model6for_mobilnet_sdk_Second_training_part.pth', map_location=device))\n"
     ]
    },
    {
     "data": {
      "text/plain": [
       "<All keys matched successfully>"
      ]
     },
     "execution_count": 7,
     "metadata": {},
     "output_type": "execute_result"
    }
   ],
   "source": [
    "model = models.mobilenet_v2(weights=models.MobileNet_V2_Weights.DEFAULT)\n",
    "num_ftrs = model.classifier[1].in_features\n",
    "model.classifier[1] = nn.Linear(num_ftrs, 2)\n",
    "device = torch.device(\"cuda\" if torch.cuda.is_available() else \"cpu\")\n",
    "model = model.to(device)\n",
    "\n",
    "# Load the model state\n",
    "model.load_state_dict(torch.load('/kaggle/input/mobilenet/pytorch/default/1/best_model6for_mobilnet_sdk_Second_training_part.pth', map_location=device))\n"
   ]
  },
  {
   "cell_type": "code",
   "execution_count": 8,
   "id": "5e21589a",
   "metadata": {
    "execution": {
     "iopub.execute_input": "2025-02-11T05:27:51.870382Z",
     "iopub.status.busy": "2025-02-11T05:27:51.870151Z",
     "iopub.status.idle": "2025-02-11T05:27:51.874409Z",
     "shell.execute_reply": "2025-02-11T05:27:51.873789Z"
    },
    "papermill": {
     "duration": 0.010155,
     "end_time": "2025-02-11T05:27:51.875579",
     "exception": false,
     "start_time": "2025-02-11T05:27:51.865424",
     "status": "completed"
    },
    "tags": []
   },
   "outputs": [],
   "source": [
    "from torch.optim.lr_scheduler import StepLR\n",
    "\n",
    "optimizer = optim.Adam(model.parameters(), lr=0.001)\n",
    "criterion = nn.CrossEntropyLoss()\n",
    "\n",
    "scheduler = StepLR(optimizer, step_size=3, gamma=0.1)"
   ]
  },
  {
   "cell_type": "code",
   "execution_count": 9,
   "id": "415f49ed",
   "metadata": {
    "execution": {
     "iopub.execute_input": "2025-02-11T05:27:51.884423Z",
     "iopub.status.busy": "2025-02-11T05:27:51.884222Z",
     "iopub.status.idle": "2025-02-11T05:27:51.887490Z",
     "shell.execute_reply": "2025-02-11T05:27:51.886688Z"
    },
    "papermill": {
     "duration": 0.009007,
     "end_time": "2025-02-11T05:27:51.888796",
     "exception": false,
     "start_time": "2025-02-11T05:27:51.879789",
     "status": "completed"
    },
    "tags": []
   },
   "outputs": [],
   "source": [
    "patience = 6\n",
    "trigger_times = 0\n",
    "best_val_loss = float('inf')"
   ]
  },
  {
   "cell_type": "code",
   "execution_count": 10,
   "id": "a482623f",
   "metadata": {
    "execution": {
     "iopub.execute_input": "2025-02-11T05:27:51.898282Z",
     "iopub.status.busy": "2025-02-11T05:27:51.898067Z",
     "iopub.status.idle": "2025-02-11T05:27:51.901147Z",
     "shell.execute_reply": "2025-02-11T05:27:51.900361Z"
    },
    "papermill": {
     "duration": 0.008769,
     "end_time": "2025-02-11T05:27:51.902283",
     "exception": false,
     "start_time": "2025-02-11T05:27:51.893514",
     "status": "completed"
    },
    "tags": []
   },
   "outputs": [],
   "source": [
    "epochs = 8\n",
    "best_val_acc = 0.0\n",
    "\n",
    "# data={\n",
    "#     \"train_losses\" : [],\n",
    "#     \"train_accuracies\" : [],\n",
    "#     \"val_losses\" : [],\n",
    "#     \"val_accuracies\" : [],\n",
    "# }"
   ]
  },
  {
   "cell_type": "code",
   "execution_count": 11,
   "id": "e2605782",
   "metadata": {
    "execution": {
     "iopub.execute_input": "2025-02-11T05:27:51.911184Z",
     "iopub.status.busy": "2025-02-11T05:27:51.910961Z",
     "iopub.status.idle": "2025-02-11T05:27:51.937680Z",
     "shell.execute_reply": "2025-02-11T05:27:51.936860Z"
    },
    "papermill": {
     "duration": 0.032517,
     "end_time": "2025-02-11T05:27:51.938913",
     "exception": false,
     "start_time": "2025-02-11T05:27:51.906396",
     "status": "completed"
    },
    "tags": []
   },
   "outputs": [
    {
     "name": "stdout",
     "output_type": "stream",
     "text": [
      "{'train_losses': [0.3579643191045705, 0.2871724981932502, 0.261627867957588, 0.2131132036447525, 0.1864492709687542, 0.1655151784118474, 0.1647572221956417, 0.1615731157900924, 0.2603123411437256, 0.2343573813229224, 0.2196677621185933, 0.1758497844034176, 0.1546286721184473, 0.1433306993583802, 0.137002611977112, 0.1312411304122908, 0.2564324679291055, 0.2074923665996305, 0.2104075270450174, 0.163938693802928, 0.1474275935852524, 0.1341397568638208, 0.1262468954184268, 0.1238365838053413], 'train_accuracies': [0.8484256582545512, 0.8794437065395734, 0.8951480584420658, 0.913665130088288, 0.9224939448394406, 0.9335885616063756, 0.9321822017345104, 0.9353074458942104, 0.8986639581217283, 0.9050707086491132, 0.9138213922962732, 0.9281193843269006, 0.9393702633018204, 0.9440581295413704, 0.945542620517228, 0.9484334713649504, 0.8933510430502383, 0.918352996327838, 0.9159309321040706, 0.933979217126338, 0.9422611141495428, 0.948355340260958, 0.9522618954605828, 0.9495273068208454], 'val_losses': [0.3028729051351547, 0.3264560627937317, 0.2852565610408783, 0.2316973173618316, 0.2349758476018905, 0.22232974588871, 0.2160235890746116, 0.2180216634273529, 0.266209996342659, 0.22880579829216, 0.2809083521366119, 0.1942803543806076, 0.1825687417387962, 0.1770115514099598, 0.1751657566428184, 0.1832314762473106, 0.3285383576154709, 0.2922476649284363, 0.2279957026243209, 0.168634412586689, 0.1684369146823883, 0.1617792227864265, 0.1595412445068359, 0.1612752094864845], 'val_accuracies': [0.8778125, 0.8659375, 0.87875, 0.9046875, 0.90375, 0.9078125, 0.9103125, 0.9103125, 0.8884375, 0.901875, 0.8909375, 0.9240625, 0.9246875, 0.928125, 0.9284375, 0.9309375, 0.873125, 0.8859375, 0.905625, 0.9353125, 0.9421875, 0.938125, 0.9396875, 0.938125]}\n"
     ]
    }
   ],
   "source": [
    "df = pd.read_csv(\"/kaggle/input/results-of-the-previse-epoches/MobileNet_2-3ofData.csv\")\n",
    "\n",
    "data = df.to_dict(orient=\"list\")\n",
    "\n",
    "print(data)"
   ]
  },
  {
   "cell_type": "code",
   "execution_count": 12,
   "id": "633acd3a",
   "metadata": {
    "execution": {
     "iopub.execute_input": "2025-02-11T05:27:51.948276Z",
     "iopub.status.busy": "2025-02-11T05:27:51.948055Z",
     "iopub.status.idle": "2025-02-11T13:35:08.138336Z",
     "shell.execute_reply": "2025-02-11T13:35:08.137207Z"
    },
    "papermill": {
     "duration": 29236.20252,
     "end_time": "2025-02-11T13:35:08.145849",
     "exception": false,
     "start_time": "2025-02-11T05:27:51.943329",
     "status": "completed"
    },
    "tags": []
   },
   "outputs": [
    {
     "name": "stdout",
     "output_type": "stream",
     "text": [
      "Epoch 1/8\n"
     ]
    },
    {
     "name": "stderr",
     "output_type": "stream",
     "text": [
      "/usr/local/lib/python3.10/dist-packages/PIL/Image.py:1054: UserWarning: Palette images with Transparency expressed in bytes should be converted to RGBA images\n",
      "  warnings.warn(\n"
     ]
    },
    {
     "name": "stdout",
     "output_type": "stream",
     "text": [
      "Train Loss: 0.1917 Acc: 0.9264\n",
      "Val Loss: 0.2048 Acc: 0.9213\n",
      "\n",
      "Classification Report:\n",
      "              precision    recall  f1-score   support\n",
      "\n",
      "        fake       0.91      0.93      0.92      1613\n",
      "        real       0.93      0.91      0.92      1587\n",
      "\n",
      "    accuracy                           0.92      3200\n",
      "   macro avg       0.92      0.92      0.92      3200\n",
      "weighted avg       0.92      0.92      0.92      3200\n",
      "\n",
      "Epoch 2/8\n"
     ]
    },
    {
     "name": "stderr",
     "output_type": "stream",
     "text": [
      "/usr/local/lib/python3.10/dist-packages/PIL/Image.py:1054: UserWarning: Palette images with Transparency expressed in bytes should be converted to RGBA images\n",
      "  warnings.warn(\n"
     ]
    },
    {
     "name": "stdout",
     "output_type": "stream",
     "text": [
      "Train Loss: 0.1679 Acc: 0.9319\n",
      "Val Loss: 0.1946 Acc: 0.9241\n",
      "\n",
      "Classification Report:\n",
      "              precision    recall  f1-score   support\n",
      "\n",
      "        fake       0.95      0.90      0.92      1613\n",
      "        real       0.90      0.95      0.93      1587\n",
      "\n",
      "    accuracy                           0.92      3200\n",
      "   macro avg       0.93      0.92      0.92      3200\n",
      "weighted avg       0.93      0.92      0.92      3200\n",
      "\n",
      "Epoch 3/8\n"
     ]
    },
    {
     "name": "stderr",
     "output_type": "stream",
     "text": [
      "/usr/local/lib/python3.10/dist-packages/PIL/Image.py:1054: UserWarning: Palette images with Transparency expressed in bytes should be converted to RGBA images\n",
      "  warnings.warn(\n"
     ]
    },
    {
     "name": "stdout",
     "output_type": "stream",
     "text": [
      "Train Loss: 0.1642 Acc: 0.9354\n",
      "Val Loss: 0.1886 Acc: 0.9206\n",
      "\n",
      "Classification Report:\n",
      "              precision    recall  f1-score   support\n",
      "\n",
      "        fake       0.93      0.91      0.92      1613\n",
      "        real       0.91      0.93      0.92      1587\n",
      "\n",
      "    accuracy                           0.92      3200\n",
      "   macro avg       0.92      0.92      0.92      3200\n",
      "weighted avg       0.92      0.92      0.92      3200\n",
      "\n",
      "Epoch 4/8\n"
     ]
    },
    {
     "name": "stderr",
     "output_type": "stream",
     "text": [
      "/usr/local/lib/python3.10/dist-packages/PIL/Image.py:1054: UserWarning: Palette images with Transparency expressed in bytes should be converted to RGBA images\n",
      "  warnings.warn(\n"
     ]
    },
    {
     "name": "stdout",
     "output_type": "stream",
     "text": [
      "Train Loss: 0.1368 Acc: 0.9458\n",
      "Val Loss: 0.1402 Acc: 0.9434\n",
      "\n",
      "Classification Report:\n",
      "              precision    recall  f1-score   support\n",
      "\n",
      "        fake       0.96      0.93      0.94      1613\n",
      "        real       0.93      0.96      0.94      1587\n",
      "\n",
      "    accuracy                           0.94      3200\n",
      "   macro avg       0.94      0.94      0.94      3200\n",
      "weighted avg       0.94      0.94      0.94      3200\n",
      "\n",
      "Epoch 5/8\n"
     ]
    },
    {
     "name": "stderr",
     "output_type": "stream",
     "text": [
      "/usr/local/lib/python3.10/dist-packages/PIL/Image.py:1054: UserWarning: Palette images with Transparency expressed in bytes should be converted to RGBA images\n",
      "  warnings.warn(\n"
     ]
    },
    {
     "name": "stdout",
     "output_type": "stream",
     "text": [
      "Train Loss: 0.1168 Acc: 0.9543\n",
      "Val Loss: 0.1399 Acc: 0.9475\n",
      "\n",
      "Classification Report:\n",
      "              precision    recall  f1-score   support\n",
      "\n",
      "        fake       0.96      0.93      0.95      1613\n",
      "        real       0.94      0.96      0.95      1587\n",
      "\n",
      "    accuracy                           0.95      3200\n",
      "   macro avg       0.95      0.95      0.95      3200\n",
      "weighted avg       0.95      0.95      0.95      3200\n",
      "\n",
      "Epoch 6/8\n"
     ]
    },
    {
     "name": "stderr",
     "output_type": "stream",
     "text": [
      "/usr/local/lib/python3.10/dist-packages/PIL/Image.py:1054: UserWarning: Palette images with Transparency expressed in bytes should be converted to RGBA images\n",
      "  warnings.warn(\n"
     ]
    },
    {
     "name": "stdout",
     "output_type": "stream",
     "text": [
      "Train Loss: 0.1101 Acc: 0.9582\n",
      "Val Loss: 0.1523 Acc: 0.9363\n",
      "\n",
      "Classification Report:\n",
      "              precision    recall  f1-score   support\n",
      "\n",
      "        fake       0.95      0.93      0.94      1613\n",
      "        real       0.93      0.95      0.94      1587\n",
      "\n",
      "    accuracy                           0.94      3200\n",
      "   macro avg       0.94      0.94      0.94      3200\n",
      "weighted avg       0.94      0.94      0.94      3200\n",
      "\n",
      "Early stopping trigger count: 1/6\n",
      "Epoch 7/8\n"
     ]
    },
    {
     "name": "stderr",
     "output_type": "stream",
     "text": [
      "/usr/local/lib/python3.10/dist-packages/PIL/Image.py:1054: UserWarning: Palette images with Transparency expressed in bytes should be converted to RGBA images\n",
      "  warnings.warn(\n"
     ]
    },
    {
     "name": "stdout",
     "output_type": "stream",
     "text": [
      "Train Loss: 0.1036 Acc: 0.9602\n",
      "Val Loss: 0.1487 Acc: 0.9425\n",
      "\n",
      "Classification Report:\n",
      "              precision    recall  f1-score   support\n",
      "\n",
      "        fake       0.95      0.93      0.94      1613\n",
      "        real       0.93      0.95      0.94      1587\n",
      "\n",
      "    accuracy                           0.94      3200\n",
      "   macro avg       0.94      0.94      0.94      3200\n",
      "weighted avg       0.94      0.94      0.94      3200\n",
      "\n",
      "Early stopping trigger count: 2/6\n",
      "Epoch 8/8\n"
     ]
    },
    {
     "name": "stderr",
     "output_type": "stream",
     "text": [
      "/usr/local/lib/python3.10/dist-packages/PIL/Image.py:1054: UserWarning: Palette images with Transparency expressed in bytes should be converted to RGBA images\n",
      "  warnings.warn(\n"
     ]
    },
    {
     "name": "stdout",
     "output_type": "stream",
     "text": [
      "Train Loss: 0.1097 Acc: 0.9577\n",
      "Val Loss: 0.1365 Acc: 0.9425\n",
      "\n",
      "Classification Report:\n",
      "              precision    recall  f1-score   support\n",
      "\n",
      "        fake       0.95      0.93      0.94      1613\n",
      "        real       0.93      0.95      0.94      1587\n",
      "\n",
      "    accuracy                           0.94      3200\n",
      "   macro avg       0.94      0.94      0.94      3200\n",
      "weighted avg       0.94      0.94      0.94      3200\n",
      "\n",
      "Best Validation Accuracy: 0.9475\n",
      "Best Validation loss: 0.1365\n"
     ]
    }
   ],
   "source": [
    "for epoch in range(epochs):\n",
    "    print(f\"Epoch {epoch+1}/{epochs}\")\n",
    "\n",
    "    # Training phase\n",
    "    model.train()\n",
    "    running_loss = 0.0\n",
    "    running_corrects = 0\n",
    "\n",
    "    for inputs, labels in train_loader:\n",
    "        inputs, labels = inputs.to(device), labels.to(device)\n",
    "\n",
    "        # Zero the parameter gradients\n",
    "        optimizer.zero_grad()\n",
    "\n",
    "        # Forward pass\n",
    "        outputs = model(inputs)\n",
    "        _, preds = torch.max(outputs, 1)\n",
    "        loss = criterion(outputs, labels)\n",
    "\n",
    "        # Backward pass and optimization\n",
    "        loss.backward()\n",
    "        optimizer.step()\n",
    "\n",
    "        # Track loss and accuracy\n",
    "        running_loss += loss.item() * inputs.size(0)\n",
    "        running_corrects += torch.sum(preds == labels.data)\n",
    "\n",
    "    epoch_loss = running_loss / len(train_dataset)\n",
    "    epoch_acc = running_corrects.double() / len(train_dataset)\n",
    "\n",
    "    data[\"train_losses\"].append(epoch_loss)\n",
    "    data[\"train_accuracies\"].append(epoch_acc.item())\n",
    "    \n",
    "    print(f\"Train Loss: {epoch_loss:.4f} Acc: {epoch_acc:.4f}\")\n",
    "\n",
    "    # Validation phase\n",
    "    model.eval()\n",
    "    val_loss = 0.0\n",
    "    val_corrects = 0\n",
    "    all_preds = []\n",
    "    all_labels = []\n",
    "\n",
    "    with torch.no_grad():\n",
    "        for inputs, labels in val_loader:\n",
    "            inputs, labels = inputs.to(device), labels.to(device)\n",
    "\n",
    "            outputs = model(inputs)\n",
    "            _, preds = torch.max(outputs, 1)\n",
    "            loss = criterion(outputs, labels)\n",
    "\n",
    "            val_loss += loss.item() * inputs.size(0)\n",
    "            val_corrects += torch.sum(preds == labels.data)\n",
    "\n",
    "            # Store predictions and labels for metrics\n",
    "            all_preds.extend(preds.cpu().numpy())\n",
    "            all_labels.extend(labels.cpu().numpy())\n",
    "\n",
    "    val_loss = val_loss / len(val_dataset)\n",
    "    val_acc = val_corrects.double() / len(val_dataset)\n",
    "\n",
    "    data[\"val_losses\"].append(val_loss)\n",
    "    data[\"val_accuracies\"].append(val_acc.item())\n",
    "\n",
    "    print(f\"Val Loss: {val_loss:.4f} Acc: {val_acc:.4f}\")\n",
    "\n",
    "    # Precision, Recall, F1-Score\n",
    "    print(\"\\nClassification Report:\")\n",
    "    print(classification_report(all_labels, all_preds, target_names=dataset.classes))\n",
    "\n",
    "    if val_acc > best_val_acc:\n",
    "        best_val_acc = val_acc\n",
    "    \n",
    "    # Save the best model\n",
    "    if val_loss < best_val_loss:\n",
    "        best_val_loss = val_loss\n",
    "        torch.save(model.state_dict(), f'best_model{epoch}for_mobilnet_sdk_Thired_training_part.pth')\n",
    "        trigger_times = 0  # Reset early stopping counter\n",
    "    else:\n",
    "        trigger_times += 1\n",
    "        print(f\"Early stopping trigger count: {trigger_times}/{patience}\")\n",
    "        if trigger_times >= patience:\n",
    "            print(\"Early stopping...\")\n",
    "            break\n",
    "\n",
    "    # Step the scheduler\n",
    "    scheduler.step()\n",
    "\n",
    "print(f'Best Validation Accuracy: {best_val_acc:.4f}')\n",
    "print(f'Best Validation loss: {best_val_loss:.4f}')\n"
   ]
  },
  {
   "cell_type": "code",
   "execution_count": 13,
   "id": "c2111a34",
   "metadata": {
    "execution": {
     "iopub.execute_input": "2025-02-11T13:35:08.158494Z",
     "iopub.status.busy": "2025-02-11T13:35:08.158217Z",
     "iopub.status.idle": "2025-02-11T13:35:08.162379Z",
     "shell.execute_reply": "2025-02-11T13:35:08.161551Z"
    },
    "papermill": {
     "duration": 0.011896,
     "end_time": "2025-02-11T13:35:08.163640",
     "exception": false,
     "start_time": "2025-02-11T13:35:08.151744",
     "status": "completed"
    },
    "tags": []
   },
   "outputs": [],
   "source": [
    "df = pd.DataFrame(data)"
   ]
  },
  {
   "cell_type": "code",
   "execution_count": 14,
   "id": "b1fb4cd0",
   "metadata": {
    "execution": {
     "iopub.execute_input": "2025-02-11T13:35:08.175761Z",
     "iopub.status.busy": "2025-02-11T13:35:08.175520Z",
     "iopub.status.idle": "2025-02-11T13:35:08.179338Z",
     "shell.execute_reply": "2025-02-11T13:35:08.178715Z"
    },
    "papermill": {
     "duration": 0.011323,
     "end_time": "2025-02-11T13:35:08.180580",
     "exception": false,
     "start_time": "2025-02-11T13:35:08.169257",
     "status": "completed"
    },
    "tags": []
   },
   "outputs": [
    {
     "name": "stdout",
     "output_type": "stream",
     "text": [
      "{'train_losses': [0.3579643191045705, 0.2871724981932502, 0.261627867957588, 0.2131132036447525, 0.1864492709687542, 0.1655151784118474, 0.1647572221956417, 0.1615731157900924, 0.2603123411437256, 0.2343573813229224, 0.2196677621185933, 0.1758497844034176, 0.1546286721184473, 0.1433306993583802, 0.137002611977112, 0.1312411304122908, 0.2564324679291055, 0.2074923665996305, 0.2104075270450174, 0.163938693802928, 0.1474275935852524, 0.1341397568638208, 0.1262468954184268, 0.1238365838053413, 0.19167397761239663, 0.1679085348989267, 0.16419428763692104, 0.13683960891003272, 0.11679753923576337, 0.110114584483293, 0.1036208535332318, 0.10971668681503972], 'train_accuracies': [0.8484256582545512, 0.8794437065395734, 0.8951480584420658, 0.913665130088288, 0.9224939448394406, 0.9335885616063756, 0.9321822017345104, 0.9353074458942104, 0.8986639581217283, 0.9050707086491132, 0.9138213922962732, 0.9281193843269006, 0.9393702633018204, 0.9440581295413704, 0.945542620517228, 0.9484334713649504, 0.8933510430502383, 0.918352996327838, 0.9159309321040706, 0.933979217126338, 0.9422611141495428, 0.948355340260958, 0.9522618954605828, 0.9495273068208454, 0.9264005000390656, 0.931947808422533, 0.935385576998203, 0.9457770138292054, 0.9542933041643878, 0.9581998593640129, 0.9602312680678178, 0.9576529416360653], 'val_losses': [0.3028729051351547, 0.3264560627937317, 0.2852565610408783, 0.2316973173618316, 0.2349758476018905, 0.22232974588871, 0.2160235890746116, 0.2180216634273529, 0.266209996342659, 0.22880579829216, 0.2809083521366119, 0.1942803543806076, 0.1825687417387962, 0.1770115514099598, 0.1751657566428184, 0.1832314762473106, 0.3285383576154709, 0.2922476649284363, 0.2279957026243209, 0.168634412586689, 0.1684369146823883, 0.1617792227864265, 0.1595412445068359, 0.1612752094864845, 0.20484023928642273, 0.19462133288383485, 0.18859064400196077, 0.1402114899456501, 0.13986226975917815, 0.15227633237838745, 0.14873792260885238, 0.1365477165579796], 'val_accuracies': [0.8778125, 0.8659375, 0.87875, 0.9046875, 0.90375, 0.9078125, 0.9103125, 0.9103125, 0.8884375, 0.901875, 0.8909375, 0.9240625, 0.9246875, 0.928125, 0.9284375, 0.9309375, 0.873125, 0.8859375, 0.905625, 0.9353125, 0.9421875, 0.938125, 0.9396875, 0.938125, 0.92125, 0.9240625, 0.920625, 0.9434375, 0.9475, 0.93625, 0.9425, 0.9425]}\n"
     ]
    }
   ],
   "source": [
    "print(data)"
   ]
  },
  {
   "cell_type": "code",
   "execution_count": 15,
   "id": "cc7d4169",
   "metadata": {
    "execution": {
     "iopub.execute_input": "2025-02-11T13:35:08.192808Z",
     "iopub.status.busy": "2025-02-11T13:35:08.192548Z",
     "iopub.status.idle": "2025-02-11T13:35:08.211081Z",
     "shell.execute_reply": "2025-02-11T13:35:08.210275Z"
    },
    "papermill": {
     "duration": 0.02591,
     "end_time": "2025-02-11T13:35:08.212330",
     "exception": false,
     "start_time": "2025-02-11T13:35:08.186420",
     "status": "completed"
    },
    "tags": []
   },
   "outputs": [
    {
     "data": {
      "text/html": [
       "<div>\n",
       "<style scoped>\n",
       "    .dataframe tbody tr th:only-of-type {\n",
       "        vertical-align: middle;\n",
       "    }\n",
       "\n",
       "    .dataframe tbody tr th {\n",
       "        vertical-align: top;\n",
       "    }\n",
       "\n",
       "    .dataframe thead th {\n",
       "        text-align: right;\n",
       "    }\n",
       "</style>\n",
       "<table border=\"1\" class=\"dataframe\">\n",
       "  <thead>\n",
       "    <tr style=\"text-align: right;\">\n",
       "      <th></th>\n",
       "      <th>train_losses</th>\n",
       "      <th>train_accuracies</th>\n",
       "      <th>val_losses</th>\n",
       "      <th>val_accuracies</th>\n",
       "    </tr>\n",
       "  </thead>\n",
       "  <tbody>\n",
       "    <tr>\n",
       "      <th>0</th>\n",
       "      <td>0.357964</td>\n",
       "      <td>0.848426</td>\n",
       "      <td>0.302873</td>\n",
       "      <td>0.877812</td>\n",
       "    </tr>\n",
       "    <tr>\n",
       "      <th>1</th>\n",
       "      <td>0.287172</td>\n",
       "      <td>0.879444</td>\n",
       "      <td>0.326456</td>\n",
       "      <td>0.865938</td>\n",
       "    </tr>\n",
       "    <tr>\n",
       "      <th>2</th>\n",
       "      <td>0.261628</td>\n",
       "      <td>0.895148</td>\n",
       "      <td>0.285257</td>\n",
       "      <td>0.878750</td>\n",
       "    </tr>\n",
       "    <tr>\n",
       "      <th>3</th>\n",
       "      <td>0.213113</td>\n",
       "      <td>0.913665</td>\n",
       "      <td>0.231697</td>\n",
       "      <td>0.904687</td>\n",
       "    </tr>\n",
       "    <tr>\n",
       "      <th>4</th>\n",
       "      <td>0.186449</td>\n",
       "      <td>0.922494</td>\n",
       "      <td>0.234976</td>\n",
       "      <td>0.903750</td>\n",
       "    </tr>\n",
       "    <tr>\n",
       "      <th>5</th>\n",
       "      <td>0.165515</td>\n",
       "      <td>0.933589</td>\n",
       "      <td>0.222330</td>\n",
       "      <td>0.907813</td>\n",
       "    </tr>\n",
       "    <tr>\n",
       "      <th>6</th>\n",
       "      <td>0.164757</td>\n",
       "      <td>0.932182</td>\n",
       "      <td>0.216024</td>\n",
       "      <td>0.910312</td>\n",
       "    </tr>\n",
       "    <tr>\n",
       "      <th>7</th>\n",
       "      <td>0.161573</td>\n",
       "      <td>0.935307</td>\n",
       "      <td>0.218022</td>\n",
       "      <td>0.910312</td>\n",
       "    </tr>\n",
       "    <tr>\n",
       "      <th>8</th>\n",
       "      <td>0.260312</td>\n",
       "      <td>0.898664</td>\n",
       "      <td>0.266210</td>\n",
       "      <td>0.888437</td>\n",
       "    </tr>\n",
       "    <tr>\n",
       "      <th>9</th>\n",
       "      <td>0.234357</td>\n",
       "      <td>0.905071</td>\n",
       "      <td>0.228806</td>\n",
       "      <td>0.901875</td>\n",
       "    </tr>\n",
       "    <tr>\n",
       "      <th>10</th>\n",
       "      <td>0.219668</td>\n",
       "      <td>0.913821</td>\n",
       "      <td>0.280908</td>\n",
       "      <td>0.890938</td>\n",
       "    </tr>\n",
       "    <tr>\n",
       "      <th>11</th>\n",
       "      <td>0.175850</td>\n",
       "      <td>0.928119</td>\n",
       "      <td>0.194280</td>\n",
       "      <td>0.924063</td>\n",
       "    </tr>\n",
       "    <tr>\n",
       "      <th>12</th>\n",
       "      <td>0.154629</td>\n",
       "      <td>0.939370</td>\n",
       "      <td>0.182569</td>\n",
       "      <td>0.924687</td>\n",
       "    </tr>\n",
       "    <tr>\n",
       "      <th>13</th>\n",
       "      <td>0.143331</td>\n",
       "      <td>0.944058</td>\n",
       "      <td>0.177012</td>\n",
       "      <td>0.928125</td>\n",
       "    </tr>\n",
       "    <tr>\n",
       "      <th>14</th>\n",
       "      <td>0.137003</td>\n",
       "      <td>0.945543</td>\n",
       "      <td>0.175166</td>\n",
       "      <td>0.928438</td>\n",
       "    </tr>\n",
       "    <tr>\n",
       "      <th>15</th>\n",
       "      <td>0.131241</td>\n",
       "      <td>0.948433</td>\n",
       "      <td>0.183231</td>\n",
       "      <td>0.930937</td>\n",
       "    </tr>\n",
       "    <tr>\n",
       "      <th>16</th>\n",
       "      <td>0.256432</td>\n",
       "      <td>0.893351</td>\n",
       "      <td>0.328538</td>\n",
       "      <td>0.873125</td>\n",
       "    </tr>\n",
       "    <tr>\n",
       "      <th>17</th>\n",
       "      <td>0.207492</td>\n",
       "      <td>0.918353</td>\n",
       "      <td>0.292248</td>\n",
       "      <td>0.885938</td>\n",
       "    </tr>\n",
       "    <tr>\n",
       "      <th>18</th>\n",
       "      <td>0.210408</td>\n",
       "      <td>0.915931</td>\n",
       "      <td>0.227996</td>\n",
       "      <td>0.905625</td>\n",
       "    </tr>\n",
       "    <tr>\n",
       "      <th>19</th>\n",
       "      <td>0.163939</td>\n",
       "      <td>0.933979</td>\n",
       "      <td>0.168634</td>\n",
       "      <td>0.935312</td>\n",
       "    </tr>\n",
       "    <tr>\n",
       "      <th>20</th>\n",
       "      <td>0.147428</td>\n",
       "      <td>0.942261</td>\n",
       "      <td>0.168437</td>\n",
       "      <td>0.942187</td>\n",
       "    </tr>\n",
       "    <tr>\n",
       "      <th>21</th>\n",
       "      <td>0.134140</td>\n",
       "      <td>0.948355</td>\n",
       "      <td>0.161779</td>\n",
       "      <td>0.938125</td>\n",
       "    </tr>\n",
       "    <tr>\n",
       "      <th>22</th>\n",
       "      <td>0.126247</td>\n",
       "      <td>0.952262</td>\n",
       "      <td>0.159541</td>\n",
       "      <td>0.939688</td>\n",
       "    </tr>\n",
       "    <tr>\n",
       "      <th>23</th>\n",
       "      <td>0.123837</td>\n",
       "      <td>0.949527</td>\n",
       "      <td>0.161275</td>\n",
       "      <td>0.938125</td>\n",
       "    </tr>\n",
       "    <tr>\n",
       "      <th>24</th>\n",
       "      <td>0.191674</td>\n",
       "      <td>0.926401</td>\n",
       "      <td>0.204840</td>\n",
       "      <td>0.921250</td>\n",
       "    </tr>\n",
       "    <tr>\n",
       "      <th>25</th>\n",
       "      <td>0.167909</td>\n",
       "      <td>0.931948</td>\n",
       "      <td>0.194621</td>\n",
       "      <td>0.924063</td>\n",
       "    </tr>\n",
       "    <tr>\n",
       "      <th>26</th>\n",
       "      <td>0.164194</td>\n",
       "      <td>0.935386</td>\n",
       "      <td>0.188591</td>\n",
       "      <td>0.920625</td>\n",
       "    </tr>\n",
       "    <tr>\n",
       "      <th>27</th>\n",
       "      <td>0.136840</td>\n",
       "      <td>0.945777</td>\n",
       "      <td>0.140211</td>\n",
       "      <td>0.943438</td>\n",
       "    </tr>\n",
       "    <tr>\n",
       "      <th>28</th>\n",
       "      <td>0.116798</td>\n",
       "      <td>0.954293</td>\n",
       "      <td>0.139862</td>\n",
       "      <td>0.947500</td>\n",
       "    </tr>\n",
       "    <tr>\n",
       "      <th>29</th>\n",
       "      <td>0.110115</td>\n",
       "      <td>0.958200</td>\n",
       "      <td>0.152276</td>\n",
       "      <td>0.936250</td>\n",
       "    </tr>\n",
       "    <tr>\n",
       "      <th>30</th>\n",
       "      <td>0.103621</td>\n",
       "      <td>0.960231</td>\n",
       "      <td>0.148738</td>\n",
       "      <td>0.942500</td>\n",
       "    </tr>\n",
       "    <tr>\n",
       "      <th>31</th>\n",
       "      <td>0.109717</td>\n",
       "      <td>0.957653</td>\n",
       "      <td>0.136548</td>\n",
       "      <td>0.942500</td>\n",
       "    </tr>\n",
       "  </tbody>\n",
       "</table>\n",
       "</div>"
      ],
      "text/plain": [
       "    train_losses  train_accuracies  val_losses  val_accuracies\n",
       "0       0.357964          0.848426    0.302873        0.877812\n",
       "1       0.287172          0.879444    0.326456        0.865938\n",
       "2       0.261628          0.895148    0.285257        0.878750\n",
       "3       0.213113          0.913665    0.231697        0.904687\n",
       "4       0.186449          0.922494    0.234976        0.903750\n",
       "5       0.165515          0.933589    0.222330        0.907813\n",
       "6       0.164757          0.932182    0.216024        0.910312\n",
       "7       0.161573          0.935307    0.218022        0.910312\n",
       "8       0.260312          0.898664    0.266210        0.888437\n",
       "9       0.234357          0.905071    0.228806        0.901875\n",
       "10      0.219668          0.913821    0.280908        0.890938\n",
       "11      0.175850          0.928119    0.194280        0.924063\n",
       "12      0.154629          0.939370    0.182569        0.924687\n",
       "13      0.143331          0.944058    0.177012        0.928125\n",
       "14      0.137003          0.945543    0.175166        0.928438\n",
       "15      0.131241          0.948433    0.183231        0.930937\n",
       "16      0.256432          0.893351    0.328538        0.873125\n",
       "17      0.207492          0.918353    0.292248        0.885938\n",
       "18      0.210408          0.915931    0.227996        0.905625\n",
       "19      0.163939          0.933979    0.168634        0.935312\n",
       "20      0.147428          0.942261    0.168437        0.942187\n",
       "21      0.134140          0.948355    0.161779        0.938125\n",
       "22      0.126247          0.952262    0.159541        0.939688\n",
       "23      0.123837          0.949527    0.161275        0.938125\n",
       "24      0.191674          0.926401    0.204840        0.921250\n",
       "25      0.167909          0.931948    0.194621        0.924063\n",
       "26      0.164194          0.935386    0.188591        0.920625\n",
       "27      0.136840          0.945777    0.140211        0.943438\n",
       "28      0.116798          0.954293    0.139862        0.947500\n",
       "29      0.110115          0.958200    0.152276        0.936250\n",
       "30      0.103621          0.960231    0.148738        0.942500\n",
       "31      0.109717          0.957653    0.136548        0.942500"
      ]
     },
     "execution_count": 15,
     "metadata": {},
     "output_type": "execute_result"
    }
   ],
   "source": [
    "df"
   ]
  },
  {
   "cell_type": "code",
   "execution_count": 16,
   "id": "5f3a2b88",
   "metadata": {
    "execution": {
     "iopub.execute_input": "2025-02-11T13:35:08.225104Z",
     "iopub.status.busy": "2025-02-11T13:35:08.224857Z",
     "iopub.status.idle": "2025-02-11T13:35:08.233352Z",
     "shell.execute_reply": "2025-02-11T13:35:08.232551Z"
    },
    "papermill": {
     "duration": 0.016208,
     "end_time": "2025-02-11T13:35:08.234539",
     "exception": false,
     "start_time": "2025-02-11T13:35:08.218331",
     "status": "completed"
    },
    "tags": []
   },
   "outputs": [
    {
     "name": "stdout",
     "output_type": "stream",
     "text": [
      "CSV file saved successfully!\n"
     ]
    }
   ],
   "source": [
    "df.to_csv(\"/kaggle/working/Results_MobileNetAllofData.csv\", index=False)\n",
    "print(\"CSV file saved successfully!\")"
   ]
  },
  {
   "cell_type": "code",
   "execution_count": 17,
   "id": "88510cd3",
   "metadata": {
    "execution": {
     "iopub.execute_input": "2025-02-11T13:35:08.248219Z",
     "iopub.status.busy": "2025-02-11T13:35:08.247951Z",
     "iopub.status.idle": "2025-02-11T13:35:08.855782Z",
     "shell.execute_reply": "2025-02-11T13:35:08.854882Z"
    },
    "papermill": {
     "duration": 0.616994,
     "end_time": "2025-02-11T13:35:08.857741",
     "exception": false,
     "start_time": "2025-02-11T13:35:08.240747",
     "status": "completed"
    },
    "tags": []
   },
   "outputs": [
    {
     "data": {
      "image/png": "[encoded data removed]",
      "text/plain": [
       "<Figure size 1200x600 with 1 Axes>"
      ]
     },
     "metadata": {},
     "output_type": "display_data"
    },
    {
     "data": {
      "image/png": "[encoded data removed]",
      "text/plain": [
       "<Figure size 1200x600 with 1 Axes>"
      ]
     },
     "metadata": {},
     "output_type": "display_data"
    }
   ],
   "source": [
    "import matplotlib.pyplot as plt\n",
    "\n",
    "# Plot Training and Validation Loss\n",
    "plt.figure(figsize=(12, 6))\n",
    "plt.plot(range(1, len(data[\"train_losses\"]) + 1), data[\"train_losses\"], label='Training Loss', marker='o')\n",
    "plt.plot(range(1, len(data[\"val_losses\"]) + 1), data[\"val_losses\"], label='Validation Loss', marker='o')\n",
    "plt.title('Training and Validation Loss', fontsize=16)\n",
    "plt.xlabel('Epochs', fontsize=14)\n",
    "plt.ylabel('Loss', fontsize=14)\n",
    "plt.xticks(range(1, len(data[\"train_losses\"]) + 1))\n",
    "plt.legend(fontsize=12)\n",
    "plt.grid(alpha=0.5)\n",
    "plt.show()\n",
    "\n",
    "# Plot Training and Validation Accuracy\n",
    "plt.figure(figsize=(12, 6))\n",
    "plt.plot(range(1, len(data[\"train_accuracies\"]) + 1), data[\"train_accuracies\"], label='Training Accuracy', marker='o')\n",
    "plt.plot(range(1, len(data[\"val_accuracies\"]) + 1), data[\"val_accuracies\"], label='Validation Accuracy', marker='o')\n",
    "plt.title('Training and Validation Accuracy', fontsize=16)\n",
    "plt.xlabel('Epochs', fontsize=14)\n",
    "plt.ylabel('Accuracy', fontsize=14)\n",
    "plt.xticks(range(1, len(data[\"train_accuracies\"]) + 1))\n",
    "plt.legend(fontsize=12)\n",
    "plt.grid(alpha=0.5)\n",
    "plt.show()"
   ]
  },
  {
   "cell_type": "code",
   "execution_count": null,
   "id": "88df6abc",
   "metadata": {
    "papermill": {
     "duration": 0.00899,
     "end_time": "2025-02-11T13:35:08.876733",
     "exception": false,
     "start_time": "2025-02-11T13:35:08.867743",
     "status": "completed"
    },
    "tags": []
   },
   "outputs": [],
   "source": []
  }
 ],
 "metadata": {
  "kaggle": {
   "accelerator": "gpu",
   "dataSources": [
    {
     "datasetId": 5070657,
     "sourceId": 8497982,
     "sourceType": "datasetVersion"
    },
    {
     "datasetId": 6643866,
     "sourceId": 10718565,
     "sourceType": "datasetVersion"
    },
    {
     "isSourceIdPinned": true,
     "modelId": 239908,
     "modelInstanceId": 218180,
     "sourceId": 255168,
     "sourceType": "modelInstanceVersion"
    }
   ],
   "isGpuEnabled": true,
   "isInternetEnabled": true,
   "language": "python",
   "sourceType": "notebook"
  },
  "kernelspec": {
   "display_name": "Python 3",
   "language": "python",
   "name": "python3"
  },
  "language_info": {
   "codemirror_mode": {
    "name": "ipython",
    "version": 3
   },
   "file_extension": ".py",
   "mimetype": "text/x-python",
   "name": "python",
   "nbconvert_exporter": "python",
   "pygments_lexer": "ipython3",
   "version": "3.10.12"
  },
  "papermill": {
   "default_parameters": {},
   "duration": 29940.848043,
   "end_time": "2025-02-11T13:35:10.738341",
   "environment_variables": {},
   "exception": null,
   "input_path": "__notebook__.ipynb",
   "output_path": "__notebook__.ipynb",
   "parameters": {},
   "start_time": "2025-02-11T05:16:09.890298",
   "version": "2.6.0"
  }
 },
 "nbformat": 4,
 "nbformat_minor": 5
}
