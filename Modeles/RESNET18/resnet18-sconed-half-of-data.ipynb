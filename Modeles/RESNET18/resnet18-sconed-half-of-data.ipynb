{
 "cells": [
  {
   "cell_type": "code",
   "execution_count": 1,
   "id": "81ff4b94",
   "metadata": {
    "_cell_guid": "b1076dfc-b9ad-4769-8c92-a6c4dae69d19",
    "_uuid": "8f2839f25d086af736a60e9eeb907d3b93b6e0e5",
    "execution": {
     "iopub.execute_input": "2025-02-10T20:52:23.392187Z",
     "iopub.status.busy": "2025-02-10T20:52:23.391886Z",
     "iopub.status.idle": "2025-02-10T20:52:32.508163Z",
     "shell.execute_reply": "2025-02-10T20:52:32.507421Z"
    },
    "papermill": {
     "duration": 9.122252,
     "end_time": "2025-02-10T20:52:32.509689",
     "exception": false,
     "start_time": "2025-02-10T20:52:23.387437",
     "status": "completed"
    },
    "tags": []
   },
   "outputs": [],
   "source": [
    "import numpy as np \n",
    "import pandas as pd \n",
    "import os\n",
    "import torch\n",
    "import matplotlib.pyplot as plt\n",
    "from torch import nn, optim\n",
    "from torchvision import datasets, transforms, models\n",
    "from torch.utils.data import DataLoader, random_split\n",
    "from sklearn.metrics import classification_report, confusion_matrix\n",
    "from PIL import Image, ImageFile\n",
    "from torch.utils.data import Subset\n",
    "\n",
    "import warnings\n",
    "\n",
    "with warnings.catch_warnings():\n",
    "    warnings.simplefilter(\"ignore\", Image.DecompressionBombWarning)"
   ]
  },
  {
   "cell_type": "code",
   "execution_count": 2,
   "id": "527c7446",
   "metadata": {
    "execution": {
     "iopub.execute_input": "2025-02-10T20:52:32.517014Z",
     "iopub.status.busy": "2025-02-10T20:52:32.516647Z",
     "iopub.status.idle": "2025-02-10T20:59:33.354649Z",
     "shell.execute_reply": "2025-02-10T20:59:33.353884Z"
    },
    "papermill": {
     "duration": 420.843251,
     "end_time": "2025-02-10T20:59:33.356397",
     "exception": false,
     "start_time": "2025-02-10T20:52:32.513146",
     "status": "completed"
    },
    "tags": []
   },
   "outputs": [],
   "source": [
    "# Define dataset path\n",
    "data_dir = '/kaggle/input/ai-generated-images-vs-real-images/train'\n",
    "\n",
    "\n",
    "\n",
    "Image.MAX_IMAGE_PIXELS = None  \n",
    "# or\n",
    "Image.MAX_IMAGE_PIXELS = 200000000  \n",
    "\n",
    "\n",
    "def convert_to_rgb(image):\n",
    "    if image.mode == 'P':  \n",
    "        image = image.convert(\"RGBA\")  \n",
    "    if image.mode == \"RGBA\":  \n",
    "        background = Image.new(\"RGB\", image.size, (255, 255, 255))\n",
    "        image = Image.alpha_composite(background, image).convert(\"RGB\")\n",
    "    elif image.mode != \"RGB\":\n",
    "        image = image.convert(\"RGB\") \n",
    "    return image\n",
    "\n",
    "\n",
    "\n",
    "def resize_large_image(image, max_size):\n",
    "    if image.size[0] > max_size[0] or image.size[1] > max_size[1]:\n",
    "        image.thumbnail(max_size, Image.Resampling.LANCZOS)  \n",
    "    return image\n",
    "\n",
    "\n",
    "train_transform = transforms.Compose([\n",
    "    transforms.Lambda(lambda img: resize_large_image(img, max_size=(5000, 5000))),  \n",
    "    transforms.Lambda(convert_to_rgb),               \n",
    "    transforms.RandomResizedCrop(224),               \n",
    "    transforms.RandomHorizontalFlip(p=0.5),          \n",
    "    transforms.RandomVerticalFlip(p=0.2),            \n",
    "    transforms.RandomRotation(degrees=15),           \n",
    "    transforms.ColorJitter(brightness=0.2, contrast=0.2, saturation=0.2, hue=0.1),  \n",
    "    transforms.ToTensor(),                           # Convert to tensor\n",
    "    transforms.Normalize([0.485, 0.456, 0.406], [0.229, 0.224, 0.225])  \n",
    "])\n",
    "\n",
    "\n",
    "\n",
    "val_transform = transforms.Compose([\n",
    "    transforms.Lambda(convert_to_rgb),  \n",
    "    transforms.Resize((224, 224)),      \n",
    "    transforms.ToTensor(),             \n",
    "    transforms.Normalize([0.485, 0.456, 0.406], [0.229, 0.224, 0.225])  \n",
    "])\n",
    "\n",
    "\n",
    "ImageFile.LOAD_TRUNCATED_IMAGES = True\n",
    "\n",
    "\n",
    "MIN_IMAGE_FILE_SIZE = 3284  \n",
    "\n",
    "\n",
    "def is_valid_image(file_path):\n",
    "    try:\n",
    "        if os.path.getsize(file_path) < MIN_IMAGE_FILE_SIZE:\n",
    "            return False\n",
    "        \n",
    "        with Image.open(file_path) as img:\n",
    "            img.verify()  \n",
    "        return True\n",
    "    except (OSError, Image.DecompressionBombError):\n",
    "        return False\n",
    "\n",
    "\n",
    "class ValidImageFolder(datasets.ImageFolder):\n",
    "    def __init__(self, root, transform=None):\n",
    "        super().__init__(root, transform)\n",
    "        self.samples = [(path, label) for path, label in self.samples if is_valid_image(path)]\n",
    "        self.targets = [label for _, label in self.samples]\n",
    "\n",
    "\n",
    "dataset = ValidImageFolder(root=data_dir, transform=train_transform)"
   ]
  },
  {
   "cell_type": "code",
   "execution_count": 3,
   "id": "f6bce924",
   "metadata": {
    "execution": {
     "iopub.execute_input": "2025-02-10T20:59:33.364023Z",
     "iopub.status.busy": "2025-02-10T20:59:33.363772Z",
     "iopub.status.idle": "2025-02-10T20:59:33.386756Z",
     "shell.execute_reply": "2025-02-10T20:59:33.385928Z"
    },
    "papermill": {
     "duration": 0.027729,
     "end_time": "2025-02-10T20:59:33.387902",
     "exception": false,
     "start_time": "2025-02-10T20:59:33.360173",
     "status": "completed"
    },
    "tags": []
   },
   "outputs": [
    {
     "name": "stdout",
     "output_type": "stream",
     "text": [
      "Original Dataset Size: 47998\n",
      "Balanced Subset Size: 23999 (Fake: 12000, Real: 11999)\n"
     ]
    }
   ],
   "source": [
    "fake_indices = [i for i, (_, label) in enumerate(dataset.samples) if label == dataset.class_to_idx['fake']]\n",
    "real_indices = [i for i, (_, label) in enumerate(dataset.samples) if label == dataset.class_to_idx['real']]\n",
    "\n",
    "\n",
    "fake_subset_size = int(0.5 * len(fake_indices))\n",
    "real_subset_size = int(0.5 * len(real_indices))\n",
    "\n",
    "fake_subset_indices = fake_indices[:fake_subset_size]  \n",
    "real_subset_indices = real_indices[:real_subset_size]  \n",
    "\n",
    "balanced_subset_indices = np.concatenate((fake_subset_indices, real_subset_indices))\n",
    "\n",
    "balanced_subset = Subset(dataset, balanced_subset_indices)\n",
    "\n",
    "print(f\"Original Dataset Size: {len(dataset)}\")\n",
    "print(f\"Balanced Subset Size: {len(balanced_subset)} (Fake: {fake_subset_size}, Real: {real_subset_size})\")"
   ]
  },
  {
   "cell_type": "code",
   "execution_count": 4,
   "id": "927e361b",
   "metadata": {
    "execution": {
     "iopub.execute_input": "2025-02-10T20:59:33.394972Z",
     "iopub.status.busy": "2025-02-10T20:59:33.394737Z",
     "iopub.status.idle": "2025-02-10T20:59:33.424220Z",
     "shell.execute_reply": "2025-02-10T20:59:33.423408Z"
    },
    "papermill": {
     "duration": 0.034441,
     "end_time": "2025-02-10T20:59:33.425594",
     "exception": false,
     "start_time": "2025-02-10T20:59:33.391153",
     "status": "completed"
    },
    "tags": []
   },
   "outputs": [],
   "source": [
    "train_size = int(0.8 * len(balanced_subset))\n",
    "val_size = len(balanced_subset) - train_size\n",
    "train_dataset, val_dataset = random_split(balanced_subset, [train_size, val_size])\n",
    "\n",
    "val_dataset.dataset.transform = val_transform\n",
    "\n",
    "train_loader = DataLoader(train_dataset, batch_size=512, shuffle=True)\n",
    "val_loader = DataLoader(val_dataset, batch_size=512, shuffle=False)"
   ]
  },
  {
   "cell_type": "code",
   "execution_count": 5,
   "id": "4560934b",
   "metadata": {
    "execution": {
     "iopub.execute_input": "2025-02-10T20:59:33.432469Z",
     "iopub.status.busy": "2025-02-10T20:59:33.432251Z",
     "iopub.status.idle": "2025-02-10T20:59:33.436285Z",
     "shell.execute_reply": "2025-02-10T20:59:33.435622Z"
    },
    "papermill": {
     "duration": 0.008858,
     "end_time": "2025-02-10T20:59:33.437541",
     "exception": false,
     "start_time": "2025-02-10T20:59:33.428683",
     "status": "completed"
    },
    "tags": []
   },
   "outputs": [
    {
     "name": "stdout",
     "output_type": "stream",
     "text": [
      "Train Dataset Size: 19199\n",
      "Validation Dataset Size: 4800\n"
     ]
    }
   ],
   "source": [
    "print(f\"Train Dataset Size: {len(train_dataset)}\")\n",
    "print(f\"Validation Dataset Size: {len(val_dataset)}\")"
   ]
  },
  {
   "cell_type": "code",
   "execution_count": 6,
   "id": "3aea301b",
   "metadata": {
    "execution": {
     "iopub.execute_input": "2025-02-10T20:59:33.444557Z",
     "iopub.status.busy": "2025-02-10T20:59:33.444334Z",
     "iopub.status.idle": "2025-02-10T20:59:33.670788Z",
     "shell.execute_reply": "2025-02-10T20:59:33.670008Z"
    },
    "papermill": {
     "duration": 0.231737,
     "end_time": "2025-02-10T20:59:33.672430",
     "exception": false,
     "start_time": "2025-02-10T20:59:33.440693",
     "status": "completed"
    },
    "tags": []
   },
   "outputs": [
    {
     "data": {
      "image/png": "[encoded data removed]",
      "text/plain": [
       "<Figure size 800x600 with 1 Axes>"
      ]
     },
     "metadata": {},
     "output_type": "display_data"
    }
   ],
   "source": [
    "train_size = len(train_dataset)\n",
    "val_size = len(val_dataset)\n",
    "\n",
    "labels = ['Training Dataset', 'Validation Dataset']\n",
    "sizes = [train_size, val_size]\n",
    "\n",
    "plt.figure(figsize=(8, 6))\n",
    "plt.bar(labels, sizes, color=['blue', 'orange'], alpha=0.7)\n",
    "\n",
    "for i, size in enumerate(sizes):\n",
    "    plt.text(i, size + 5, str(size), ha='center', fontsize=12)\n",
    "\n",
    "plt.title('Dataset Split Distribution')\n",
    "plt.ylabel('Number of Samples')\n",
    "plt.xlabel('Dataset')\n",
    "plt.ylim(0, max(sizes) + 50)\n",
    "plt.show()"
   ]
  },
  {
   "cell_type": "code",
   "execution_count": 7,
   "id": "2e22e1b4",
   "metadata": {
    "execution": {
     "iopub.execute_input": "2025-02-10T20:59:33.681116Z",
     "iopub.status.busy": "2025-02-10T20:59:33.680885Z",
     "iopub.status.idle": "2025-02-10T20:59:33.732357Z",
     "shell.execute_reply": "2025-02-10T20:59:33.731399Z"
    },
    "papermill": {
     "duration": 0.057165,
     "end_time": "2025-02-10T20:59:33.733619",
     "exception": false,
     "start_time": "2025-02-10T20:59:33.676454",
     "status": "completed"
    },
    "tags": []
   },
   "outputs": [
    {
     "name": "stdout",
     "output_type": "stream",
     "text": [
      "cuda\n"
     ]
    }
   ],
   "source": [
    "device = torch.device(\"cuda\" if torch.cuda.is_available() else \"cpu\")\n",
    "print(device)"
   ]
  },
  {
   "cell_type": "code",
   "execution_count": 8,
   "id": "55d46f88",
   "metadata": {
    "execution": {
     "iopub.execute_input": "2025-02-10T20:59:33.742116Z",
     "iopub.status.busy": "2025-02-10T20:59:33.741881Z",
     "iopub.status.idle": "2025-02-10T20:59:34.988287Z",
     "shell.execute_reply": "2025-02-10T20:59:34.987441Z"
    },
    "papermill": {
     "duration": 1.252159,
     "end_time": "2025-02-10T20:59:34.989658",
     "exception": false,
     "start_time": "2025-02-10T20:59:33.737499",
     "status": "completed"
    },
    "tags": []
   },
   "outputs": [
    {
     "name": "stderr",
     "output_type": "stream",
     "text": [
      "/usr/local/lib/python3.10/dist-packages/torchvision/models/_utils.py:208: UserWarning: The parameter 'pretrained' is deprecated since 0.13 and may be removed in the future, please use 'weights' instead.\n",
      "  warnings.warn(\n",
      "/usr/local/lib/python3.10/dist-packages/torchvision/models/_utils.py:223: UserWarning: Arguments other than a weight enum or `None` for 'weights' are deprecated since 0.13 and may be removed in the future. The current behavior is equivalent to passing `weights=ResNet18_Weights.IMAGENET1K_V1`. You can also use `weights=ResNet18_Weights.DEFAULT` to get the most up-to-date weights.\n",
      "  warnings.warn(msg)\n",
      "Downloading: \"https://download.pytorch.org/models/resnet18-f37072fd.pth\" to /root/.cache/torch/hub/checkpoints/resnet18-f37072fd.pth\n",
      "100%|██████████| 44.7M/44.7M [00:00<00:00, 186MB/s]\n",
      "<ipython-input-8-1651b3b4e058>:16: FutureWarning: You are using `torch.load` with `weights_only=False` (the current default value), which uses the default pickle module implicitly. It is possible to construct malicious pickle data which will execute arbitrary code during unpickling (See https://github.com/pytorch/pytorch/blob/main/SECURITY.md#untrusted-models for more details). In a future release, the default value for `weights_only` will be flipped to `True`. This limits the functions that could be executed during unpickling. Arbitrary objects will no longer be allowed to be loaded via this mode unless they are explicitly allowlisted by the user via `torch.serialization.add_safe_globals`. We recommend you start setting `weights_only=True` for any use case where you don't have full control of the loaded file. Please open an issue on GitHub for any issues related to this experimental feature.\n",
      "  model.load_state_dict(torch.load('/kaggle/input/resnet-18-trained-first-half-of-data-training/pytorch/default/1/best_model6for_RESNET18_After_First_Half_training_part.pth', map_location=device))\n"
     ]
    },
    {
     "data": {
      "text/plain": [
       "<All keys matched successfully>"
      ]
     },
     "execution_count": 8,
     "metadata": {},
     "output_type": "execute_result"
    }
   ],
   "source": [
    "from torchvision.models import resnet18\n",
    "import torch.nn as nn\n",
    "from torch.optim.lr_scheduler import StepLR\n",
    "\n",
    "model = models.resnet18(pretrained=True)\n",
    "\n",
    "num_ftrs = model.fc.in_features\n",
    "model.fc = nn.Sequential(\n",
    "    nn.Dropout(p=0.5),  \n",
    "    nn.Linear(num_ftrs, 2)  \n",
    ")\n",
    "\n",
    "\n",
    "model = model.to(device)\n",
    "\n",
    "model.load_state_dict(torch.load('/kaggle/input/resnet-18-trained-first-half-of-data-training/pytorch/default/1/best_model6for_RESNET18_After_First_Half_training_part.pth', map_location=device))\n"
   ]
  },
  {
   "cell_type": "code",
   "execution_count": 9,
   "id": "8de3cab3",
   "metadata": {
    "execution": {
     "iopub.execute_input": "2025-02-10T20:59:34.999713Z",
     "iopub.status.busy": "2025-02-10T20:59:34.999450Z",
     "iopub.status.idle": "2025-02-10T20:59:35.003498Z",
     "shell.execute_reply": "2025-02-10T20:59:35.002897Z"
    },
    "papermill": {
     "duration": 0.010293,
     "end_time": "2025-02-10T20:59:35.004762",
     "exception": false,
     "start_time": "2025-02-10T20:59:34.994469",
     "status": "completed"
    },
    "tags": []
   },
   "outputs": [],
   "source": [
    "\n",
    "optimizer = optim.Adam(model.parameters(), lr=0.001)\n",
    "criterion = nn.CrossEntropyLoss()\n",
    "\n",
    "scheduler = StepLR(optimizer, step_size=3, gamma=0.1)"
   ]
  },
  {
   "cell_type": "code",
   "execution_count": 10,
   "id": "897cd31c",
   "metadata": {
    "execution": {
     "iopub.execute_input": "2025-02-10T20:59:35.014300Z",
     "iopub.status.busy": "2025-02-10T20:59:35.014043Z",
     "iopub.status.idle": "2025-02-10T20:59:35.016993Z",
     "shell.execute_reply": "2025-02-10T20:59:35.016412Z"
    },
    "papermill": {
     "duration": 0.009088,
     "end_time": "2025-02-10T20:59:35.018278",
     "exception": false,
     "start_time": "2025-02-10T20:59:35.009190",
     "status": "completed"
    },
    "tags": []
   },
   "outputs": [],
   "source": [
    "patience = 5\n",
    "trigger_times = 0\n",
    "best_val_loss = float('inf')"
   ]
  },
  {
   "cell_type": "code",
   "execution_count": 11,
   "id": "112e3a9c",
   "metadata": {
    "execution": {
     "iopub.execute_input": "2025-02-10T20:59:35.028159Z",
     "iopub.status.busy": "2025-02-10T20:59:35.027907Z",
     "iopub.status.idle": "2025-02-10T20:59:35.030940Z",
     "shell.execute_reply": "2025-02-10T20:59:35.030323Z"
    },
    "papermill": {
     "duration": 0.009446,
     "end_time": "2025-02-10T20:59:35.032172",
     "exception": false,
     "start_time": "2025-02-10T20:59:35.022726",
     "status": "completed"
    },
    "tags": []
   },
   "outputs": [],
   "source": [
    "epochs = 9\n",
    "best_val_acc = 0.0\n",
    "\n",
    "# data={\n",
    "#     \"train_losses\" : [],\n",
    "#     \"train_accuracies\" : [],\n",
    "#     \"val_losses\" : [],\n",
    "#     \"val_accuracies\" : [],\n",
    "# }"
   ]
  },
  {
   "cell_type": "code",
   "execution_count": 12,
   "id": "977fc5f8",
   "metadata": {
    "execution": {
     "iopub.execute_input": "2025-02-10T20:59:35.041813Z",
     "iopub.status.busy": "2025-02-10T20:59:35.041612Z",
     "iopub.status.idle": "2025-02-10T20:59:35.064713Z",
     "shell.execute_reply": "2025-02-10T20:59:35.064036Z"
    },
    "papermill": {
     "duration": 0.029311,
     "end_time": "2025-02-10T20:59:35.065909",
     "exception": false,
     "start_time": "2025-02-10T20:59:35.036598",
     "status": "completed"
    },
    "tags": []
   },
   "outputs": [
    {
     "name": "stdout",
     "output_type": "stream",
     "text": [
      "{'train_losses': [0.4855372396209127, 0.3682176784768292, 0.3306304836057115, 0.2929833247528839, 0.2687830820053317, 0.2535709523677801, 0.250118053081607, 0.2425399298416189, 0.2450099952010178], 'train_accuracies': [0.7836345643002239, 0.8422313662169905, 0.8582217823844992, 0.8774415334131986, 0.8875462263659566, 0.8948382728267097, 0.8958279077035262, 0.896661284441898, 0.897546747226418], 'val_losses': [0.5067116602261861, 0.57057230869929, 0.3936219576994578, 0.2933284978071848, 0.2702813220024109, 0.2739295939604441, 0.2670359571774801, 0.2697976722319921, 0.2701718248923619], 'val_accuracies': [0.7814583333333334, 0.7097916666666667, 0.8275, 0.8745833333333334, 0.8839583333333334, 0.8854166666666667, 0.8925000000000001, 0.8885416666666667, 0.89]}\n"
     ]
    }
   ],
   "source": [
    "df = pd.read_csv(\"/kaggle/input/results-resnet18-in-first-half-of-data/ResNet18_scorse_after_first_half.csv\")\n",
    "\n",
    "data = df.to_dict(orient=\"list\")\n",
    "\n",
    "print(data)"
   ]
  },
  {
   "cell_type": "code",
   "execution_count": 13,
   "id": "84da4452",
   "metadata": {
    "execution": {
     "iopub.execute_input": "2025-02-10T20:59:35.076058Z",
     "iopub.status.busy": "2025-02-10T20:59:35.075859Z",
     "iopub.status.idle": "2025-02-11T08:10:11.886692Z",
     "shell.execute_reply": "2025-02-11T08:10:11.885827Z"
    },
    "papermill": {
     "duration": 40236.824023,
     "end_time": "2025-02-11T08:10:11.894444",
     "exception": false,
     "start_time": "2025-02-10T20:59:35.070421",
     "status": "completed"
    },
    "tags": []
   },
   "outputs": [
    {
     "name": "stdout",
     "output_type": "stream",
     "text": [
      "Epoch 1/9\n"
     ]
    },
    {
     "name": "stderr",
     "output_type": "stream",
     "text": [
      "/usr/local/lib/python3.10/dist-packages/PIL/Image.py:1054: UserWarning: Palette images with Transparency expressed in bytes should be converted to RGBA images\n",
      "  warnings.warn(\n"
     ]
    },
    {
     "name": "stdout",
     "output_type": "stream",
     "text": [
      "Train Loss: 0.3870 Acc: 0.8368\n",
      "Val Loss: 0.3668 Acc: 0.8433\n",
      "\n",
      "Classification Report:\n",
      "              precision    recall  f1-score   support\n",
      "\n",
      "        fake       0.88      0.79      0.83      2375\n",
      "        real       0.82      0.89      0.85      2425\n",
      "\n",
      "    accuracy                           0.84      4800\n",
      "   macro avg       0.85      0.84      0.84      4800\n",
      "weighted avg       0.85      0.84      0.84      4800\n",
      "\n",
      "Epoch 2/9\n"
     ]
    },
    {
     "name": "stderr",
     "output_type": "stream",
     "text": [
      "/usr/local/lib/python3.10/dist-packages/PIL/Image.py:1054: UserWarning: Palette images with Transparency expressed in bytes should be converted to RGBA images\n",
      "  warnings.warn(\n"
     ]
    },
    {
     "name": "stdout",
     "output_type": "stream",
     "text": [
      "Train Loss: 0.3420 Acc: 0.8560\n",
      "Val Loss: 0.3553 Acc: 0.8473\n",
      "\n",
      "Classification Report:\n",
      "              precision    recall  f1-score   support\n",
      "\n",
      "        fake       0.83      0.88      0.85      2375\n",
      "        real       0.87      0.82      0.84      2425\n",
      "\n",
      "    accuracy                           0.85      4800\n",
      "   macro avg       0.85      0.85      0.85      4800\n",
      "weighted avg       0.85      0.85      0.85      4800\n",
      "\n",
      "Epoch 3/9\n"
     ]
    },
    {
     "name": "stderr",
     "output_type": "stream",
     "text": [
      "/usr/local/lib/python3.10/dist-packages/PIL/Image.py:1054: UserWarning: Palette images with Transparency expressed in bytes should be converted to RGBA images\n",
      "  warnings.warn(\n"
     ]
    },
    {
     "name": "stdout",
     "output_type": "stream",
     "text": [
      "Train Loss: 0.3180 Acc: 0.8640\n",
      "Val Loss: 0.4104 Acc: 0.8298\n",
      "\n",
      "Classification Report:\n",
      "              precision    recall  f1-score   support\n",
      "\n",
      "        fake       0.87      0.77      0.82      2375\n",
      "        real       0.80      0.88      0.84      2425\n",
      "\n",
      "    accuracy                           0.83      4800\n",
      "   macro avg       0.83      0.83      0.83      4800\n",
      "weighted avg       0.83      0.83      0.83      4800\n",
      "\n",
      "Early stopping trigger count: 1/5\n",
      "Epoch 4/9\n"
     ]
    },
    {
     "name": "stderr",
     "output_type": "stream",
     "text": [
      "/usr/local/lib/python3.10/dist-packages/PIL/Image.py:1054: UserWarning: Palette images with Transparency expressed in bytes should be converted to RGBA images\n",
      "  warnings.warn(\n"
     ]
    },
    {
     "name": "stdout",
     "output_type": "stream",
     "text": [
      "Train Loss: 0.2843 Acc: 0.8813\n",
      "Val Loss: 0.2847 Acc: 0.8815\n",
      "\n",
      "Classification Report:\n",
      "              precision    recall  f1-score   support\n",
      "\n",
      "        fake       0.87      0.89      0.88      2375\n",
      "        real       0.89      0.87      0.88      2425\n",
      "\n",
      "    accuracy                           0.88      4800\n",
      "   macro avg       0.88      0.88      0.88      4800\n",
      "weighted avg       0.88      0.88      0.88      4800\n",
      "\n",
      "Epoch 5/9\n"
     ]
    },
    {
     "name": "stderr",
     "output_type": "stream",
     "text": [
      "/usr/local/lib/python3.10/dist-packages/PIL/Image.py:1054: UserWarning: Palette images with Transparency expressed in bytes should be converted to RGBA images\n",
      "  warnings.warn(\n"
     ]
    },
    {
     "name": "stdout",
     "output_type": "stream",
     "text": [
      "Train Loss: 0.2547 Acc: 0.8955\n",
      "Val Loss: 0.2809 Acc: 0.8783\n",
      "\n",
      "Classification Report:\n",
      "              precision    recall  f1-score   support\n",
      "\n",
      "        fake       0.93      0.81      0.87      2375\n",
      "        real       0.84      0.94      0.89      2425\n",
      "\n",
      "    accuracy                           0.88      4800\n",
      "   macro avg       0.88      0.88      0.88      4800\n",
      "weighted avg       0.88      0.88      0.88      4800\n",
      "\n",
      "Epoch 6/9\n"
     ]
    },
    {
     "name": "stderr",
     "output_type": "stream",
     "text": [
      "/usr/local/lib/python3.10/dist-packages/PIL/Image.py:1054: UserWarning: Palette images with Transparency expressed in bytes should be converted to RGBA images\n",
      "  warnings.warn(\n"
     ]
    },
    {
     "name": "stdout",
     "output_type": "stream",
     "text": [
      "Train Loss: 0.2469 Acc: 0.8991\n",
      "Val Loss: 0.2508 Acc: 0.8973\n",
      "\n",
      "Classification Report:\n",
      "              precision    recall  f1-score   support\n",
      "\n",
      "        fake       0.90      0.89      0.90      2375\n",
      "        real       0.89      0.91      0.90      2425\n",
      "\n",
      "    accuracy                           0.90      4800\n",
      "   macro avg       0.90      0.90      0.90      4800\n",
      "weighted avg       0.90      0.90      0.90      4800\n",
      "\n",
      "Epoch 7/9\n"
     ]
    },
    {
     "name": "stderr",
     "output_type": "stream",
     "text": [
      "/usr/local/lib/python3.10/dist-packages/PIL/Image.py:1054: UserWarning: Palette images with Transparency expressed in bytes should be converted to RGBA images\n",
      "  warnings.warn(\n"
     ]
    },
    {
     "name": "stdout",
     "output_type": "stream",
     "text": [
      "Train Loss: 0.2384 Acc: 0.9016\n",
      "Val Loss: 0.2523 Acc: 0.8900\n",
      "\n",
      "Classification Report:\n",
      "              precision    recall  f1-score   support\n",
      "\n",
      "        fake       0.90      0.88      0.89      2375\n",
      "        real       0.88      0.90      0.89      2425\n",
      "\n",
      "    accuracy                           0.89      4800\n",
      "   macro avg       0.89      0.89      0.89      4800\n",
      "weighted avg       0.89      0.89      0.89      4800\n",
      "\n",
      "Early stopping trigger count: 1/5\n",
      "Epoch 8/9\n"
     ]
    },
    {
     "name": "stderr",
     "output_type": "stream",
     "text": [
      "/usr/local/lib/python3.10/dist-packages/PIL/Image.py:1054: UserWarning: Palette images with Transparency expressed in bytes should be converted to RGBA images\n",
      "  warnings.warn(\n"
     ]
    },
    {
     "name": "stdout",
     "output_type": "stream",
     "text": [
      "Train Loss: 0.2362 Acc: 0.9021\n",
      "Val Loss: 0.2504 Acc: 0.8967\n",
      "\n",
      "Classification Report:\n",
      "              precision    recall  f1-score   support\n",
      "\n",
      "        fake       0.90      0.89      0.89      2375\n",
      "        real       0.89      0.90      0.90      2425\n",
      "\n",
      "    accuracy                           0.90      4800\n",
      "   macro avg       0.90      0.90      0.90      4800\n",
      "weighted avg       0.90      0.90      0.90      4800\n",
      "\n",
      "Epoch 9/9\n"
     ]
    },
    {
     "name": "stderr",
     "output_type": "stream",
     "text": [
      "/usr/local/lib/python3.10/dist-packages/PIL/Image.py:1054: UserWarning: Palette images with Transparency expressed in bytes should be converted to RGBA images\n",
      "  warnings.warn(\n"
     ]
    },
    {
     "name": "stdout",
     "output_type": "stream",
     "text": [
      "Train Loss: 0.2366 Acc: 0.9017\n",
      "Val Loss: 0.2515 Acc: 0.8979\n",
      "\n",
      "Classification Report:\n",
      "              precision    recall  f1-score   support\n",
      "\n",
      "        fake       0.91      0.88      0.90      2375\n",
      "        real       0.89      0.91      0.90      2425\n",
      "\n",
      "    accuracy                           0.90      4800\n",
      "   macro avg       0.90      0.90      0.90      4800\n",
      "weighted avg       0.90      0.90      0.90      4800\n",
      "\n",
      "Early stopping trigger count: 1/5\n",
      "Best Validation Accuracy: 0.8979\n",
      "Best Validation loss: 0.2504\n"
     ]
    }
   ],
   "source": [
    "for epoch in range(epochs):\n",
    "    print(f\"Epoch {epoch+1}/{epochs}\")\n",
    "\n",
    "    # Training phase\n",
    "    model.train()\n",
    "    running_loss = 0.0\n",
    "    running_corrects = 0\n",
    "\n",
    "    for inputs, labels in train_loader:\n",
    "        inputs, labels = inputs.to(device), labels.to(device)\n",
    "\n",
    "        # Zero the parameter gradients\n",
    "        optimizer.zero_grad()\n",
    "\n",
    "        # Forward pass\n",
    "        outputs = model(inputs)\n",
    "        _, preds = torch.max(outputs, 1)\n",
    "        loss = criterion(outputs, labels)\n",
    "\n",
    "        # Backward pass and optimization\n",
    "        loss.backward()\n",
    "        optimizer.step()\n",
    "\n",
    "        # Track loss and accuracy\n",
    "        running_loss += loss.item() * inputs.size(0)\n",
    "        running_corrects += torch.sum(preds == labels.data)\n",
    "\n",
    "    epoch_loss = running_loss / len(train_dataset)\n",
    "    epoch_acc = running_corrects.double() / len(train_dataset)\n",
    "\n",
    "    data[\"train_losses\"].append(epoch_loss)\n",
    "    data[\"train_accuracies\"].append(epoch_acc.item())\n",
    "    \n",
    "    print(f\"Train Loss: {epoch_loss:.4f} Acc: {epoch_acc:.4f}\")\n",
    "\n",
    "    # Validation phase\n",
    "    model.eval()\n",
    "    val_loss = 0.0\n",
    "    val_corrects = 0\n",
    "    all_preds = []\n",
    "    all_labels = []\n",
    "\n",
    "    with torch.no_grad():\n",
    "        for inputs, labels in val_loader:\n",
    "            inputs, labels = inputs.to(device), labels.to(device)\n",
    "\n",
    "            outputs = model(inputs)\n",
    "            _, preds = torch.max(outputs, 1)\n",
    "            loss = criterion(outputs, labels)\n",
    "\n",
    "            val_loss += loss.item() * inputs.size(0)\n",
    "            val_corrects += torch.sum(preds == labels.data)\n",
    "\n",
    "            # Store predictions and labels for metrics\n",
    "            all_preds.extend(preds.cpu().numpy())\n",
    "            all_labels.extend(labels.cpu().numpy())\n",
    "\n",
    "    val_loss = val_loss / len(val_dataset)\n",
    "    val_acc = val_corrects.double() / len(val_dataset)\n",
    "\n",
    "    data[\"val_losses\"].append(val_loss)\n",
    "    data[\"val_accuracies\"].append(val_acc.item())\n",
    "\n",
    "    print(f\"Val Loss: {val_loss:.4f} Acc: {val_acc:.4f}\")\n",
    "\n",
    "    # Precision, Recall, F1-Score\n",
    "    print(\"\\nClassification Report:\")\n",
    "    print(classification_report(all_labels, all_preds, target_names=dataset.classes))\n",
    "\n",
    "    if val_acc > best_val_acc:\n",
    "        best_val_acc = val_acc\n",
    "    \n",
    "    # Save the best model\n",
    "    if val_loss < best_val_loss:\n",
    "        best_val_loss = val_loss\n",
    "        torch.save(model.state_dict(), f'best_model{epoch}for_RESNET18_After_Seconed_Half_training_part.pth')\n",
    "        trigger_times = 0  # Reset early stopping counter\n",
    "    else:\n",
    "        trigger_times += 1\n",
    "        print(f\"Early stopping trigger count: {trigger_times}/{patience}\")\n",
    "        if trigger_times >= patience:\n",
    "            print(\"Early stopping...\")\n",
    "            break\n",
    "\n",
    "    # Step the scheduler\n",
    "    scheduler.step()\n",
    "\n",
    "print(f'Best Validation Accuracy: {best_val_acc:.4f}')\n",
    "print(f'Best Validation loss: {best_val_loss:.4f}')"
   ]
  },
  {
   "cell_type": "code",
   "execution_count": 14,
   "id": "ffff00d8",
   "metadata": {
    "execution": {
     "iopub.execute_input": "2025-02-11T08:10:11.907674Z",
     "iopub.status.busy": "2025-02-11T08:10:11.907435Z",
     "iopub.status.idle": "2025-02-11T08:10:11.911260Z",
     "shell.execute_reply": "2025-02-11T08:10:11.910567Z"
    },
    "papermill": {
     "duration": 0.011805,
     "end_time": "2025-02-11T08:10:11.912407",
     "exception": false,
     "start_time": "2025-02-11T08:10:11.900602",
     "status": "completed"
    },
    "tags": []
   },
   "outputs": [],
   "source": [
    "df = pd.DataFrame(data)\n"
   ]
  },
  {
   "cell_type": "code",
   "execution_count": 15,
   "id": "e28d44d8",
   "metadata": {
    "execution": {
     "iopub.execute_input": "2025-02-11T08:10:11.925352Z",
     "iopub.status.busy": "2025-02-11T08:10:11.925143Z",
     "iopub.status.idle": "2025-02-11T08:10:11.929961Z",
     "shell.execute_reply": "2025-02-11T08:10:11.929313Z"
    },
    "papermill": {
     "duration": 0.012872,
     "end_time": "2025-02-11T08:10:11.931153",
     "exception": false,
     "start_time": "2025-02-11T08:10:11.918281",
     "status": "completed"
    },
    "tags": []
   },
   "outputs": [
    {
     "data": {
      "text/plain": [
       "{'train_losses': [0.4855372396209127,\n",
       "  0.3682176784768292,\n",
       "  0.3306304836057115,\n",
       "  0.2929833247528839,\n",
       "  0.2687830820053317,\n",
       "  0.2535709523677801,\n",
       "  0.250118053081607,\n",
       "  0.2425399298416189,\n",
       "  0.2450099952010178,\n",
       "  0.3869541666117663,\n",
       "  0.34199798609001003,\n",
       "  0.31803996907937615,\n",
       "  0.284335061781257,\n",
       "  0.2547471367373393,\n",
       "  0.2468786869106693,\n",
       "  0.238422477787544,\n",
       "  0.23616092337861125,\n",
       "  0.23657505798882522],\n",
       " 'train_accuracies': [0.7836345643002239,\n",
       "  0.8422313662169905,\n",
       "  0.8582217823844992,\n",
       "  0.8774415334131986,\n",
       "  0.8875462263659566,\n",
       "  0.8948382728267097,\n",
       "  0.8958279077035262,\n",
       "  0.896661284441898,\n",
       "  0.897546747226418,\n",
       "  0.8368144174175738,\n",
       "  0.8560341684462732,\n",
       "  0.8640033335069535,\n",
       "  0.8812959008281681,\n",
       "  0.8955153914266368,\n",
       "  0.8990572425647169,\n",
       "  0.9015573727798323,\n",
       "  0.9020782332413146,\n",
       "  0.9016615448721287],\n",
       " 'val_losses': [0.5067116602261861,\n",
       "  0.57057230869929,\n",
       "  0.3936219576994578,\n",
       "  0.2933284978071848,\n",
       "  0.2702813220024109,\n",
       "  0.2739295939604441,\n",
       "  0.2670359571774801,\n",
       "  0.2697976722319921,\n",
       "  0.2701718248923619,\n",
       "  0.3667974821726481,\n",
       "  0.35528487046559654,\n",
       "  0.4104082151254018,\n",
       "  0.28467729409535725,\n",
       "  0.28087422688802083,\n",
       "  0.2507550803820292,\n",
       "  0.25228905856609346,\n",
       "  0.25044788320859274,\n",
       "  0.2515480564037959],\n",
       " 'val_accuracies': [0.7814583333333334,\n",
       "  0.7097916666666667,\n",
       "  0.8275,\n",
       "  0.8745833333333334,\n",
       "  0.8839583333333334,\n",
       "  0.8854166666666667,\n",
       "  0.8925000000000001,\n",
       "  0.8885416666666667,\n",
       "  0.89,\n",
       "  0.8433333333333334,\n",
       "  0.8472916666666668,\n",
       "  0.8297916666666667,\n",
       "  0.8814583333333333,\n",
       "  0.8783333333333334,\n",
       "  0.8972916666666667,\n",
       "  0.89,\n",
       "  0.8966666666666667,\n",
       "  0.8979166666666667]}"
      ]
     },
     "execution_count": 15,
     "metadata": {},
     "output_type": "execute_result"
    }
   ],
   "source": [
    "data\n"
   ]
  },
  {
   "cell_type": "code",
   "execution_count": 16,
   "id": "30ba44b6",
   "metadata": {
    "execution": {
     "iopub.execute_input": "2025-02-11T08:10:11.943848Z",
     "iopub.status.busy": "2025-02-11T08:10:11.943646Z",
     "iopub.status.idle": "2025-02-11T08:10:11.962724Z",
     "shell.execute_reply": "2025-02-11T08:10:11.961941Z"
    },
    "papermill": {
     "duration": 0.026726,
     "end_time": "2025-02-11T08:10:11.963956",
     "exception": false,
     "start_time": "2025-02-11T08:10:11.937230",
     "status": "completed"
    },
    "tags": []
   },
   "outputs": [
    {
     "data": {
      "text/html": [
       "<div>\n",
       "<style scoped>\n",
       "    .dataframe tbody tr th:only-of-type {\n",
       "        vertical-align: middle;\n",
       "    }\n",
       "\n",
       "    .dataframe tbody tr th {\n",
       "        vertical-align: top;\n",
       "    }\n",
       "\n",
       "    .dataframe thead th {\n",
       "        text-align: right;\n",
       "    }\n",
       "</style>\n",
       "<table border=\"1\" class=\"dataframe\">\n",
       "  <thead>\n",
       "    <tr style=\"text-align: right;\">\n",
       "      <th></th>\n",
       "      <th>train_losses</th>\n",
       "      <th>train_accuracies</th>\n",
       "      <th>val_losses</th>\n",
       "      <th>val_accuracies</th>\n",
       "    </tr>\n",
       "  </thead>\n",
       "  <tbody>\n",
       "    <tr>\n",
       "      <th>0</th>\n",
       "      <td>0.485537</td>\n",
       "      <td>0.783635</td>\n",
       "      <td>0.506712</td>\n",
       "      <td>0.781458</td>\n",
       "    </tr>\n",
       "    <tr>\n",
       "      <th>1</th>\n",
       "      <td>0.368218</td>\n",
       "      <td>0.842231</td>\n",
       "      <td>0.570572</td>\n",
       "      <td>0.709792</td>\n",
       "    </tr>\n",
       "    <tr>\n",
       "      <th>2</th>\n",
       "      <td>0.330630</td>\n",
       "      <td>0.858222</td>\n",
       "      <td>0.393622</td>\n",
       "      <td>0.827500</td>\n",
       "    </tr>\n",
       "    <tr>\n",
       "      <th>3</th>\n",
       "      <td>0.292983</td>\n",
       "      <td>0.877442</td>\n",
       "      <td>0.293328</td>\n",
       "      <td>0.874583</td>\n",
       "    </tr>\n",
       "    <tr>\n",
       "      <th>4</th>\n",
       "      <td>0.268783</td>\n",
       "      <td>0.887546</td>\n",
       "      <td>0.270281</td>\n",
       "      <td>0.883958</td>\n",
       "    </tr>\n",
       "    <tr>\n",
       "      <th>5</th>\n",
       "      <td>0.253571</td>\n",
       "      <td>0.894838</td>\n",
       "      <td>0.273930</td>\n",
       "      <td>0.885417</td>\n",
       "    </tr>\n",
       "    <tr>\n",
       "      <th>6</th>\n",
       "      <td>0.250118</td>\n",
       "      <td>0.895828</td>\n",
       "      <td>0.267036</td>\n",
       "      <td>0.892500</td>\n",
       "    </tr>\n",
       "    <tr>\n",
       "      <th>7</th>\n",
       "      <td>0.242540</td>\n",
       "      <td>0.896661</td>\n",
       "      <td>0.269798</td>\n",
       "      <td>0.888542</td>\n",
       "    </tr>\n",
       "    <tr>\n",
       "      <th>8</th>\n",
       "      <td>0.245010</td>\n",
       "      <td>0.897547</td>\n",
       "      <td>0.270172</td>\n",
       "      <td>0.890000</td>\n",
       "    </tr>\n",
       "    <tr>\n",
       "      <th>9</th>\n",
       "      <td>0.386954</td>\n",
       "      <td>0.836814</td>\n",
       "      <td>0.366797</td>\n",
       "      <td>0.843333</td>\n",
       "    </tr>\n",
       "    <tr>\n",
       "      <th>10</th>\n",
       "      <td>0.341998</td>\n",
       "      <td>0.856034</td>\n",
       "      <td>0.355285</td>\n",
       "      <td>0.847292</td>\n",
       "    </tr>\n",
       "    <tr>\n",
       "      <th>11</th>\n",
       "      <td>0.318040</td>\n",
       "      <td>0.864003</td>\n",
       "      <td>0.410408</td>\n",
       "      <td>0.829792</td>\n",
       "    </tr>\n",
       "    <tr>\n",
       "      <th>12</th>\n",
       "      <td>0.284335</td>\n",
       "      <td>0.881296</td>\n",
       "      <td>0.284677</td>\n",
       "      <td>0.881458</td>\n",
       "    </tr>\n",
       "    <tr>\n",
       "      <th>13</th>\n",
       "      <td>0.254747</td>\n",
       "      <td>0.895515</td>\n",
       "      <td>0.280874</td>\n",
       "      <td>0.878333</td>\n",
       "    </tr>\n",
       "    <tr>\n",
       "      <th>14</th>\n",
       "      <td>0.246879</td>\n",
       "      <td>0.899057</td>\n",
       "      <td>0.250755</td>\n",
       "      <td>0.897292</td>\n",
       "    </tr>\n",
       "    <tr>\n",
       "      <th>15</th>\n",
       "      <td>0.238422</td>\n",
       "      <td>0.901557</td>\n",
       "      <td>0.252289</td>\n",
       "      <td>0.890000</td>\n",
       "    </tr>\n",
       "    <tr>\n",
       "      <th>16</th>\n",
       "      <td>0.236161</td>\n",
       "      <td>0.902078</td>\n",
       "      <td>0.250448</td>\n",
       "      <td>0.896667</td>\n",
       "    </tr>\n",
       "    <tr>\n",
       "      <th>17</th>\n",
       "      <td>0.236575</td>\n",
       "      <td>0.901662</td>\n",
       "      <td>0.251548</td>\n",
       "      <td>0.897917</td>\n",
       "    </tr>\n",
       "  </tbody>\n",
       "</table>\n",
       "</div>"
      ],
      "text/plain": [
       "    train_losses  train_accuracies  val_losses  val_accuracies\n",
       "0       0.485537          0.783635    0.506712        0.781458\n",
       "1       0.368218          0.842231    0.570572        0.709792\n",
       "2       0.330630          0.858222    0.393622        0.827500\n",
       "3       0.292983          0.877442    0.293328        0.874583\n",
       "4       0.268783          0.887546    0.270281        0.883958\n",
       "5       0.253571          0.894838    0.273930        0.885417\n",
       "6       0.250118          0.895828    0.267036        0.892500\n",
       "7       0.242540          0.896661    0.269798        0.888542\n",
       "8       0.245010          0.897547    0.270172        0.890000\n",
       "9       0.386954          0.836814    0.366797        0.843333\n",
       "10      0.341998          0.856034    0.355285        0.847292\n",
       "11      0.318040          0.864003    0.410408        0.829792\n",
       "12      0.284335          0.881296    0.284677        0.881458\n",
       "13      0.254747          0.895515    0.280874        0.878333\n",
       "14      0.246879          0.899057    0.250755        0.897292\n",
       "15      0.238422          0.901557    0.252289        0.890000\n",
       "16      0.236161          0.902078    0.250448        0.896667\n",
       "17      0.236575          0.901662    0.251548        0.897917"
      ]
     },
     "execution_count": 16,
     "metadata": {},
     "output_type": "execute_result"
    }
   ],
   "source": [
    "df"
   ]
  },
  {
   "cell_type": "code",
   "execution_count": 17,
   "id": "ec7d231b",
   "metadata": {
    "execution": {
     "iopub.execute_input": "2025-02-11T08:10:11.977179Z",
     "iopub.status.busy": "2025-02-11T08:10:11.976914Z",
     "iopub.status.idle": "2025-02-11T08:10:11.985783Z",
     "shell.execute_reply": "2025-02-11T08:10:11.985114Z"
    },
    "papermill": {
     "duration": 0.016745,
     "end_time": "2025-02-11T08:10:11.986950",
     "exception": false,
     "start_time": "2025-02-11T08:10:11.970205",
     "status": "completed"
    },
    "tags": []
   },
   "outputs": [
    {
     "name": "stdout",
     "output_type": "stream",
     "text": [
      "CSV file saved successfully!\n"
     ]
    }
   ],
   "source": [
    "df.to_csv(\"/kaggle/working/ResNet18_scorse_after_Second_half.csv\", index=False)\n",
    "print(\"CSV file saved successfully!\")"
   ]
  },
  {
   "cell_type": "code",
   "execution_count": 18,
   "id": "7a28fa8a",
   "metadata": {
    "execution": {
     "iopub.execute_input": "2025-02-11T08:10:12.000516Z",
     "iopub.status.busy": "2025-02-11T08:10:12.000316Z",
     "iopub.status.idle": "2025-02-11T08:10:12.488592Z",
     "shell.execute_reply": "2025-02-11T08:10:12.487769Z"
    },
    "papermill": {
     "duration": 0.496772,
     "end_time": "2025-02-11T08:10:12.490160",
     "exception": false,
     "start_time": "2025-02-11T08:10:11.993388",
     "status": "completed"
    },
    "tags": []
   },
   "outputs": [
    {
     "data": {
      "image/png": "[encoded data removed]",
      "text/plain": [
       "<Figure size 1200x600 with 1 Axes>"
      ]
     },
     "metadata": {},
     "output_type": "display_data"
    },
    {
     "data": {
      "image/png": "[encoded data removed]",
      "text/plain": [
       "<Figure size 1200x600 with 1 Axes>"
      ]
     },
     "metadata": {},
     "output_type": "display_data"
    }
   ],
   "source": [
    "\n",
    "# Plot Training and Validation Loss\n",
    "plt.figure(figsize=(12, 6))\n",
    "plt.plot(range(1, len(data[\"train_losses\"]) + 1), data[\"train_losses\"], label='Training Loss', marker='o')\n",
    "plt.plot(range(1, len(data[\"val_losses\"]) + 1), data[\"val_losses\"], label='Validation Loss', marker='o')\n",
    "plt.title('Training and Validation Loss', fontsize=16)\n",
    "plt.xlabel('Epochs', fontsize=14)\n",
    "plt.ylabel('Loss', fontsize=14)\n",
    "plt.xticks(range(1, len(data[\"train_losses\"]) + 1))\n",
    "plt.legend(fontsize=12)\n",
    "plt.grid(alpha=0.5)\n",
    "plt.show()\n",
    "\n",
    "# Plot Training and Validation Accuracy\n",
    "plt.figure(figsize=(12, 6))\n",
    "plt.plot(range(1, len(data[\"train_accuracies\"]) + 1), data[\"train_accuracies\"], label='Training Accuracy', marker='o')\n",
    "plt.plot(range(1, len(data[\"val_accuracies\"]) + 1), data[\"val_accuracies\"], label='Validation Accuracy', marker='o')\n",
    "plt.title('Training and Validation Accuracy', fontsize=16)\n",
    "plt.xlabel('Epochs', fontsize=14)\n",
    "plt.ylabel('Accuracy', fontsize=14)\n",
    "plt.xticks(range(1, len(data[\"train_accuracies\"]) + 1))\n",
    "plt.legend(fontsize=12)\n",
    "plt.grid(alpha=0.5)\n",
    "plt.show()"
   ]
  },
  {
   "cell_type": "code",
   "execution_count": null,
   "id": "742cf786",
   "metadata": {
    "papermill": {
     "duration": 0.008877,
     "end_time": "2025-02-11T08:10:12.508768",
     "exception": false,
     "start_time": "2025-02-11T08:10:12.499891",
     "status": "completed"
    },
    "tags": []
   },
   "outputs": [],
   "source": []
  }
 ],
 "metadata": {
  "kaggle": {
   "accelerator": "gpu",
   "dataSources": [
    {
     "datasetId": 5070657,
     "sourceId": 8497982,
     "sourceType": "datasetVersion"
    },
    {
     "datasetId": 6642329,
     "sourceId": 10716136,
     "sourceType": "datasetVersion"
    },
    {
     "isSourceIdPinned": true,
     "modelId": 239748,
     "modelInstanceId": 218022,
     "sourceId": 254990,
     "sourceType": "modelInstanceVersion"
    }
   ],
   "isGpuEnabled": true,
   "isInternetEnabled": true,
   "language": "python",
   "sourceType": "notebook"
  },
  "kernelspec": {
   "display_name": "Python 3",
   "language": "python",
   "name": "python3"
  },
  "language_info": {
   "codemirror_mode": {
    "name": "ipython",
    "version": 3
   },
   "file_extension": ".py",
   "mimetype": "text/x-python",
   "name": "python",
   "nbconvert_exporter": "python",
   "pygments_lexer": "ipython3",
   "version": "3.10.12"
  },
  "papermill": {
   "default_parameters": {},
   "duration": 40673.881428,
   "end_time": "2025-02-11T08:10:14.583911",
   "environment_variables": {},
   "exception": null,
   "input_path": "__notebook__.ipynb",
   "output_path": "__notebook__.ipynb",
   "parameters": {},
   "start_time": "2025-02-10T20:52:20.702483",
   "version": "2.6.0"
  }
 },
 "nbformat": 4,
 "nbformat_minor": 5
}
