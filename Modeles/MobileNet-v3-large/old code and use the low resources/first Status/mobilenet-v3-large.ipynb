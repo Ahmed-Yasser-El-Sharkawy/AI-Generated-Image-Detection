{
 "cells": [
  {
   "cell_type": "code",
   "execution_count": 1,
   "id": "b836093d",
   "metadata": {
    "_cell_guid": "b1076dfc-b9ad-4769-8c92-a6c4dae69d19",
    "_uuid": "8f2839f25d086af736a60e9eeb907d3b93b6e0e5",
    "execution": {
     "iopub.execute_input": "2025-02-15T01:58:26.737334Z",
     "iopub.status.busy": "2025-02-15T01:58:26.736996Z",
     "iopub.status.idle": "2025-02-15T01:58:35.983100Z",
     "shell.execute_reply": "2025-02-15T01:58:35.982158Z"
    },
    "papermill": {
     "duration": 9.252759,
     "end_time": "2025-02-15T01:58:35.984817",
     "exception": false,
     "start_time": "2025-02-15T01:58:26.732058",
     "status": "completed"
    },
    "tags": []
   },
   "outputs": [],
   "source": [
    "# Import necessary libraries\n",
    "import numpy as np \n",
    "import pandas as pd \n",
    "import os\n",
    "import torch\n",
    "from torch import nn, optim\n",
    "from torchvision import datasets, transforms, models\n",
    "from torch.utils.data import DataLoader, random_split\n",
    "from sklearn.metrics import classification_report, confusion_matrix\n",
    "import os\n",
    "from PIL import Image, ImageFile\n",
    "import warnings\n",
    "\n",
    "# Suppress warnings\n",
    "with warnings.catch_warnings():\n",
    "    warnings.simplefilter(\"ignore\", Image.DecompressionBombWarning)\n"
   ]
  },
  {
   "cell_type": "code",
   "execution_count": 2,
   "id": "0437f1c7",
   "metadata": {
    "execution": {
     "iopub.execute_input": "2025-02-15T01:58:35.992977Z",
     "iopub.status.busy": "2025-02-15T01:58:35.992544Z",
     "iopub.status.idle": "2025-02-15T02:05:44.419898Z",
     "shell.execute_reply": "2025-02-15T02:05:44.418958Z"
    },
    "papermill": {
     "duration": 428.433187,
     "end_time": "2025-02-15T02:05:44.421842",
     "exception": false,
     "start_time": "2025-02-15T01:58:35.988655",
     "status": "completed"
    },
    "tags": []
   },
   "outputs": [],
   "source": [
    "# Define dataset path\n",
    "data_dir = '/kaggle/input/ai-generated-images-vs-real-images/train'\n",
    "\n",
    "# Image processing functions\n",
    "Image.MAX_IMAGE_PIXELS = None\n",
    "\n",
    "def convert_to_rgb(image):\n",
    "    if image.mode == 'P':\n",
    "        image = image.convert(\"RGBA\")\n",
    "    if image.mode == \"RGBA\":\n",
    "        background = Image.new(\"RGB\", image.size, (255, 255, 255))\n",
    "        image = Image.alpha_composite(background, image).convert(\"RGB\")\n",
    "    elif image.mode != \"RGB\":\n",
    "        image = image.convert(\"RGB\")\n",
    "    return image\n",
    "\n",
    "def resize_large_image(image, max_size):\n",
    "    if image.size[0] > max_size[0] or image.size[1] > max_size[1]:\n",
    "        image.thumbnail(max_size, Image.Resampling.LANCZOS)\n",
    "    return image\n",
    "\n",
    "# Define transformations\n",
    "train_transform = transforms.Compose([\n",
    "    transforms.Lambda(lambda img: resize_large_image(img, max_size=(5000, 5000))),\n",
    "    transforms.Lambda(convert_to_rgb),\n",
    "    transforms.RandomResizedCrop(224),\n",
    "    transforms.RandomHorizontalFlip(p=0.5),\n",
    "    transforms.RandomVerticalFlip(p=0.2),\n",
    "    transforms.RandomRotation(degrees=15),\n",
    "    transforms.ColorJitter(brightness=0.2, contrast=0.2, saturation=0.2, hue=0.1),\n",
    "    transforms.ToTensor(),\n",
    "    transforms.Normalize([0.485, 0.456, 0.406], [0.229, 0.224, 0.225])\n",
    "])\n",
    "\n",
    "val_transform = transforms.Compose([\n",
    "    transforms.Lambda(convert_to_rgb),\n",
    "    transforms.Resize((224, 224)),\n",
    "    transforms.ToTensor(),\n",
    "    transforms.Normalize([0.485, 0.456, 0.406], [0.229, 0.224, 0.225])\n",
    "])\n",
    "\n",
    "ImageFile.LOAD_TRUNCATED_IMAGES = True\n",
    "MIN_IMAGE_FILE_SIZE = 3284\n",
    "\n",
    "def is_valid_image(file_path):\n",
    "    try:\n",
    "        if os.path.getsize(file_path) < MIN_IMAGE_FILE_SIZE:\n",
    "            return False\n",
    "        with Image.open(file_path) as img:\n",
    "            img.verify()\n",
    "        return True\n",
    "    except (OSError, Image.DecompressionBombError):\n",
    "        return False\n",
    "\n",
    "class ValidImageFolder(datasets.ImageFolder):\n",
    "    def __init__(self, root, transform=None):\n",
    "        super().__init__(root, transform)\n",
    "        self.samples = [(path, label) for path, label in self.samples if is_valid_image(path)]\n",
    "        self.targets = [label for _, label in self.samples]\n",
    "\n",
    "# Load dataset\n",
    "dataset = ValidImageFolder(root=data_dir, transform=train_transform)"
   ]
  },
  {
   "cell_type": "code",
   "execution_count": 3,
   "id": "7cb7a399",
   "metadata": {
    "execution": {
     "iopub.execute_input": "2025-02-15T02:05:44.429929Z",
     "iopub.status.busy": "2025-02-15T02:05:44.429674Z",
     "iopub.status.idle": "2025-02-15T02:05:44.451711Z",
     "shell.execute_reply": "2025-02-15T02:05:44.450833Z"
    },
    "papermill": {
     "duration": 0.027266,
     "end_time": "2025-02-15T02:05:44.453086",
     "exception": false,
     "start_time": "2025-02-15T02:05:44.425820",
     "status": "completed"
    },
    "tags": []
   },
   "outputs": [
    {
     "name": "stdout",
     "output_type": "stream",
     "text": [
      "Original Dataset Size: 47998\n",
      "Balanced Subset Size: 23999 (Fake: 12000, Real: 11999)\n"
     ]
    }
   ],
   "source": [
    "from torch.utils.data import Subset\n",
    "\n",
    "fake_indices = [i for i, (_, label) in enumerate(dataset.samples) if label == dataset.class_to_idx['fake']]\n",
    "real_indices = [i for i, (_, label) in enumerate(dataset.samples) if label == dataset.class_to_idx['real']]\n",
    "\n",
    "fake_subset_size = int(1.0/2.0 * len(fake_indices))\n",
    "real_subset_size = int(1.0/2.0 * len(real_indices))\n",
    "\n",
    "fake_subset_indices = fake_indices[0:fake_subset_size]\n",
    "real_subset_indices = real_indices[0:real_subset_size]\n",
    "\n",
    "balanced_subset_indices = np.concatenate((fake_subset_indices, real_subset_indices))\n",
    "balanced_subset = Subset(dataset, balanced_subset_indices)\n",
    "\n",
    "print(f\"Original Dataset Size: {len(dataset)}\")\n",
    "print(f\"Balanced Subset Size: {len(balanced_subset)} (Fake: {fake_subset_size}, Real: {real_subset_size})\")"
   ]
  },
  {
   "cell_type": "code",
   "execution_count": 4,
   "id": "ea5a7b55",
   "metadata": {
    "execution": {
     "iopub.execute_input": "2025-02-15T02:05:44.460491Z",
     "iopub.status.busy": "2025-02-15T02:05:44.460233Z",
     "iopub.status.idle": "2025-02-15T02:05:44.487424Z",
     "shell.execute_reply": "2025-02-15T02:05:44.486551Z"
    },
    "papermill": {
     "duration": 0.032521,
     "end_time": "2025-02-15T02:05:44.489020",
     "exception": false,
     "start_time": "2025-02-15T02:05:44.456499",
     "status": "completed"
    },
    "tags": []
   },
   "outputs": [],
   "source": [
    "train_size = int(0.8 * len(balanced_subset))\n",
    "val_size = len(balanced_subset) - train_size\n",
    "train_dataset, val_dataset = random_split(balanced_subset, [train_size, val_size])\n",
    "\n",
    "val_dataset.dataset.transform = val_transform\n",
    "\n",
    "train_loader = DataLoader(train_dataset, batch_size=128, shuffle=True)\n",
    "val_loader = DataLoader(val_dataset, batch_size=128, shuffle=False)"
   ]
  },
  {
   "cell_type": "code",
   "execution_count": 5,
   "id": "7fbbf358",
   "metadata": {
    "execution": {
     "iopub.execute_input": "2025-02-15T02:05:44.496394Z",
     "iopub.status.busy": "2025-02-15T02:05:44.496162Z",
     "iopub.status.idle": "2025-02-15T02:05:44.500373Z",
     "shell.execute_reply": "2025-02-15T02:05:44.499644Z"
    },
    "papermill": {
     "duration": 0.009142,
     "end_time": "2025-02-15T02:05:44.501608",
     "exception": false,
     "start_time": "2025-02-15T02:05:44.492466",
     "status": "completed"
    },
    "tags": []
   },
   "outputs": [
    {
     "name": "stdout",
     "output_type": "stream",
     "text": [
      "Train Dataset Size: 19199\n",
      "Validation Dataset Size: 4800\n"
     ]
    }
   ],
   "source": [
    "print(f\"Train Dataset Size: {len(train_dataset)}\")\n",
    "print(f\"Validation Dataset Size: {len(val_dataset)}\")"
   ]
  },
  {
   "cell_type": "code",
   "execution_count": 6,
   "id": "f1b58048",
   "metadata": {
    "execution": {
     "iopub.execute_input": "2025-02-15T02:05:44.508694Z",
     "iopub.status.busy": "2025-02-15T02:05:44.508474Z",
     "iopub.status.idle": "2025-02-15T02:05:44.702287Z",
     "shell.execute_reply": "2025-02-15T02:05:44.701491Z"
    },
    "papermill": {
     "duration": 0.198852,
     "end_time": "2025-02-15T02:05:44.703694",
     "exception": false,
     "start_time": "2025-02-15T02:05:44.504842",
     "status": "completed"
    },
    "tags": []
   },
   "outputs": [
    {
     "data": {
      "image/png": "[encoded data removed]",
      "text/plain": [
       "<Figure size 800x600 with 1 Axes>"
      ]
     },
     "metadata": {},
     "output_type": "display_data"
    }
   ],
   "source": [
    "import matplotlib.pyplot as plt\n",
    "\n",
    "train_size = len(train_dataset)\n",
    "val_size = len(val_dataset)\n",
    "\n",
    "labels = ['Training Dataset', 'Validation Dataset']\n",
    "sizes = [train_size, val_size]\n",
    "\n",
    "plt.figure(figsize=(8, 6))\n",
    "plt.bar(labels, sizes, color=['blue', 'orange'], alpha=0.7)\n",
    "\n",
    "for i, size in enumerate(sizes):\n",
    "    plt.text(i, size + 5, str(size), ha='center', fontsize=12)\n",
    "\n",
    "plt.title('Dataset Split Distribution')\n",
    "plt.ylabel('Number of Samples')\n",
    "plt.xlabel('Dataset')\n",
    "plt.ylim(0, max(sizes) + 50)\n",
    "plt.show()"
   ]
  },
  {
   "cell_type": "code",
   "execution_count": 7,
   "id": "c0b853ff",
   "metadata": {
    "execution": {
     "iopub.execute_input": "2025-02-15T02:05:44.712350Z",
     "iopub.status.busy": "2025-02-15T02:05:44.712100Z",
     "iopub.status.idle": "2025-02-15T02:05:44.771106Z",
     "shell.execute_reply": "2025-02-15T02:05:44.770220Z"
    },
    "papermill": {
     "duration": 0.06458,
     "end_time": "2025-02-15T02:05:44.772322",
     "exception": false,
     "start_time": "2025-02-15T02:05:44.707742",
     "status": "completed"
    },
    "tags": []
   },
   "outputs": [
    {
     "name": "stdout",
     "output_type": "stream",
     "text": [
      "cuda\n"
     ]
    }
   ],
   "source": [
    "device = torch.device(\"cuda\" if torch.cuda.is_available() else \"cpu\")\n",
    "print(device)"
   ]
  },
  {
   "cell_type": "code",
   "execution_count": 8,
   "id": "b96040cd",
   "metadata": {
    "execution": {
     "iopub.execute_input": "2025-02-15T02:05:44.781096Z",
     "iopub.status.busy": "2025-02-15T02:05:44.780812Z",
     "iopub.status.idle": "2025-02-15T02:05:45.453080Z",
     "shell.execute_reply": "2025-02-15T02:05:45.452094Z"
    },
    "papermill": {
     "duration": 0.6784,
     "end_time": "2025-02-15T02:05:45.454739",
     "exception": false,
     "start_time": "2025-02-15T02:05:44.776339",
     "status": "completed"
    },
    "tags": []
   },
   "outputs": [
    {
     "name": "stderr",
     "output_type": "stream",
     "text": [
      "Downloading: \"https://download.pytorch.org/models/mobilenet_v3_large-5c1a4163.pth\" to /root/.cache/torch/hub/checkpoints/mobilenet_v3_large-5c1a4163.pth\n",
      "100%|██████████| 21.1M/21.1M [00:00<00:00, 117MB/s]\n"
     ]
    }
   ],
   "source": [
    "import torchvision.models as models\n",
    "\n",
    "model = models.mobilenet_v3_large(weights=models.MobileNet_V3_Large_Weights.DEFAULT)\n",
    "\n",
    "# Modify the classifier layer to match the number of classes (e.g., 2 for binary classification)\n",
    "num_ftrs = model.classifier[3].in_features\n",
    "model.classifier[3] = nn.Linear(num_ftrs, 2)\n",
    "\n",
    "model = model.to(device)"
   ]
  },
  {
   "cell_type": "code",
   "execution_count": 9,
   "id": "4ea3f01e",
   "metadata": {
    "execution": {
     "iopub.execute_input": "2025-02-15T02:05:45.464393Z",
     "iopub.status.busy": "2025-02-15T02:05:45.464139Z",
     "iopub.status.idle": "2025-02-15T02:05:45.469017Z",
     "shell.execute_reply": "2025-02-15T02:05:45.468323Z"
    },
    "papermill": {
     "duration": 0.010813,
     "end_time": "2025-02-15T02:05:45.470249",
     "exception": false,
     "start_time": "2025-02-15T02:05:45.459436",
     "status": "completed"
    },
    "tags": []
   },
   "outputs": [],
   "source": [
    "from torch.optim.lr_scheduler import StepLR\n",
    "\n",
    "optimizer = optim.Adam(model.parameters(), lr=0.001)\n",
    "criterion = nn.CrossEntropyLoss()\n",
    "scheduler = StepLR(optimizer, step_size=3, gamma=0.1)"
   ]
  },
  {
   "cell_type": "code",
   "execution_count": 10,
   "id": "bdd77a78",
   "metadata": {
    "execution": {
     "iopub.execute_input": "2025-02-15T02:05:45.479104Z",
     "iopub.status.busy": "2025-02-15T02:05:45.478893Z",
     "iopub.status.idle": "2025-02-15T02:05:45.482507Z",
     "shell.execute_reply": "2025-02-15T02:05:45.481841Z"
    },
    "papermill": {
     "duration": 0.009306,
     "end_time": "2025-02-15T02:05:45.483664",
     "exception": false,
     "start_time": "2025-02-15T02:05:45.474358",
     "status": "completed"
    },
    "tags": []
   },
   "outputs": [],
   "source": [
    "# Training and validation loop\n",
    "patience = 6\n",
    "trigger_times = 0\n",
    "best_val_loss = float('inf')\n",
    "epochs = 8\n",
    "best_val_acc = 0.0\n",
    "\n",
    "data = {\n",
    "    \"train_losses\": [],\n",
    "    \"train_accuracies\": [],\n",
    "    \"val_losses\": [],\n",
    "    \"val_accuracies\": [],\n",
    "}"
   ]
  },
  {
   "cell_type": "code",
   "execution_count": 11,
   "id": "3e23c8d3",
   "metadata": {
    "execution": {
     "iopub.execute_input": "2025-02-15T02:05:45.492533Z",
     "iopub.status.busy": "2025-02-15T02:05:45.492320Z",
     "iopub.status.idle": "2025-02-15T12:28:17.107693Z",
     "shell.execute_reply": "2025-02-15T12:28:17.106698Z"
    },
    "papermill": {
     "duration": 37351.627384,
     "end_time": "2025-02-15T12:28:17.115173",
     "exception": false,
     "start_time": "2025-02-15T02:05:45.487789",
     "status": "completed"
    },
    "tags": []
   },
   "outputs": [
    {
     "name": "stdout",
     "output_type": "stream",
     "text": [
      "Epoch 1/8\n"
     ]
    },
    {
     "name": "stderr",
     "output_type": "stream",
     "text": [
      "/usr/local/lib/python3.10/dist-packages/PIL/Image.py:1054: UserWarning: Palette images with Transparency expressed in bytes should be converted to RGBA images\n",
      "  warnings.warn(\n"
     ]
    },
    {
     "name": "stdout",
     "output_type": "stream",
     "text": [
      "Train Loss: 0.3196 Acc: 0.8642\n",
      "Val Loss: 0.4147 Acc: 0.8446\n",
      "\n",
      "Classification Report:\n",
      "              precision    recall  f1-score   support\n",
      "\n",
      "        fake       0.78      0.95      0.86      2385\n",
      "        real       0.94      0.74      0.83      2415\n",
      "\n",
      "    accuracy                           0.84      4800\n",
      "   macro avg       0.86      0.85      0.84      4800\n",
      "weighted avg       0.86      0.84      0.84      4800\n",
      "\n",
      "Epoch 2/8\n"
     ]
    },
    {
     "name": "stderr",
     "output_type": "stream",
     "text": [
      "/usr/local/lib/python3.10/dist-packages/PIL/Image.py:1054: UserWarning: Palette images with Transparency expressed in bytes should be converted to RGBA images\n",
      "  warnings.warn(\n"
     ]
    },
    {
     "name": "stdout",
     "output_type": "stream",
     "text": [
      "Train Loss: 0.2521 Acc: 0.8953\n",
      "Val Loss: 0.4088 Acc: 0.8306\n",
      "\n",
      "Classification Report:\n",
      "              precision    recall  f1-score   support\n",
      "\n",
      "        fake       0.76      0.97      0.85      2385\n",
      "        real       0.96      0.70      0.81      2415\n",
      "\n",
      "    accuracy                           0.83      4800\n",
      "   macro avg       0.86      0.83      0.83      4800\n",
      "weighted avg       0.86      0.83      0.83      4800\n",
      "\n",
      "Epoch 3/8\n"
     ]
    },
    {
     "name": "stderr",
     "output_type": "stream",
     "text": [
      "/usr/local/lib/python3.10/dist-packages/PIL/Image.py:1054: UserWarning: Palette images with Transparency expressed in bytes should be converted to RGBA images\n",
      "  warnings.warn(\n"
     ]
    },
    {
     "name": "stdout",
     "output_type": "stream",
     "text": [
      "Train Loss: 0.2255 Acc: 0.9118\n",
      "Val Loss: 0.2834 Acc: 0.8946\n",
      "\n",
      "Classification Report:\n",
      "              precision    recall  f1-score   support\n",
      "\n",
      "        fake       0.90      0.89      0.89      2385\n",
      "        real       0.89      0.90      0.90      2415\n",
      "\n",
      "    accuracy                           0.89      4800\n",
      "   macro avg       0.89      0.89      0.89      4800\n",
      "weighted avg       0.89      0.89      0.89      4800\n",
      "\n",
      "Epoch 4/8\n"
     ]
    },
    {
     "name": "stderr",
     "output_type": "stream",
     "text": [
      "/usr/local/lib/python3.10/dist-packages/PIL/Image.py:1054: UserWarning: Palette images with Transparency expressed in bytes should be converted to RGBA images\n",
      "  warnings.warn(\n"
     ]
    },
    {
     "name": "stdout",
     "output_type": "stream",
     "text": [
      "Train Loss: 0.1748 Acc: 0.9331\n",
      "Val Loss: 0.2061 Acc: 0.9158\n",
      "\n",
      "Classification Report:\n",
      "              precision    recall  f1-score   support\n",
      "\n",
      "        fake       0.91      0.92      0.92      2385\n",
      "        real       0.92      0.91      0.92      2415\n",
      "\n",
      "    accuracy                           0.92      4800\n",
      "   macro avg       0.92      0.92      0.92      4800\n",
      "weighted avg       0.92      0.92      0.92      4800\n",
      "\n",
      "Epoch 5/8\n"
     ]
    },
    {
     "name": "stderr",
     "output_type": "stream",
     "text": [
      "/usr/local/lib/python3.10/dist-packages/PIL/Image.py:1054: UserWarning: Palette images with Transparency expressed in bytes should be converted to RGBA images\n",
      "  warnings.warn(\n"
     ]
    },
    {
     "name": "stdout",
     "output_type": "stream",
     "text": [
      "Train Loss: 0.1495 Acc: 0.9432\n",
      "Val Loss: 0.1718 Acc: 0.9346\n",
      "\n",
      "Classification Report:\n",
      "              precision    recall  f1-score   support\n",
      "\n",
      "        fake       0.94      0.92      0.93      2385\n",
      "        real       0.93      0.94      0.94      2415\n",
      "\n",
      "    accuracy                           0.93      4800\n",
      "   macro avg       0.93      0.93      0.93      4800\n",
      "weighted avg       0.93      0.93      0.93      4800\n",
      "\n",
      "Epoch 6/8\n"
     ]
    },
    {
     "name": "stderr",
     "output_type": "stream",
     "text": [
      "/usr/local/lib/python3.10/dist-packages/PIL/Image.py:1054: UserWarning: Palette images with Transparency expressed in bytes should be converted to RGBA images\n",
      "  warnings.warn(\n"
     ]
    },
    {
     "name": "stdout",
     "output_type": "stream",
     "text": [
      "Train Loss: 0.1373 Acc: 0.9468\n",
      "Val Loss: 0.1818 Acc: 0.9277\n",
      "\n",
      "Classification Report:\n",
      "              precision    recall  f1-score   support\n",
      "\n",
      "        fake       0.95      0.90      0.93      2385\n",
      "        real       0.91      0.96      0.93      2415\n",
      "\n",
      "    accuracy                           0.93      4800\n",
      "   macro avg       0.93      0.93      0.93      4800\n",
      "weighted avg       0.93      0.93      0.93      4800\n",
      "\n",
      "Early stopping trigger count: 1/6\n",
      "Epoch 7/8\n"
     ]
    },
    {
     "name": "stderr",
     "output_type": "stream",
     "text": [
      "/usr/local/lib/python3.10/dist-packages/PIL/Image.py:1054: UserWarning: Palette images with Transparency expressed in bytes should be converted to RGBA images\n",
      "  warnings.warn(\n"
     ]
    },
    {
     "name": "stdout",
     "output_type": "stream",
     "text": [
      "Train Loss: 0.1254 Acc: 0.9509\n",
      "Val Loss: 0.1819 Acc: 0.9290\n",
      "\n",
      "Classification Report:\n",
      "              precision    recall  f1-score   support\n",
      "\n",
      "        fake       0.95      0.91      0.93      2385\n",
      "        real       0.91      0.95      0.93      2415\n",
      "\n",
      "    accuracy                           0.93      4800\n",
      "   macro avg       0.93      0.93      0.93      4800\n",
      "weighted avg       0.93      0.93      0.93      4800\n",
      "\n",
      "Early stopping trigger count: 2/6\n",
      "Epoch 8/8\n"
     ]
    },
    {
     "name": "stderr",
     "output_type": "stream",
     "text": [
      "/usr/local/lib/python3.10/dist-packages/PIL/Image.py:1054: UserWarning: Palette images with Transparency expressed in bytes should be converted to RGBA images\n",
      "  warnings.warn(\n"
     ]
    },
    {
     "name": "stdout",
     "output_type": "stream",
     "text": [
      "Train Loss: 0.1279 Acc: 0.9519\n",
      "Val Loss: 0.1780 Acc: 0.9329\n",
      "\n",
      "Classification Report:\n",
      "              precision    recall  f1-score   support\n",
      "\n",
      "        fake       0.95      0.92      0.93      2385\n",
      "        real       0.92      0.95      0.93      2415\n",
      "\n",
      "    accuracy                           0.93      4800\n",
      "   macro avg       0.93      0.93      0.93      4800\n",
      "weighted avg       0.93      0.93      0.93      4800\n",
      "\n",
      "Early stopping trigger count: 3/6\n",
      "Best Validation Accuracy: 0.9346\n",
      "Best Validation Loss: 0.1718\n"
     ]
    }
   ],
   "source": [
    "for epoch in range(epochs):\n",
    "    print(f\"Epoch {epoch+1}/{epochs}\")\n",
    "\n",
    "    # Training phase\n",
    "    model.train()\n",
    "    running_loss = 0.0\n",
    "    running_corrects = 0\n",
    "\n",
    "    for inputs, labels in train_loader:\n",
    "        inputs, labels = inputs.to(device), labels.to(device)\n",
    "\n",
    "        # Zero the parameter gradients\n",
    "        optimizer.zero_grad()\n",
    "\n",
    "        # Forward pass\n",
    "        outputs = model(inputs)\n",
    "        _, preds = torch.max(outputs, 1)\n",
    "        loss = criterion(outputs, labels)\n",
    "\n",
    "        # Backward pass and optimization\n",
    "        loss.backward()\n",
    "        optimizer.step()\n",
    "\n",
    "        # Track loss and accuracy\n",
    "        running_loss += loss.item() * inputs.size(0)\n",
    "        running_corrects += torch.sum(preds == labels.data)\n",
    "\n",
    "    epoch_loss = running_loss / len(train_dataset)\n",
    "    epoch_acc = running_corrects.double() / len(train_dataset)\n",
    "\n",
    "    data[\"train_losses\"].append(epoch_loss)\n",
    "    data[\"train_accuracies\"].append(epoch_acc.item())\n",
    "\n",
    "    print(f\"Train Loss: {epoch_loss:.4f} Acc: {epoch_acc:.4f}\")\n",
    "\n",
    "    # Validation phase\n",
    "    model.eval()\n",
    "    val_loss = 0.0\n",
    "    val_corrects = 0\n",
    "    all_preds = []\n",
    "    all_labels = []\n",
    "\n",
    "    with torch.no_grad():\n",
    "        for inputs, labels in val_loader:\n",
    "            inputs, labels = inputs.to(device), labels.to(device)\n",
    "\n",
    "            outputs = model(inputs)\n",
    "            _, preds = torch.max(outputs, 1)\n",
    "            loss = criterion(outputs, labels)\n",
    "\n",
    "            val_loss += loss.item() * inputs.size(0)\n",
    "            val_corrects += torch.sum(preds == labels.data)\n",
    "\n",
    "            # Store predictions and labels for metrics\n",
    "            all_preds.extend(preds.cpu().numpy())\n",
    "            all_labels.extend(labels.cpu().numpy())\n",
    "\n",
    "    val_loss = val_loss / len(val_dataset)\n",
    "    val_acc = val_corrects.double() / len(val_dataset)\n",
    "\n",
    "    data[\"val_losses\"].append(val_loss)\n",
    "    data[\"val_accuracies\"].append(val_acc.item())\n",
    "\n",
    "    print(f\"Val Loss: {val_loss:.4f} Acc: {val_acc:.4f}\")\n",
    "\n",
    "    # Precision, Recall, F1-Score\n",
    "    print(\"\\nClassification Report:\")\n",
    "    print(classification_report(all_labels, all_preds, target_names=dataset.classes))\n",
    "\n",
    "    if val_acc > best_val_acc:\n",
    "        best_val_acc = val_acc\n",
    "\n",
    "    # Save the best model\n",
    "    if val_loss < best_val_loss:\n",
    "        best_val_loss = val_loss\n",
    "        torch.save(model.state_dict(), f'best_model{epoch}_mobilenetv3_small.pth')\n",
    "        trigger_times = 0  # Reset early stopping counter\n",
    "    else:\n",
    "        trigger_times += 1\n",
    "        print(f\"Early stopping trigger count: {trigger_times}/{patience}\")\n",
    "        if trigger_times >= patience:\n",
    "            print(\"Early stopping...\")\n",
    "            break\n",
    "\n",
    "    # Step the scheduler\n",
    "    scheduler.step()\n",
    "\n",
    "print(f'Best Validation Accuracy: {best_val_acc:.4f}')\n",
    "print(f'Best Validation Loss: {best_val_loss:.4f}')"
   ]
  },
  {
   "cell_type": "code",
   "execution_count": 12,
   "id": "caec2441",
   "metadata": {
    "execution": {
     "iopub.execute_input": "2025-02-15T12:28:17.127233Z",
     "iopub.status.busy": "2025-02-15T12:28:17.126965Z",
     "iopub.status.idle": "2025-02-15T12:28:17.135728Z",
     "shell.execute_reply": "2025-02-15T12:28:17.135101Z"
    },
    "papermill": {
     "duration": 0.016092,
     "end_time": "2025-02-15T12:28:17.136987",
     "exception": false,
     "start_time": "2025-02-15T12:28:17.120895",
     "status": "completed"
    },
    "tags": []
   },
   "outputs": [],
   "source": [
    "df = pd.DataFrame(data)"
   ]
  },
  {
   "cell_type": "code",
   "execution_count": 13,
   "id": "5d6183d7",
   "metadata": {
    "execution": {
     "iopub.execute_input": "2025-02-15T12:28:17.148337Z",
     "iopub.status.busy": "2025-02-15T12:28:17.148114Z",
     "iopub.status.idle": "2025-02-15T12:28:17.151786Z",
     "shell.execute_reply": "2025-02-15T12:28:17.150926Z"
    },
    "papermill": {
     "duration": 0.010775,
     "end_time": "2025-02-15T12:28:17.153102",
     "exception": false,
     "start_time": "2025-02-15T12:28:17.142327",
     "status": "completed"
    },
    "tags": []
   },
   "outputs": [
    {
     "name": "stdout",
     "output_type": "stream",
     "text": [
      "{'train_losses': [0.3195958341047834, 0.2520596761664125, 0.2254724443390367, 0.17479064483863996, 0.1494635780279298, 0.13730650843416095, 0.1253788004011262, 0.12791838731008046], 'train_accuracies': [0.8642116776915464, 0.8953070472420438, 0.9118183238710349, 0.9330694306995155, 0.9432262096984217, 0.9468201468826501, 0.9508828584822125, 0.9518724933590291], 'val_losses': [0.4147257816791534, 0.4087573421001434, 0.2834275929133097, 0.20613828281561533, 0.17184990664323171, 0.18184383153915407, 0.18188028593858083, 0.1779590258995692], 'val_accuracies': [0.8445833333333334, 0.8306250000000001, 0.8945833333333334, 0.9158333333333334, 0.9345833333333334, 0.9277083333333334, 0.9289583333333334, 0.9329166666666667]}\n"
     ]
    }
   ],
   "source": [
    "print(data)"
   ]
  },
  {
   "cell_type": "code",
   "execution_count": 14,
   "id": "492df7bd",
   "metadata": {
    "execution": {
     "iopub.execute_input": "2025-02-15T12:28:17.164637Z",
     "iopub.status.busy": "2025-02-15T12:28:17.164417Z",
     "iopub.status.idle": "2025-02-15T12:28:17.186310Z",
     "shell.execute_reply": "2025-02-15T12:28:17.185591Z"
    },
    "papermill": {
     "duration": 0.028962,
     "end_time": "2025-02-15T12:28:17.187481",
     "exception": false,
     "start_time": "2025-02-15T12:28:17.158519",
     "status": "completed"
    },
    "tags": []
   },
   "outputs": [
    {
     "data": {
      "text/html": [
       "<div>\n",
       "<style scoped>\n",
       "    .dataframe tbody tr th:only-of-type {\n",
       "        vertical-align: middle;\n",
       "    }\n",
       "\n",
       "    .dataframe tbody tr th {\n",
       "        vertical-align: top;\n",
       "    }\n",
       "\n",
       "    .dataframe thead th {\n",
       "        text-align: right;\n",
       "    }\n",
       "</style>\n",
       "<table border=\"1\" class=\"dataframe\">\n",
       "  <thead>\n",
       "    <tr style=\"text-align: right;\">\n",
       "      <th></th>\n",
       "      <th>train_losses</th>\n",
       "      <th>train_accuracies</th>\n",
       "      <th>val_losses</th>\n",
       "      <th>val_accuracies</th>\n",
       "    </tr>\n",
       "  </thead>\n",
       "  <tbody>\n",
       "    <tr>\n",
       "      <th>0</th>\n",
       "      <td>0.319596</td>\n",
       "      <td>0.864212</td>\n",
       "      <td>0.414726</td>\n",
       "      <td>0.844583</td>\n",
       "    </tr>\n",
       "    <tr>\n",
       "      <th>1</th>\n",
       "      <td>0.252060</td>\n",
       "      <td>0.895307</td>\n",
       "      <td>0.408757</td>\n",
       "      <td>0.830625</td>\n",
       "    </tr>\n",
       "    <tr>\n",
       "      <th>2</th>\n",
       "      <td>0.225472</td>\n",
       "      <td>0.911818</td>\n",
       "      <td>0.283428</td>\n",
       "      <td>0.894583</td>\n",
       "    </tr>\n",
       "    <tr>\n",
       "      <th>3</th>\n",
       "      <td>0.174791</td>\n",
       "      <td>0.933069</td>\n",
       "      <td>0.206138</td>\n",
       "      <td>0.915833</td>\n",
       "    </tr>\n",
       "    <tr>\n",
       "      <th>4</th>\n",
       "      <td>0.149464</td>\n",
       "      <td>0.943226</td>\n",
       "      <td>0.171850</td>\n",
       "      <td>0.934583</td>\n",
       "    </tr>\n",
       "    <tr>\n",
       "      <th>5</th>\n",
       "      <td>0.137307</td>\n",
       "      <td>0.946820</td>\n",
       "      <td>0.181844</td>\n",
       "      <td>0.927708</td>\n",
       "    </tr>\n",
       "    <tr>\n",
       "      <th>6</th>\n",
       "      <td>0.125379</td>\n",
       "      <td>0.950883</td>\n",
       "      <td>0.181880</td>\n",
       "      <td>0.928958</td>\n",
       "    </tr>\n",
       "    <tr>\n",
       "      <th>7</th>\n",
       "      <td>0.127918</td>\n",
       "      <td>0.951872</td>\n",
       "      <td>0.177959</td>\n",
       "      <td>0.932917</td>\n",
       "    </tr>\n",
       "  </tbody>\n",
       "</table>\n",
       "</div>"
      ],
      "text/plain": [
       "   train_losses  train_accuracies  val_losses  val_accuracies\n",
       "0      0.319596          0.864212    0.414726        0.844583\n",
       "1      0.252060          0.895307    0.408757        0.830625\n",
       "2      0.225472          0.911818    0.283428        0.894583\n",
       "3      0.174791          0.933069    0.206138        0.915833\n",
       "4      0.149464          0.943226    0.171850        0.934583\n",
       "5      0.137307          0.946820    0.181844        0.927708\n",
       "6      0.125379          0.950883    0.181880        0.928958\n",
       "7      0.127918          0.951872    0.177959        0.932917"
      ]
     },
     "execution_count": 14,
     "metadata": {},
     "output_type": "execute_result"
    }
   ],
   "source": [
    "df"
   ]
  },
  {
   "cell_type": "code",
   "execution_count": 15,
   "id": "608a48eb",
   "metadata": {
    "execution": {
     "iopub.execute_input": "2025-02-15T12:28:17.199646Z",
     "iopub.status.busy": "2025-02-15T12:28:17.199394Z",
     "iopub.status.idle": "2025-02-15T12:28:17.208890Z",
     "shell.execute_reply": "2025-02-15T12:28:17.208158Z"
    },
    "papermill": {
     "duration": 0.016841,
     "end_time": "2025-02-15T12:28:17.210009",
     "exception": false,
     "start_time": "2025-02-15T12:28:17.193168",
     "status": "completed"
    },
    "tags": []
   },
   "outputs": [
    {
     "name": "stdout",
     "output_type": "stream",
     "text": [
      "CSV file saved successfully!\n"
     ]
    }
   ],
   "source": [
    "df.to_csv(\"/kaggle/working/MobileNet_2-3ofData.csv\", index=False)\n",
    "print(\"CSV file saved successfully!\")"
   ]
  },
  {
   "cell_type": "code",
   "execution_count": 16,
   "id": "9e9d2589",
   "metadata": {
    "execution": {
     "iopub.execute_input": "2025-02-15T12:28:17.222413Z",
     "iopub.status.busy": "2025-02-15T12:28:17.222173Z",
     "iopub.status.idle": "2025-02-15T12:28:17.630152Z",
     "shell.execute_reply": "2025-02-15T12:28:17.629249Z"
    },
    "papermill": {
     "duration": 0.415875,
     "end_time": "2025-02-15T12:28:17.631693",
     "exception": false,
     "start_time": "2025-02-15T12:28:17.215818",
     "status": "completed"
    },
    "tags": []
   },
   "outputs": [
    {
     "data": {
      "image/png": "[encoded data removed]",
      "text/plain": [
       "<Figure size 1200x600 with 1 Axes>"
      ]
     },
     "metadata": {},
     "output_type": "display_data"
    },
    {
     "data": {
      "image/png": "[encoded data removed]",
      "text/plain": [
       "<Figure size 1200x600 with 1 Axes>"
      ]
     },
     "metadata": {},
     "output_type": "display_data"
    }
   ],
   "source": [
    "import matplotlib.pyplot as plt\n",
    "\n",
    "# Plot Training and Validation Loss\n",
    "plt.figure(figsize=(12, 6))\n",
    "plt.plot(range(1, len(data[\"train_losses\"]) + 1), data[\"train_losses\"], label='Training Loss', marker='o')\n",
    "plt.plot(range(1, len(data[\"val_losses\"]) + 1), data[\"val_losses\"], label='Validation Loss', marker='o')\n",
    "plt.title('Training and Validation Loss', fontsize=16)\n",
    "plt.xlabel('Epochs', fontsize=14)\n",
    "plt.ylabel('Loss', fontsize=14)\n",
    "plt.xticks(range(1, len(data[\"train_losses\"]) + 1))\n",
    "plt.legend(fontsize=12)\n",
    "plt.grid(alpha=0.5)\n",
    "plt.show()\n",
    "\n",
    "# Plot Training and Validation Accuracy\n",
    "plt.figure(figsize=(12, 6))\n",
    "plt.plot(range(1, len(data[\"train_accuracies\"]) + 1), data[\"train_accuracies\"], label='Training Accuracy', marker='o')\n",
    "plt.plot(range(1, len(data[\"val_accuracies\"]) + 1), data[\"val_accuracies\"], label='Validation Accuracy', marker='o')\n",
    "plt.title('Training and Validation Accuracy', fontsize=16)\n",
    "plt.xlabel('Epochs', fontsize=14)\n",
    "plt.ylabel('Accuracy', fontsize=14)\n",
    "plt.xticks(range(1, len(data[\"train_accuracies\"]) + 1))\n",
    "plt.legend(fontsize=12)\n",
    "plt.grid(alpha=0.5)\n",
    "plt.show()"
   ]
  },
  {
   "cell_type": "code",
   "execution_count": null,
   "id": "abe1bced",
   "metadata": {
    "papermill": {
     "duration": 0.007566,
     "end_time": "2025-02-15T12:28:17.647656",
     "exception": false,
     "start_time": "2025-02-15T12:28:17.640090",
     "status": "completed"
    },
    "tags": []
   },
   "outputs": [],
   "source": []
  },
  {
   "cell_type": "code",
   "execution_count": null,
   "id": "18947b1d",
   "metadata": {
    "papermill": {
     "duration": 0.007428,
     "end_time": "2025-02-15T12:28:17.662615",
     "exception": false,
     "start_time": "2025-02-15T12:28:17.655187",
     "status": "completed"
    },
    "tags": []
   },
   "outputs": [],
   "source": []
  }
 ],
 "metadata": {
  "kaggle": {
   "accelerator": "gpu",
   "dataSources": [
    {
     "datasetId": 5070657,
     "sourceId": 8497982,
     "sourceType": "datasetVersion"
    }
   ],
   "dockerImageVersionId": 30887,
   "isGpuEnabled": true,
   "isInternetEnabled": true,
   "language": "python",
   "sourceType": "notebook"
  },
  "kernelspec": {
   "display_name": "Python 3",
   "language": "python",
   "name": "python3"
  },
  "language_info": {
   "codemirror_mode": {
    "name": "ipython",
    "version": 3
   },
   "file_extension": ".py",
   "mimetype": "text/x-python",
   "name": "python",
   "nbconvert_exporter": "python",
   "pygments_lexer": "ipython3",
   "version": "3.10.12"
  },
  "papermill": {
   "default_parameters": {},
   "duration": 37796.133891,
   "end_time": "2025-02-15T12:28:20.265642",
   "environment_variables": {},
   "exception": null,
   "input_path": "__notebook__.ipynb",
   "output_path": "__notebook__.ipynb",
   "parameters": {},
   "start_time": "2025-02-15T01:58:24.131751",
   "version": "2.6.0"
  }
 },
 "nbformat": 4,
 "nbformat_minor": 5
}
