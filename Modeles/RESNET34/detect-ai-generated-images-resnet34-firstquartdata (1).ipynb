{
 "cells": [
  {
   "cell_type": "code",
   "execution_count": 1,
   "id": "eeb3e78e",
   "metadata": {
    "_cell_guid": "b1076dfc-b9ad-4769-8c92-a6c4dae69d19",
    "_uuid": "8f2839f25d086af736a60e9eeb907d3b93b6e0e5",
    "execution": {
     "iopub.execute_input": "2025-02-08T16:59:18.171277Z",
     "iopub.status.busy": "2025-02-08T16:59:18.170915Z",
     "iopub.status.idle": "2025-02-08T16:59:27.324237Z",
     "shell.execute_reply": "2025-02-08T16:59:27.323507Z"
    },
    "papermill": {
     "duration": 9.160604,
     "end_time": "2025-02-08T16:59:27.325841",
     "exception": false,
     "start_time": "2025-02-08T16:59:18.165237",
     "status": "completed"
    },
    "tags": []
   },
   "outputs": [],
   "source": [
    "# This Python 3 environment comes with many helpful analytics libraries installed\n",
    "# It is defined by the kaggle/python Docker image: https://github.com/kaggle/docker-python\n",
    "# For example, here's several helpful packages to load\n",
    "\n",
    "import numpy as np \n",
    "import pandas as pd \n",
    "import os\n",
    "import torch\n",
    "from torch import nn, optim\n",
    "from torchvision import datasets, transforms, models\n",
    "from torch.utils.data import DataLoader, random_split\n",
    "from sklearn.metrics import classification_report, confusion_matrix\n",
    "import os\n",
    "from PIL import Image, ImageFile\n",
    "import warnings\n",
    "\n",
    "with warnings.catch_warnings():\n",
    "    warnings.simplefilter(\"ignore\", Image.DecompressionBombWarning)\n"
   ]
  },
  {
   "cell_type": "code",
   "execution_count": 2,
   "id": "6dabe9ab",
   "metadata": {
    "execution": {
     "iopub.execute_input": "2025-02-08T16:59:27.335455Z",
     "iopub.status.busy": "2025-02-08T16:59:27.335075Z",
     "iopub.status.idle": "2025-02-08T17:08:09.156789Z",
     "shell.execute_reply": "2025-02-08T17:08:09.156046Z"
    },
    "papermill": {
     "duration": 521.827988,
     "end_time": "2025-02-08T17:08:09.158493",
     "exception": false,
     "start_time": "2025-02-08T16:59:27.330505",
     "status": "completed"
    },
    "tags": []
   },
   "outputs": [],
   "source": [
    "# Define dataset path\n",
    "data_dir = '/kaggle/input/ai-generated-images-vs-real-images/train'\n",
    "\n",
    "\n",
    "\n",
    "Image.MAX_IMAGE_PIXELS = None  \n",
    "# or\n",
    "Image.MAX_IMAGE_PIXELS = 200000000  \n",
    "\n",
    "\n",
    "def convert_to_rgb(image):\n",
    "    if image.mode == 'P':  \n",
    "        image = image.convert(\"RGBA\")  \n",
    "    if image.mode == \"RGBA\":  \n",
    "        background = Image.new(\"RGB\", image.size, (255, 255, 255))\n",
    "        image = Image.alpha_composite(background, image).convert(\"RGB\")\n",
    "    elif image.mode != \"RGB\":\n",
    "        image = image.convert(\"RGB\") \n",
    "    return image\n",
    "\n",
    "\n",
    "\n",
    "def resize_large_image(image, max_size):\n",
    "    if image.size[0] > max_size[0] or image.size[1] > max_size[1]:\n",
    "        image.thumbnail(max_size, Image.Resampling.LANCZOS)  \n",
    "    return image\n",
    "\n",
    "\n",
    "train_transform = transforms.Compose([\n",
    "    transforms.Lambda(lambda img: resize_large_image(img, max_size=(5000, 5000))),  \n",
    "    transforms.Lambda(convert_to_rgb),               \n",
    "    transforms.RandomResizedCrop(224),               \n",
    "    transforms.RandomHorizontalFlip(p=0.5),          \n",
    "    transforms.RandomVerticalFlip(p=0.2),            \n",
    "    transforms.RandomRotation(degrees=15),           \n",
    "    transforms.ColorJitter(brightness=0.2, contrast=0.2, saturation=0.2, hue=0.1),  \n",
    "    transforms.ToTensor(),                           # Convert to tensor\n",
    "    transforms.Normalize([0.485, 0.456, 0.406], [0.229, 0.224, 0.225])  \n",
    "])\n",
    "\n",
    "\n",
    "\n",
    "val_transform = transforms.Compose([\n",
    "    transforms.Lambda(convert_to_rgb),  \n",
    "    transforms.Resize((224, 224)),      \n",
    "    transforms.ToTensor(),             \n",
    "    transforms.Normalize([0.485, 0.456, 0.406], [0.229, 0.224, 0.225])  \n",
    "])\n",
    "\n",
    "\n",
    "ImageFile.LOAD_TRUNCATED_IMAGES = True\n",
    "\n",
    "\n",
    "MIN_IMAGE_FILE_SIZE = 3284  \n",
    "\n",
    "\n",
    "def is_valid_image(file_path):\n",
    "    try:\n",
    "        if os.path.getsize(file_path) < MIN_IMAGE_FILE_SIZE:\n",
    "            return False\n",
    "        \n",
    "        with Image.open(file_path) as img:\n",
    "            img.verify()  \n",
    "        return True\n",
    "    except (OSError, Image.DecompressionBombError):\n",
    "        return False\n",
    "\n",
    "\n",
    "class ValidImageFolder(datasets.ImageFolder):\n",
    "    def __init__(self, root, transform=None):\n",
    "        super().__init__(root, transform)\n",
    "        self.samples = [(path, label) for path, label in self.samples if is_valid_image(path)]\n",
    "        self.targets = [label for _, label in self.samples]\n",
    "\n",
    "\n",
    "dataset = ValidImageFolder(root=data_dir, transform=train_transform)"
   ]
  },
  {
   "cell_type": "code",
   "execution_count": 3,
   "id": "9851ea51",
   "metadata": {
    "execution": {
     "iopub.execute_input": "2025-02-08T17:08:09.168017Z",
     "iopub.status.busy": "2025-02-08T17:08:09.167753Z",
     "iopub.status.idle": "2025-02-08T17:08:09.189063Z",
     "shell.execute_reply": "2025-02-08T17:08:09.188291Z"
    },
    "papermill": {
     "duration": 0.027014,
     "end_time": "2025-02-08T17:08:09.190325",
     "exception": false,
     "start_time": "2025-02-08T17:08:09.163311",
     "status": "completed"
    },
    "tags": []
   },
   "outputs": [
    {
     "name": "stdout",
     "output_type": "stream",
     "text": [
      "Original Dataset Size: 47998\n",
      "Balanced Subset Size: 11999 (Fake: 6000, Real: 5999)\n"
     ]
    }
   ],
   "source": [
    "from torch.utils.data import Subset\n",
    "\n",
    "fake_indices = [i for i, (_, label) in enumerate(dataset.samples) if label == dataset.class_to_idx['fake']]\n",
    "real_indices = [i for i, (_, label) in enumerate(dataset.samples) if label == dataset.class_to_idx['real']]\n",
    "\n",
    "\n",
    "fake_subset_size = int(1.0/4.0 * len(fake_indices))\n",
    "real_subset_size = int(1.0/4.0 * len(real_indices))\n",
    "\n",
    "fake_subset_indices = fake_indices[fake_subset_size:fake_subset_size*2]  \n",
    "real_subset_indices = real_indices[real_subset_size:real_subset_size*2]  \n",
    "\n",
    "balanced_subset_indices = np.concatenate((fake_subset_indices, real_subset_indices))\n",
    "\n",
    "balanced_subset = Subset(dataset, balanced_subset_indices)\n",
    "\n",
    "print(f\"Original Dataset Size: {len(dataset)}\")\n",
    "print(f\"Balanced Subset Size: {len(balanced_subset)} (Fake: {fake_subset_size}, Real: {real_subset_size})\")\n"
   ]
  },
  {
   "cell_type": "code",
   "execution_count": 4,
   "id": "5d55165f",
   "metadata": {
    "execution": {
     "iopub.execute_input": "2025-02-08T17:08:09.198988Z",
     "iopub.status.busy": "2025-02-08T17:08:09.198742Z",
     "iopub.status.idle": "2025-02-08T17:08:09.229338Z",
     "shell.execute_reply": "2025-02-08T17:08:09.228690Z"
    },
    "papermill": {
     "duration": 0.036314,
     "end_time": "2025-02-08T17:08:09.230674",
     "exception": false,
     "start_time": "2025-02-08T17:08:09.194360",
     "status": "completed"
    },
    "tags": []
   },
   "outputs": [],
   "source": [
    "train_size = int(0.8 * len(balanced_subset))\n",
    "val_size = len(balanced_subset) - train_size\n",
    "train_dataset, val_dataset = random_split(balanced_subset, [train_size, val_size])\n",
    "\n",
    "val_dataset.dataset.transform = val_transform\n",
    "\n",
    "train_loader = DataLoader(train_dataset, batch_size=256, shuffle=True)\n",
    "val_loader = DataLoader(val_dataset, batch_size=256, shuffle=False)"
   ]
  },
  {
   "cell_type": "code",
   "execution_count": 5,
   "id": "5800bebe",
   "metadata": {
    "execution": {
     "iopub.execute_input": "2025-02-08T17:08:09.239328Z",
     "iopub.status.busy": "2025-02-08T17:08:09.239097Z",
     "iopub.status.idle": "2025-02-08T17:08:09.242874Z",
     "shell.execute_reply": "2025-02-08T17:08:09.241922Z"
    },
    "papermill": {
     "duration": 0.009449,
     "end_time": "2025-02-08T17:08:09.244129",
     "exception": false,
     "start_time": "2025-02-08T17:08:09.234680",
     "status": "completed"
    },
    "tags": []
   },
   "outputs": [
    {
     "name": "stdout",
     "output_type": "stream",
     "text": [
      "Train Dataset Size: 9599\n",
      "Validation Dataset Size: 2400\n"
     ]
    }
   ],
   "source": [
    "print(f\"Train Dataset Size: {len(train_dataset)}\")\n",
    "print(f\"Validation Dataset Size: {len(val_dataset)}\")"
   ]
  },
  {
   "cell_type": "code",
   "execution_count": 6,
   "id": "f83ab935",
   "metadata": {
    "execution": {
     "iopub.execute_input": "2025-02-08T17:08:09.252734Z",
     "iopub.status.busy": "2025-02-08T17:08:09.252497Z",
     "iopub.status.idle": "2025-02-08T17:08:09.437173Z",
     "shell.execute_reply": "2025-02-08T17:08:09.436291Z"
    },
    "papermill": {
     "duration": 0.190321,
     "end_time": "2025-02-08T17:08:09.438504",
     "exception": false,
     "start_time": "2025-02-08T17:08:09.248183",
     "status": "completed"
    },
    "tags": []
   },
   "outputs": [
    {
     "data": {
      "image/png": "[encoded data removed]",
      "text/plain": [
       "<Figure size 800x600 with 1 Axes>"
      ]
     },
     "metadata": {},
     "output_type": "display_data"
    }
   ],
   "source": [
    "import matplotlib.pyplot as plt\n",
    "\n",
    "train_size = len(train_dataset)\n",
    "val_size = len(val_dataset)\n",
    "\n",
    "labels = ['Training Dataset', 'Validation Dataset']\n",
    "sizes = [train_size, val_size]\n",
    "\n",
    "plt.figure(figsize=(8, 6))\n",
    "plt.bar(labels, sizes, color=['blue', 'orange'], alpha=0.7)\n",
    "\n",
    "for i, size in enumerate(sizes):\n",
    "    plt.text(i, size + 5, str(size), ha='center', fontsize=12)\n",
    "\n",
    "plt.title('Dataset Split Distribution')\n",
    "plt.ylabel('Number of Samples')\n",
    "plt.xlabel('Dataset')\n",
    "plt.ylim(0, max(sizes) + 50)\n",
    "plt.show()"
   ]
  },
  {
   "cell_type": "code",
   "execution_count": 7,
   "id": "33f40e65",
   "metadata": {
    "execution": {
     "iopub.execute_input": "2025-02-08T17:08:09.448316Z",
     "iopub.status.busy": "2025-02-08T17:08:09.448090Z",
     "iopub.status.idle": "2025-02-08T17:08:09.499105Z",
     "shell.execute_reply": "2025-02-08T17:08:09.498240Z"
    },
    "papermill": {
     "duration": 0.057206,
     "end_time": "2025-02-08T17:08:09.500430",
     "exception": false,
     "start_time": "2025-02-08T17:08:09.443224",
     "status": "completed"
    },
    "tags": []
   },
   "outputs": [
    {
     "name": "stdout",
     "output_type": "stream",
     "text": [
      "cuda\n"
     ]
    }
   ],
   "source": [
    "device = torch.device(\"cuda\" if torch.cuda.is_available() else \"cpu\")\n",
    "print(device)"
   ]
  },
  {
   "cell_type": "code",
   "execution_count": 8,
   "id": "73619f53",
   "metadata": {
    "execution": {
     "iopub.execute_input": "2025-02-08T17:08:09.510226Z",
     "iopub.status.busy": "2025-02-08T17:08:09.509927Z",
     "iopub.status.idle": "2025-02-08T17:08:11.550826Z",
     "shell.execute_reply": "2025-02-08T17:08:11.550151Z"
    },
    "papermill": {
     "duration": 2.047155,
     "end_time": "2025-02-08T17:08:11.552245",
     "exception": false,
     "start_time": "2025-02-08T17:08:09.505090",
     "status": "completed"
    },
    "tags": []
   },
   "outputs": [
    {
     "name": "stderr",
     "output_type": "stream",
     "text": [
      "<ipython-input-8-94329e6cd701>:14: FutureWarning: You are using `torch.load` with `weights_only=False` (the current default value), which uses the default pickle module implicitly. It is possible to construct malicious pickle data which will execute arbitrary code during unpickling (See https://github.com/pytorch/pytorch/blob/main/SECURITY.md#untrusted-models for more details). In a future release, the default value for `weights_only` will be flipped to `True`. This limits the functions that could be executed during unpickling. Arbitrary objects will no longer be allowed to be loaded via this mode unless they are explicitly allowlisted by the user via `torch.serialization.add_safe_globals`. We recommend you start setting `weights_only=True` for any use case where you don't have full control of the loaded file. Please open an issue on GitHub for any issues related to this experimental feature.\n",
      "  model.load_state_dict(torch.load(\"/kaggle/input/model-resnet34-after-1-training/pytorch/default/1/best_model7for_RESNET101_After_First_training__one-third-part.pth\"))\n"
     ]
    }
   ],
   "source": [
    "import torch.nn as nn\n",
    "from torchvision import models, transforms\n",
    "\n",
    "from torchvision.models import resnet34\n",
    "\n",
    "model =resnet34(weights=None)\n",
    "\n",
    "\n",
    "num_ftrs = model.fc.in_features\n",
    "model.fc = nn.Sequential(\n",
    "    nn.Dropout(p=0.5),  \n",
    "    nn.Linear(num_ftrs, 2)  \n",
    ")\n",
    "model.load_state_dict(torch.load(\"/kaggle/input/model-resnet34-after-1-training/pytorch/default/1/best_model7for_RESNET101_After_First_training__one-third-part.pth\"))\n",
    "\n",
    "\n",
    "model = model.to(device)\n"
   ]
  },
  {
   "cell_type": "code",
   "execution_count": null,
   "id": "147050e0",
   "metadata": {
    "papermill": {
     "duration": 0.004342,
     "end_time": "2025-02-08T17:08:11.561575",
     "exception": false,
     "start_time": "2025-02-08T17:08:11.557233",
     "status": "completed"
    },
    "tags": []
   },
   "outputs": [],
   "source": []
  },
  {
   "cell_type": "code",
   "execution_count": 9,
   "id": "57e10b84",
   "metadata": {
    "execution": {
     "iopub.execute_input": "2025-02-08T17:08:11.572223Z",
     "iopub.status.busy": "2025-02-08T17:08:11.571916Z",
     "iopub.status.idle": "2025-02-08T17:08:11.576358Z",
     "shell.execute_reply": "2025-02-08T17:08:11.575718Z"
    },
    "papermill": {
     "duration": 0.011327,
     "end_time": "2025-02-08T17:08:11.577544",
     "exception": false,
     "start_time": "2025-02-08T17:08:11.566217",
     "status": "completed"
    },
    "tags": []
   },
   "outputs": [],
   "source": [
    "from torch.optim.lr_scheduler import StepLR\n",
    "\n",
    "optimizer = optim.Adam(model.parameters(), lr=0.001)\n",
    "criterion = nn.CrossEntropyLoss()\n",
    "\n",
    "scheduler = StepLR(optimizer, step_size=3, gamma=0.1)"
   ]
  },
  {
   "cell_type": "code",
   "execution_count": 10,
   "id": "e447cd91",
   "metadata": {
    "execution": {
     "iopub.execute_input": "2025-02-08T17:08:11.587418Z",
     "iopub.status.busy": "2025-02-08T17:08:11.587192Z",
     "iopub.status.idle": "2025-02-08T17:08:11.590411Z",
     "shell.execute_reply": "2025-02-08T17:08:11.589790Z"
    },
    "papermill": {
     "duration": 0.009476,
     "end_time": "2025-02-08T17:08:11.591634",
     "exception": false,
     "start_time": "2025-02-08T17:08:11.582158",
     "status": "completed"
    },
    "tags": []
   },
   "outputs": [],
   "source": [
    "patience = 5\n",
    "trigger_times = 0\n",
    "best_val_loss = float('inf')"
   ]
  },
  {
   "cell_type": "code",
   "execution_count": 11,
   "id": "86571ad0",
   "metadata": {
    "execution": {
     "iopub.execute_input": "2025-02-08T17:08:11.601233Z",
     "iopub.status.busy": "2025-02-08T17:08:11.601023Z",
     "iopub.status.idle": "2025-02-08T17:08:11.604122Z",
     "shell.execute_reply": "2025-02-08T17:08:11.603332Z"
    },
    "papermill": {
     "duration": 0.009189,
     "end_time": "2025-02-08T17:08:11.605405",
     "exception": false,
     "start_time": "2025-02-08T17:08:11.596216",
     "status": "completed"
    },
    "tags": []
   },
   "outputs": [],
   "source": [
    "epochs = 10\n",
    "best_val_acc = 0.0\n",
    "\n",
    "# data={\n",
    "#     \"train_losses\" : [],\n",
    "#     \"train_accuracies\" : [],\n",
    "#     \"val_losses\" : [],\n",
    "#     \"val_accuracies\" : []\n",
    "# }"
   ]
  },
  {
   "cell_type": "code",
   "execution_count": 12,
   "id": "b127d541",
   "metadata": {
    "execution": {
     "iopub.execute_input": "2025-02-08T17:08:11.615136Z",
     "iopub.status.busy": "2025-02-08T17:08:11.614898Z",
     "iopub.status.idle": "2025-02-08T17:08:11.648320Z",
     "shell.execute_reply": "2025-02-08T17:08:11.647548Z"
    },
    "papermill": {
     "duration": 0.039487,
     "end_time": "2025-02-08T17:08:11.649559",
     "exception": false,
     "start_time": "2025-02-08T17:08:11.610072",
     "status": "completed"
    },
    "tags": []
   },
   "outputs": [
    {
     "name": "stdout",
     "output_type": "stream",
     "text": [
      "{'train_losses': [0.5734998272016454, 0.4743225648479172, 0.4591502520439214, 0.3858638754585458, 0.364189382843927, 0.3507247774262442, 0.3389316792288898, 0.3396319232253137, 0.3283939269392772, 0.3321667350832528], 'train_accuracies': [0.7420564642150225, 0.7829982289821856, 0.7935201583498281, 0.8355036983019065, 0.8423794145223461, 0.8485258881133452, 0.8562350244817168, 0.8536305865194291, 0.8590478174809876, 0.8646734034795291], 'val_losses': [10.712988891601562, 0.5014767972628276, 0.4884221621354421, 0.3869033579031626, 0.3962781429290771, 0.3753858514626821, 0.3734327522913614, 0.3578917157649994, 0.366737189690272, 0.3584837702910105], 'val_accuracies': [0.4858333333333333, 0.785, 0.7679166666666667, 0.8258333333333334, 0.8304166666666667, 0.8379166666666668, 0.8387500000000001, 0.8483333333333334, 0.8425, 0.8541666666666667]}\n"
     ]
    }
   ],
   "source": [
    "df = pd.read_csv(\"/kaggle/input/score-of-resnet34-for-10-epcohes/scorse1_ResNet_101.csv\")\n",
    "\n",
    "data = df.to_dict(orient=\"list\")\n",
    "\n",
    "print(data)"
   ]
  },
  {
   "cell_type": "code",
   "execution_count": 13,
   "id": "35adbe11",
   "metadata": {
    "execution": {
     "iopub.execute_input": "2025-02-08T17:08:11.659802Z",
     "iopub.status.busy": "2025-02-08T17:08:11.659554Z",
     "iopub.status.idle": "2025-02-08T23:51:18.113920Z",
     "shell.execute_reply": "2025-02-08T23:51:18.113149Z"
    },
    "papermill": {
     "duration": 24186.46771,
     "end_time": "2025-02-08T23:51:18.121981",
     "exception": false,
     "start_time": "2025-02-08T17:08:11.654271",
     "status": "completed"
    },
    "tags": []
   },
   "outputs": [
    {
     "name": "stdout",
     "output_type": "stream",
     "text": [
      "Epoch 1/10\n"
     ]
    },
    {
     "name": "stderr",
     "output_type": "stream",
     "text": [
      "/usr/local/lib/python3.10/dist-packages/PIL/Image.py:1054: UserWarning: Palette images with Transparency expressed in bytes should be converted to RGBA images\n",
      "  warnings.warn(\n"
     ]
    },
    {
     "name": "stdout",
     "output_type": "stream",
     "text": [
      "Train Loss: 0.4714 Acc: 0.7902\n",
      "Val Loss: 0.7399 Acc: 0.7158\n",
      "\n",
      "Classification Report:\n",
      "              precision    recall  f1-score   support\n",
      "\n",
      "        fake       0.89      0.49      0.63      1188\n",
      "        real       0.65      0.94      0.77      1212\n",
      "\n",
      "    accuracy                           0.72      2400\n",
      "   macro avg       0.77      0.71      0.70      2400\n",
      "weighted avg       0.77      0.72      0.70      2400\n",
      "\n",
      "Epoch 2/10\n"
     ]
    },
    {
     "name": "stderr",
     "output_type": "stream",
     "text": [
      "/usr/local/lib/python3.10/dist-packages/PIL/Image.py:1054: UserWarning: Palette images with Transparency expressed in bytes should be converted to RGBA images\n",
      "  warnings.warn(\n"
     ]
    },
    {
     "name": "stdout",
     "output_type": "stream",
     "text": [
      "Train Loss: 0.4276 Acc: 0.8123\n",
      "Val Loss: 0.4907 Acc: 0.7571\n",
      "\n",
      "Classification Report:\n",
      "              precision    recall  f1-score   support\n",
      "\n",
      "        fake       0.80      0.68      0.73      1188\n",
      "        real       0.73      0.83      0.78      1212\n",
      "\n",
      "    accuracy                           0.76      2400\n",
      "   macro avg       0.76      0.76      0.76      2400\n",
      "weighted avg       0.76      0.76      0.76      2400\n",
      "\n",
      "Epoch 3/10\n"
     ]
    },
    {
     "name": "stderr",
     "output_type": "stream",
     "text": [
      "/usr/local/lib/python3.10/dist-packages/PIL/Image.py:1054: UserWarning: Palette images with Transparency expressed in bytes should be converted to RGBA images\n",
      "  warnings.warn(\n"
     ]
    },
    {
     "name": "stdout",
     "output_type": "stream",
     "text": [
      "Train Loss: 0.4289 Acc: 0.8089\n",
      "Val Loss: 0.7143 Acc: 0.6846\n",
      "\n",
      "Classification Report:\n",
      "              precision    recall  f1-score   support\n",
      "\n",
      "        fake       0.62      0.91      0.74      1188\n",
      "        real       0.85      0.46      0.59      1212\n",
      "\n",
      "    accuracy                           0.68      2400\n",
      "   macro avg       0.73      0.69      0.67      2400\n",
      "weighted avg       0.74      0.68      0.67      2400\n",
      "\n",
      "Early stopping trigger count: 1/5\n",
      "Epoch 4/10\n"
     ]
    },
    {
     "name": "stderr",
     "output_type": "stream",
     "text": [
      "/usr/local/lib/python3.10/dist-packages/PIL/Image.py:1054: UserWarning: Palette images with Transparency expressed in bytes should be converted to RGBA images\n",
      "  warnings.warn(\n"
     ]
    },
    {
     "name": "stdout",
     "output_type": "stream",
     "text": [
      "Train Loss: 0.4094 Acc: 0.8204\n",
      "Val Loss: 0.4230 Acc: 0.8088\n",
      "\n",
      "Classification Report:\n",
      "              precision    recall  f1-score   support\n",
      "\n",
      "        fake       0.86      0.74      0.79      1188\n",
      "        real       0.77      0.88      0.82      1212\n",
      "\n",
      "    accuracy                           0.81      2400\n",
      "   macro avg       0.82      0.81      0.81      2400\n",
      "weighted avg       0.81      0.81      0.81      2400\n",
      "\n",
      "Epoch 5/10\n"
     ]
    },
    {
     "name": "stderr",
     "output_type": "stream",
     "text": [
      "/usr/local/lib/python3.10/dist-packages/PIL/Image.py:1054: UserWarning: Palette images with Transparency expressed in bytes should be converted to RGBA images\n",
      "  warnings.warn(\n"
     ]
    },
    {
     "name": "stdout",
     "output_type": "stream",
     "text": [
      "Train Loss: 0.3737 Acc: 0.8349\n",
      "Val Loss: 0.3676 Acc: 0.8408\n",
      "\n",
      "Classification Report:\n",
      "              precision    recall  f1-score   support\n",
      "\n",
      "        fake       0.87      0.80      0.83      1188\n",
      "        real       0.82      0.88      0.85      1212\n",
      "\n",
      "    accuracy                           0.84      2400\n",
      "   macro avg       0.84      0.84      0.84      2400\n",
      "weighted avg       0.84      0.84      0.84      2400\n",
      "\n",
      "Epoch 6/10\n"
     ]
    },
    {
     "name": "stderr",
     "output_type": "stream",
     "text": [
      "/usr/local/lib/python3.10/dist-packages/PIL/Image.py:1054: UserWarning: Palette images with Transparency expressed in bytes should be converted to RGBA images\n",
      "  warnings.warn(\n"
     ]
    },
    {
     "name": "stdout",
     "output_type": "stream",
     "text": [
      "Train Loss: 0.3590 Acc: 0.8500\n",
      "Val Loss: 0.3575 Acc: 0.8483\n",
      "\n",
      "Classification Report:\n",
      "              precision    recall  f1-score   support\n",
      "\n",
      "        fake       0.86      0.82      0.84      1188\n",
      "        real       0.83      0.87      0.85      1212\n",
      "\n",
      "    accuracy                           0.85      2400\n",
      "   macro avg       0.85      0.85      0.85      2400\n",
      "weighted avg       0.85      0.85      0.85      2400\n",
      "\n",
      "Epoch 7/10\n"
     ]
    },
    {
     "name": "stderr",
     "output_type": "stream",
     "text": [
      "/usr/local/lib/python3.10/dist-packages/PIL/Image.py:1054: UserWarning: Palette images with Transparency expressed in bytes should be converted to RGBA images\n",
      "  warnings.warn(\n"
     ]
    },
    {
     "name": "stdout",
     "output_type": "stream",
     "text": [
      "Train Loss: 0.3453 Acc: 0.8515\n",
      "Val Loss: 0.3577 Acc: 0.8508\n",
      "\n",
      "Classification Report:\n",
      "              precision    recall  f1-score   support\n",
      "\n",
      "        fake       0.85      0.84      0.85      1188\n",
      "        real       0.85      0.86      0.85      1212\n",
      "\n",
      "    accuracy                           0.85      2400\n",
      "   macro avg       0.85      0.85      0.85      2400\n",
      "weighted avg       0.85      0.85      0.85      2400\n",
      "\n",
      "Early stopping trigger count: 1/5\n",
      "Epoch 8/10\n"
     ]
    },
    {
     "name": "stderr",
     "output_type": "stream",
     "text": [
      "/usr/local/lib/python3.10/dist-packages/PIL/Image.py:1054: UserWarning: Palette images with Transparency expressed in bytes should be converted to RGBA images\n",
      "  warnings.warn(\n"
     ]
    },
    {
     "name": "stdout",
     "output_type": "stream",
     "text": [
      "Train Loss: 0.3511 Acc: 0.8546\n",
      "Val Loss: 0.3626 Acc: 0.8408\n",
      "\n",
      "Classification Report:\n",
      "              precision    recall  f1-score   support\n",
      "\n",
      "        fake       0.84      0.84      0.84      1188\n",
      "        real       0.84      0.85      0.84      1212\n",
      "\n",
      "    accuracy                           0.84      2400\n",
      "   macro avg       0.84      0.84      0.84      2400\n",
      "weighted avg       0.84      0.84      0.84      2400\n",
      "\n",
      "Early stopping trigger count: 2/5\n",
      "Epoch 9/10\n"
     ]
    },
    {
     "name": "stderr",
     "output_type": "stream",
     "text": [
      "/usr/local/lib/python3.10/dist-packages/PIL/Image.py:1054: UserWarning: Palette images with Transparency expressed in bytes should be converted to RGBA images\n",
      "  warnings.warn(\n"
     ]
    },
    {
     "name": "stdout",
     "output_type": "stream",
     "text": [
      "Train Loss: 0.3463 Acc: 0.8558\n",
      "Val Loss: 0.3617 Acc: 0.8413\n",
      "\n",
      "Classification Report:\n",
      "              precision    recall  f1-score   support\n",
      "\n",
      "        fake       0.84      0.84      0.84      1188\n",
      "        real       0.85      0.84      0.84      1212\n",
      "\n",
      "    accuracy                           0.84      2400\n",
      "   macro avg       0.84      0.84      0.84      2400\n",
      "weighted avg       0.84      0.84      0.84      2400\n",
      "\n",
      "Early stopping trigger count: 3/5\n",
      "Epoch 10/10\n"
     ]
    },
    {
     "name": "stderr",
     "output_type": "stream",
     "text": [
      "/usr/local/lib/python3.10/dist-packages/PIL/Image.py:1054: UserWarning: Palette images with Transparency expressed in bytes should be converted to RGBA images\n",
      "  warnings.warn(\n"
     ]
    },
    {
     "name": "stdout",
     "output_type": "stream",
     "text": [
      "Train Loss: 0.3536 Acc: 0.8485\n",
      "Val Loss: 0.3568 Acc: 0.8392\n",
      "\n",
      "Classification Report:\n",
      "              precision    recall  f1-score   support\n",
      "\n",
      "        fake       0.84      0.84      0.84      1188\n",
      "        real       0.84      0.84      0.84      1212\n",
      "\n",
      "    accuracy                           0.84      2400\n",
      "   macro avg       0.84      0.84      0.84      2400\n",
      "weighted avg       0.84      0.84      0.84      2400\n",
      "\n",
      "Best Validation Accuracy: 0.8508\n",
      "Best Validation loss: 0.3568\n"
     ]
    }
   ],
   "source": [
    "for epoch in range(epochs):\n",
    "    print(f\"Epoch {epoch+1}/{epochs}\")\n",
    "\n",
    "    # Training phase\n",
    "    model.train()\n",
    "    running_loss = 0.0\n",
    "    running_corrects = 0\n",
    "\n",
    "    for inputs, labels in train_loader:\n",
    "        inputs, labels = inputs.to(device), labels.to(device)\n",
    "\n",
    "        # Zero the parameter gradients\n",
    "        optimizer.zero_grad()\n",
    "\n",
    "        # Forward pass\n",
    "        outputs = model(inputs)\n",
    "        _, preds = torch.max(outputs, 1)\n",
    "        loss = criterion(outputs, labels)\n",
    "\n",
    "        # Backward pass and optimization\n",
    "        loss.backward()\n",
    "        optimizer.step()\n",
    "\n",
    "        # Track loss and accuracy\n",
    "        running_loss += loss.item() * inputs.size(0)\n",
    "        running_corrects += torch.sum(preds == labels.data)\n",
    "\n",
    "    epoch_loss = running_loss / len(train_dataset)\n",
    "    epoch_acc = running_corrects.double() / len(train_dataset)\n",
    "\n",
    "    data[\"train_losses\"].append(epoch_loss)\n",
    "    data[\"train_accuracies\"].append(epoch_acc.item())\n",
    "    \n",
    "    print(f\"Train Loss: {epoch_loss:.4f} Acc: {epoch_acc:.4f}\")\n",
    "\n",
    "    # Validation phase\n",
    "    model.eval()\n",
    "    val_loss = 0.0\n",
    "    val_corrects = 0\n",
    "    all_preds = []\n",
    "    all_labels = []\n",
    "\n",
    "    with torch.no_grad():\n",
    "        for inputs, labels in val_loader:\n",
    "            inputs, labels = inputs.to(device), labels.to(device)\n",
    "\n",
    "            outputs = model(inputs)\n",
    "            _, preds = torch.max(outputs, 1)\n",
    "            loss = criterion(outputs, labels)\n",
    "\n",
    "            val_loss += loss.item() * inputs.size(0)\n",
    "            val_corrects += torch.sum(preds == labels.data)\n",
    "\n",
    "            # Store predictions and labels for metrics\n",
    "            all_preds.extend(preds.cpu().numpy())\n",
    "            all_labels.extend(labels.cpu().numpy())\n",
    "\n",
    "    val_loss = val_loss / len(val_dataset)\n",
    "    val_acc = val_corrects.double() / len(val_dataset)\n",
    "\n",
    "    data[\"val_losses\"].append(val_loss)\n",
    "    data[\"val_accuracies\"].append(val_acc.item())\n",
    "\n",
    "    print(f\"Val Loss: {val_loss:.4f} Acc: {val_acc:.4f}\")\n",
    "\n",
    "    # Precision, Recall, F1-Score\n",
    "    print(\"\\nClassification Report:\")\n",
    "    print(classification_report(all_labels, all_preds, target_names=dataset.classes))\n",
    "\n",
    "    if val_acc > best_val_acc:\n",
    "        best_val_acc = val_acc\n",
    "    \n",
    "    # Save the best model\n",
    "    if val_loss < best_val_loss:\n",
    "        best_val_loss = val_loss\n",
    "        torch.save(model.state_dict(), f'best_model{epoch}for_RESNET34_After_second_training__one-half-part.pth')\n",
    "        trigger_times = 0  # Reset early stopping counter\n",
    "    else:\n",
    "        trigger_times += 1\n",
    "        print(f\"Early stopping trigger count: {trigger_times}/{patience}\")\n",
    "        if trigger_times >= patience:\n",
    "            print(\"Early stopping...\")\n",
    "            break\n",
    "\n",
    "    # Step the scheduler\n",
    "    scheduler.step()\n",
    "\n",
    "print(f'Best Validation Accuracy: {best_val_acc:.4f}')\n",
    "print(f'Best Validation loss: {best_val_loss:.4f}')\n"
   ]
  },
  {
   "cell_type": "code",
   "execution_count": null,
   "id": "df776e55",
   "metadata": {
    "papermill": {
     "duration": 0.00575,
     "end_time": "2025-02-08T23:51:18.133773",
     "exception": false,
     "start_time": "2025-02-08T23:51:18.128023",
     "status": "completed"
    },
    "tags": []
   },
   "outputs": [],
   "source": []
  },
  {
   "cell_type": "code",
   "execution_count": 14,
   "id": "16e87077",
   "metadata": {
    "execution": {
     "iopub.execute_input": "2025-02-08T23:51:18.146357Z",
     "iopub.status.busy": "2025-02-08T23:51:18.146108Z",
     "iopub.status.idle": "2025-02-08T23:51:18.149664Z",
     "shell.execute_reply": "2025-02-08T23:51:18.149077Z"
    },
    "papermill": {
     "duration": 0.011307,
     "end_time": "2025-02-08T23:51:18.150845",
     "exception": false,
     "start_time": "2025-02-08T23:51:18.139538",
     "status": "completed"
    },
    "tags": []
   },
   "outputs": [],
   "source": [
    "df = pd.DataFrame(data)"
   ]
  },
  {
   "cell_type": "code",
   "execution_count": 15,
   "id": "23f96cff",
   "metadata": {
    "execution": {
     "iopub.execute_input": "2025-02-08T23:51:18.163457Z",
     "iopub.status.busy": "2025-02-08T23:51:18.163217Z",
     "iopub.status.idle": "2025-02-08T23:51:18.168298Z",
     "shell.execute_reply": "2025-02-08T23:51:18.167511Z"
    },
    "papermill": {
     "duration": 0.012741,
     "end_time": "2025-02-08T23:51:18.169493",
     "exception": false,
     "start_time": "2025-02-08T23:51:18.156752",
     "status": "completed"
    },
    "tags": []
   },
   "outputs": [
    {
     "data": {
      "text/plain": [
       "{'train_losses': [0.5734998272016454,\n",
       "  0.4743225648479172,\n",
       "  0.4591502520439214,\n",
       "  0.3858638754585458,\n",
       "  0.364189382843927,\n",
       "  0.3507247774262442,\n",
       "  0.3389316792288898,\n",
       "  0.3396319232253137,\n",
       "  0.3283939269392772,\n",
       "  0.3321667350832528,\n",
       "  0.47141432811511236,\n",
       "  0.42763471010700216,\n",
       "  0.4288759749157253,\n",
       "  0.40935796520985446,\n",
       "  0.37372516985299226,\n",
       "  0.3590123997447217,\n",
       "  0.34533882150427475,\n",
       "  0.3511320329237784,\n",
       "  0.3463092586040149,\n",
       "  0.3536380230262759],\n",
       " 'train_accuracies': [0.7420564642150225,\n",
       "  0.7829982289821856,\n",
       "  0.7935201583498281,\n",
       "  0.8355036983019065,\n",
       "  0.8423794145223461,\n",
       "  0.8485258881133452,\n",
       "  0.8562350244817168,\n",
       "  0.8536305865194291,\n",
       "  0.8590478174809876,\n",
       "  0.8646734034795291,\n",
       "  0.7901864777580998,\n",
       "  0.8122721116782998,\n",
       "  0.8089384310865716,\n",
       "  0.8203979581206375,\n",
       "  0.8348786331909575,\n",
       "  0.8499843733722263,\n",
       "  0.8515470361495989,\n",
       "  0.8545681841858527,\n",
       "  0.8558183144077508,\n",
       "  0.8485258881133452],\n",
       " 'val_losses': [10.712988891601562,\n",
       "  0.5014767972628276,\n",
       "  0.4884221621354421,\n",
       "  0.3869033579031626,\n",
       "  0.3962781429290771,\n",
       "  0.3753858514626821,\n",
       "  0.3734327522913614,\n",
       "  0.3578917157649994,\n",
       "  0.366737189690272,\n",
       "  0.3584837702910105,\n",
       "  0.7398742763201396,\n",
       "  0.49072819034258525,\n",
       "  0.7143328436215719,\n",
       "  0.4230053981145223,\n",
       "  0.36759151895840964,\n",
       "  0.3574890951315562,\n",
       "  0.35773126761118573,\n",
       "  0.362562864224116,\n",
       "  0.3616601546605428,\n",
       "  0.3567972910404205],\n",
       " 'val_accuracies': [0.4858333333333333,\n",
       "  0.785,\n",
       "  0.7679166666666667,\n",
       "  0.8258333333333334,\n",
       "  0.8304166666666667,\n",
       "  0.8379166666666668,\n",
       "  0.8387500000000001,\n",
       "  0.8483333333333334,\n",
       "  0.8425,\n",
       "  0.8541666666666667,\n",
       "  0.7158333333333334,\n",
       "  0.7570833333333333,\n",
       "  0.6845833333333334,\n",
       "  0.8087500000000001,\n",
       "  0.8408333333333334,\n",
       "  0.8483333333333334,\n",
       "  0.8508333333333334,\n",
       "  0.8408333333333334,\n",
       "  0.84125,\n",
       "  0.8391666666666667]}"
      ]
     },
     "execution_count": 15,
     "metadata": {},
     "output_type": "execute_result"
    }
   ],
   "source": [
    "data"
   ]
  },
  {
   "cell_type": "code",
   "execution_count": 16,
   "id": "40e856fd",
   "metadata": {
    "execution": {
     "iopub.execute_input": "2025-02-08T23:51:18.182378Z",
     "iopub.status.busy": "2025-02-08T23:51:18.182148Z",
     "iopub.status.idle": "2025-02-08T23:51:18.196727Z",
     "shell.execute_reply": "2025-02-08T23:51:18.195956Z"
    },
    "papermill": {
     "duration": 0.022204,
     "end_time": "2025-02-08T23:51:18.197887",
     "exception": false,
     "start_time": "2025-02-08T23:51:18.175683",
     "status": "completed"
    },
    "tags": []
   },
   "outputs": [
    {
     "data": {
      "text/html": [
       "<div>\n",
       "<style scoped>\n",
       "    .dataframe tbody tr th:only-of-type {\n",
       "        vertical-align: middle;\n",
       "    }\n",
       "\n",
       "    .dataframe tbody tr th {\n",
       "        vertical-align: top;\n",
       "    }\n",
       "\n",
       "    .dataframe thead th {\n",
       "        text-align: right;\n",
       "    }\n",
       "</style>\n",
       "<table border=\"1\" class=\"dataframe\">\n",
       "  <thead>\n",
       "    <tr style=\"text-align: right;\">\n",
       "      <th></th>\n",
       "      <th>train_losses</th>\n",
       "      <th>train_accuracies</th>\n",
       "      <th>val_losses</th>\n",
       "      <th>val_accuracies</th>\n",
       "    </tr>\n",
       "  </thead>\n",
       "  <tbody>\n",
       "    <tr>\n",
       "      <th>0</th>\n",
       "      <td>0.573500</td>\n",
       "      <td>0.742056</td>\n",
       "      <td>10.712989</td>\n",
       "      <td>0.485833</td>\n",
       "    </tr>\n",
       "    <tr>\n",
       "      <th>1</th>\n",
       "      <td>0.474323</td>\n",
       "      <td>0.782998</td>\n",
       "      <td>0.501477</td>\n",
       "      <td>0.785000</td>\n",
       "    </tr>\n",
       "    <tr>\n",
       "      <th>2</th>\n",
       "      <td>0.459150</td>\n",
       "      <td>0.793520</td>\n",
       "      <td>0.488422</td>\n",
       "      <td>0.767917</td>\n",
       "    </tr>\n",
       "    <tr>\n",
       "      <th>3</th>\n",
       "      <td>0.385864</td>\n",
       "      <td>0.835504</td>\n",
       "      <td>0.386903</td>\n",
       "      <td>0.825833</td>\n",
       "    </tr>\n",
       "    <tr>\n",
       "      <th>4</th>\n",
       "      <td>0.364189</td>\n",
       "      <td>0.842379</td>\n",
       "      <td>0.396278</td>\n",
       "      <td>0.830417</td>\n",
       "    </tr>\n",
       "    <tr>\n",
       "      <th>5</th>\n",
       "      <td>0.350725</td>\n",
       "      <td>0.848526</td>\n",
       "      <td>0.375386</td>\n",
       "      <td>0.837917</td>\n",
       "    </tr>\n",
       "    <tr>\n",
       "      <th>6</th>\n",
       "      <td>0.338932</td>\n",
       "      <td>0.856235</td>\n",
       "      <td>0.373433</td>\n",
       "      <td>0.838750</td>\n",
       "    </tr>\n",
       "    <tr>\n",
       "      <th>7</th>\n",
       "      <td>0.339632</td>\n",
       "      <td>0.853631</td>\n",
       "      <td>0.357892</td>\n",
       "      <td>0.848333</td>\n",
       "    </tr>\n",
       "    <tr>\n",
       "      <th>8</th>\n",
       "      <td>0.328394</td>\n",
       "      <td>0.859048</td>\n",
       "      <td>0.366737</td>\n",
       "      <td>0.842500</td>\n",
       "    </tr>\n",
       "    <tr>\n",
       "      <th>9</th>\n",
       "      <td>0.332167</td>\n",
       "      <td>0.864673</td>\n",
       "      <td>0.358484</td>\n",
       "      <td>0.854167</td>\n",
       "    </tr>\n",
       "    <tr>\n",
       "      <th>10</th>\n",
       "      <td>0.471414</td>\n",
       "      <td>0.790186</td>\n",
       "      <td>0.739874</td>\n",
       "      <td>0.715833</td>\n",
       "    </tr>\n",
       "    <tr>\n",
       "      <th>11</th>\n",
       "      <td>0.427635</td>\n",
       "      <td>0.812272</td>\n",
       "      <td>0.490728</td>\n",
       "      <td>0.757083</td>\n",
       "    </tr>\n",
       "    <tr>\n",
       "      <th>12</th>\n",
       "      <td>0.428876</td>\n",
       "      <td>0.808938</td>\n",
       "      <td>0.714333</td>\n",
       "      <td>0.684583</td>\n",
       "    </tr>\n",
       "    <tr>\n",
       "      <th>13</th>\n",
       "      <td>0.409358</td>\n",
       "      <td>0.820398</td>\n",
       "      <td>0.423005</td>\n",
       "      <td>0.808750</td>\n",
       "    </tr>\n",
       "    <tr>\n",
       "      <th>14</th>\n",
       "      <td>0.373725</td>\n",
       "      <td>0.834879</td>\n",
       "      <td>0.367592</td>\n",
       "      <td>0.840833</td>\n",
       "    </tr>\n",
       "    <tr>\n",
       "      <th>15</th>\n",
       "      <td>0.359012</td>\n",
       "      <td>0.849984</td>\n",
       "      <td>0.357489</td>\n",
       "      <td>0.848333</td>\n",
       "    </tr>\n",
       "    <tr>\n",
       "      <th>16</th>\n",
       "      <td>0.345339</td>\n",
       "      <td>0.851547</td>\n",
       "      <td>0.357731</td>\n",
       "      <td>0.850833</td>\n",
       "    </tr>\n",
       "    <tr>\n",
       "      <th>17</th>\n",
       "      <td>0.351132</td>\n",
       "      <td>0.854568</td>\n",
       "      <td>0.362563</td>\n",
       "      <td>0.840833</td>\n",
       "    </tr>\n",
       "    <tr>\n",
       "      <th>18</th>\n",
       "      <td>0.346309</td>\n",
       "      <td>0.855818</td>\n",
       "      <td>0.361660</td>\n",
       "      <td>0.841250</td>\n",
       "    </tr>\n",
       "    <tr>\n",
       "      <th>19</th>\n",
       "      <td>0.353638</td>\n",
       "      <td>0.848526</td>\n",
       "      <td>0.356797</td>\n",
       "      <td>0.839167</td>\n",
       "    </tr>\n",
       "  </tbody>\n",
       "</table>\n",
       "</div>"
      ],
      "text/plain": [
       "    train_losses  train_accuracies  val_losses  val_accuracies\n",
       "0       0.573500          0.742056   10.712989        0.485833\n",
       "1       0.474323          0.782998    0.501477        0.785000\n",
       "2       0.459150          0.793520    0.488422        0.767917\n",
       "3       0.385864          0.835504    0.386903        0.825833\n",
       "4       0.364189          0.842379    0.396278        0.830417\n",
       "5       0.350725          0.848526    0.375386        0.837917\n",
       "6       0.338932          0.856235    0.373433        0.838750\n",
       "7       0.339632          0.853631    0.357892        0.848333\n",
       "8       0.328394          0.859048    0.366737        0.842500\n",
       "9       0.332167          0.864673    0.358484        0.854167\n",
       "10      0.471414          0.790186    0.739874        0.715833\n",
       "11      0.427635          0.812272    0.490728        0.757083\n",
       "12      0.428876          0.808938    0.714333        0.684583\n",
       "13      0.409358          0.820398    0.423005        0.808750\n",
       "14      0.373725          0.834879    0.367592        0.840833\n",
       "15      0.359012          0.849984    0.357489        0.848333\n",
       "16      0.345339          0.851547    0.357731        0.850833\n",
       "17      0.351132          0.854568    0.362563        0.840833\n",
       "18      0.346309          0.855818    0.361660        0.841250\n",
       "19      0.353638          0.848526    0.356797        0.839167"
      ]
     },
     "execution_count": 16,
     "metadata": {},
     "output_type": "execute_result"
    }
   ],
   "source": [
    "df"
   ]
  },
  {
   "cell_type": "code",
   "execution_count": 17,
   "id": "7c97917e",
   "metadata": {
    "execution": {
     "iopub.execute_input": "2025-02-08T23:51:18.211697Z",
     "iopub.status.busy": "2025-02-08T23:51:18.211476Z",
     "iopub.status.idle": "2025-02-08T23:51:18.220023Z",
     "shell.execute_reply": "2025-02-08T23:51:18.219323Z"
    },
    "papermill": {
     "duration": 0.017124,
     "end_time": "2025-02-08T23:51:18.221405",
     "exception": false,
     "start_time": "2025-02-08T23:51:18.204281",
     "status": "completed"
    },
    "tags": []
   },
   "outputs": [
    {
     "name": "stdout",
     "output_type": "stream",
     "text": [
      "CSV file saved successfully!\n"
     ]
    }
   ],
   "source": [
    "df.to_csv(\"/kaggle/working/scorse2_ResNet_34.csv\", index=False)\n",
    "print(\"CSV file saved successfully!\")"
   ]
  },
  {
   "cell_type": "code",
   "execution_count": 18,
   "id": "fa1feb49",
   "metadata": {
    "execution": {
     "iopub.execute_input": "2025-02-08T23:51:18.234691Z",
     "iopub.status.busy": "2025-02-08T23:51:18.234493Z",
     "iopub.status.idle": "2025-02-08T23:51:18.736245Z",
     "shell.execute_reply": "2025-02-08T23:51:18.735429Z"
    },
    "papermill": {
     "duration": 0.510044,
     "end_time": "2025-02-08T23:51:18.737745",
     "exception": false,
     "start_time": "2025-02-08T23:51:18.227701",
     "status": "completed"
    },
    "tags": []
   },
   "outputs": [
    {
     "data": {
      "image/png": "[encoded data removed]",
      "text/plain": [
       "<Figure size 1200x600 with 1 Axes>"
      ]
     },
     "metadata": {},
     "output_type": "display_data"
    },
    {
     "data": {
      "image/png": "[encoded data removed]",
      "text/plain": [
       "<Figure size 1200x600 with 1 Axes>"
      ]
     },
     "metadata": {},
     "output_type": "display_data"
    }
   ],
   "source": [
    "import matplotlib.pyplot as plt\n",
    "\n",
    "# Plot Training and Validation Loss\n",
    "plt.figure(figsize=(12, 6))\n",
    "plt.plot(range(1, len(data[\"train_losses\"]) + 1), data[\"train_losses\"], label='Training Loss', marker='o')\n",
    "plt.plot(range(1, len(data[\"val_losses\"]) + 1), data[\"val_losses\"], label='Validation Loss', marker='o')\n",
    "plt.title('Training and Validation Loss', fontsize=16)\n",
    "plt.xlabel('Epochs', fontsize=14)\n",
    "plt.ylabel('Loss', fontsize=14)\n",
    "plt.xticks(range(1, len(data[\"val_losses\"]) + 1))\n",
    "plt.legend(fontsize=12)\n",
    "plt.grid(alpha=0.5)\n",
    "plt.show()\n",
    "\n",
    "# Plot Training and Validation Accuracy\n",
    "plt.figure(figsize=(12, 6))\n",
    "plt.plot(range(1, len(data[\"train_accuracies\"]) + 1), data[\"train_accuracies\"], label='Training Accuracy', marker='o')\n",
    "plt.plot(range(1, len(data[\"val_accuracies\"]) + 1), data[\"val_accuracies\"], label='Validation Accuracy', marker='o')\n",
    "plt.title('Training and Validation Accuracy', fontsize=16)\n",
    "plt.xlabel('Epochs', fontsize=14)\n",
    "plt.ylabel('Accuracy', fontsize=14)\n",
    "plt.xticks(range(1, len(data[\"val_accuracies\"]) + 1))\n",
    "plt.legend(fontsize=12)\n",
    "plt.grid(alpha=0.5)\n",
    "plt.show()"
   ]
  },
  {
   "cell_type": "code",
   "execution_count": null,
   "id": "ca22ba30",
   "metadata": {
    "papermill": {
     "duration": 0.00818,
     "end_time": "2025-02-08T23:51:18.754836",
     "exception": false,
     "start_time": "2025-02-08T23:51:18.746656",
     "status": "completed"
    },
    "tags": []
   },
   "outputs": [],
   "source": []
  },
  {
   "cell_type": "code",
   "execution_count": null,
   "id": "788cf522",
   "metadata": {
    "papermill": {
     "duration": 0.007899,
     "end_time": "2025-02-08T23:51:18.770900",
     "exception": false,
     "start_time": "2025-02-08T23:51:18.763001",
     "status": "completed"
    },
    "tags": []
   },
   "outputs": [],
   "source": []
  }
 ],
 "metadata": {
  "kaggle": {
   "accelerator": "gpu",
   "dataSources": [
    {
     "datasetId": 5070657,
     "sourceId": 8497982,
     "sourceType": "datasetVersion"
    },
    {
     "datasetId": 6624116,
     "sourceId": 10690816,
     "sourceType": "datasetVersion"
    },
    {
     "isSourceIdPinned": true,
     "modelId": 237436,
     "modelInstanceId": 215729,
     "sourceId": 252330,
     "sourceType": "modelInstanceVersion"
    },
    {
     "isSourceIdPinned": true,
     "modelId": 237447,
     "modelInstanceId": 215740,
     "sourceId": 252343,
     "sourceType": "modelInstanceVersion"
    },
    {
     "isSourceIdPinned": true,
     "modelId": 237716,
     "modelInstanceId": 215988,
     "sourceId": 252616,
     "sourceType": "modelInstanceVersion"
    },
    {
     "isSourceIdPinned": true,
     "modelId": 237751,
     "modelInstanceId": 216020,
     "sourceId": 252649,
     "sourceType": "modelInstanceVersion"
    }
   ],
   "dockerImageVersionId": 30840,
   "isGpuEnabled": true,
   "isInternetEnabled": false,
   "language": "python",
   "sourceType": "notebook"
  },
  "kernelspec": {
   "display_name": "Python 3",
   "language": "python",
   "name": "python3"
  },
  "language_info": {
   "codemirror_mode": {
    "name": "ipython",
    "version": 3
   },
   "file_extension": ".py",
   "mimetype": "text/x-python",
   "name": "python",
   "nbconvert_exporter": "python",
   "pygments_lexer": "ipython3",
   "version": "3.10.12"
  },
  "papermill": {
   "default_parameters": {},
   "duration": 24725.072795,
   "end_time": "2025-02-08T23:51:20.625354",
   "environment_variables": {},
   "exception": null,
   "input_path": "__notebook__.ipynb",
   "output_path": "__notebook__.ipynb",
   "parameters": {},
   "start_time": "2025-02-08T16:59:15.552559",
   "version": "2.6.0"
  }
 },
 "nbformat": 4,
 "nbformat_minor": 5
}
