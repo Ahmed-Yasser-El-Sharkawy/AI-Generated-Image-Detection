{
 "cells": [
  {
   "cell_type": "code",
   "execution_count": 1,
   "id": "af261b1a",
   "metadata": {
    "_cell_guid": "b1076dfc-b9ad-4769-8c92-a6c4dae69d19",
    "_uuid": "8f2839f25d086af736a60e9eeb907d3b93b6e0e5",
    "execution": {
     "iopub.execute_input": "2025-02-15T01:57:53.157699Z",
     "iopub.status.busy": "2025-02-15T01:57:53.157341Z",
     "iopub.status.idle": "2025-02-15T01:58:02.285152Z",
     "shell.execute_reply": "2025-02-15T01:58:02.284184Z"
    },
    "papermill": {
     "duration": 9.134376,
     "end_time": "2025-02-15T01:58:02.286889",
     "exception": false,
     "start_time": "2025-02-15T01:57:53.152513",
     "status": "completed"
    },
    "tags": []
   },
   "outputs": [],
   "source": [
    "# Import necessary libraries\n",
    "import numpy as np \n",
    "import pandas as pd \n",
    "import os\n",
    "import torch\n",
    "from torch import nn, optim\n",
    "from torchvision import datasets, transforms, models\n",
    "from torch.utils.data import DataLoader, random_split\n",
    "from sklearn.metrics import classification_report, confusion_matrix\n",
    "import os\n",
    "from PIL import Image, ImageFile\n",
    "import warnings\n",
    "\n",
    "# Suppress warnings\n",
    "with warnings.catch_warnings():\n",
    "    warnings.simplefilter(\"ignore\", Image.DecompressionBombWarning)\n"
   ]
  },
  {
   "cell_type": "code",
   "execution_count": 2,
   "id": "e9fc737d",
   "metadata": {
    "execution": {
     "iopub.execute_input": "2025-02-15T01:58:02.294887Z",
     "iopub.status.busy": "2025-02-15T01:58:02.294503Z",
     "iopub.status.idle": "2025-02-15T02:05:31.462131Z",
     "shell.execute_reply": "2025-02-15T02:05:31.461343Z"
    },
    "papermill": {
     "duration": 449.173156,
     "end_time": "2025-02-15T02:05:31.463757",
     "exception": false,
     "start_time": "2025-02-15T01:58:02.290601",
     "status": "completed"
    },
    "tags": []
   },
   "outputs": [],
   "source": [
    "# Define dataset path\n",
    "data_dir = '/kaggle/input/ai-generated-images-vs-real-images/train'\n",
    "\n",
    "# Image processing functions\n",
    "Image.MAX_IMAGE_PIXELS = None\n",
    "\n",
    "def convert_to_rgb(image):\n",
    "    if image.mode == 'P':\n",
    "        image = image.convert(\"RGBA\")\n",
    "    if image.mode == \"RGBA\":\n",
    "        background = Image.new(\"RGB\", image.size, (255, 255, 255))\n",
    "        image = Image.alpha_composite(background, image).convert(\"RGB\")\n",
    "    elif image.mode != \"RGB\":\n",
    "        image = image.convert(\"RGB\")\n",
    "    return image\n",
    "\n",
    "def resize_large_image(image, max_size):\n",
    "    if image.size[0] > max_size[0] or image.size[1] > max_size[1]:\n",
    "        image.thumbnail(max_size, Image.Resampling.LANCZOS)\n",
    "    return image\n",
    "\n",
    "# Define transformations\n",
    "train_transform = transforms.Compose([\n",
    "    transforms.Lambda(lambda img: resize_large_image(img, max_size=(5000, 5000))),\n",
    "    transforms.Lambda(convert_to_rgb),\n",
    "    transforms.RandomResizedCrop(224),\n",
    "    transforms.RandomHorizontalFlip(p=0.5),\n",
    "    transforms.RandomVerticalFlip(p=0.2),\n",
    "    transforms.RandomRotation(degrees=15),\n",
    "    transforms.ColorJitter(brightness=0.2, contrast=0.2, saturation=0.2, hue=0.1),\n",
    "    transforms.ToTensor(),\n",
    "    transforms.Normalize([0.485, 0.456, 0.406], [0.229, 0.224, 0.225])\n",
    "])\n",
    "\n",
    "val_transform = transforms.Compose([\n",
    "    transforms.Lambda(convert_to_rgb),\n",
    "    transforms.Resize((224, 224)),\n",
    "    transforms.ToTensor(),\n",
    "    transforms.Normalize([0.485, 0.456, 0.406], [0.229, 0.224, 0.225])\n",
    "])\n",
    "\n",
    "ImageFile.LOAD_TRUNCATED_IMAGES = True\n",
    "MIN_IMAGE_FILE_SIZE = 3284\n",
    "\n",
    "def is_valid_image(file_path):\n",
    "    try:\n",
    "        if os.path.getsize(file_path) < MIN_IMAGE_FILE_SIZE:\n",
    "            return False\n",
    "        with Image.open(file_path) as img:\n",
    "            img.verify()\n",
    "        return True\n",
    "    except (OSError, Image.DecompressionBombError):\n",
    "        return False\n",
    "\n",
    "class ValidImageFolder(datasets.ImageFolder):\n",
    "    def __init__(self, root, transform=None):\n",
    "        super().__init__(root, transform)\n",
    "        self.samples = [(path, label) for path, label in self.samples if is_valid_image(path)]\n",
    "        self.targets = [label for _, label in self.samples]\n",
    "\n",
    "# Load dataset\n",
    "dataset = ValidImageFolder(root=data_dir, transform=train_transform)"
   ]
  },
  {
   "cell_type": "code",
   "execution_count": 3,
   "id": "bac96758",
   "metadata": {
    "execution": {
     "iopub.execute_input": "2025-02-15T02:05:31.471620Z",
     "iopub.status.busy": "2025-02-15T02:05:31.471342Z",
     "iopub.status.idle": "2025-02-15T02:05:31.493497Z",
     "shell.execute_reply": "2025-02-15T02:05:31.492788Z"
    },
    "papermill": {
     "duration": 0.027075,
     "end_time": "2025-02-15T02:05:31.494676",
     "exception": false,
     "start_time": "2025-02-15T02:05:31.467601",
     "status": "completed"
    },
    "tags": []
   },
   "outputs": [
    {
     "name": "stdout",
     "output_type": "stream",
     "text": [
      "Original Dataset Size: 47998\n",
      "Balanced Subset Size: 23999 (Fake: 12000, Real: 11999)\n"
     ]
    }
   ],
   "source": [
    "from torch.utils.data import Subset\n",
    "\n",
    "fake_indices = [i for i, (_, label) in enumerate(dataset.samples) if label == dataset.class_to_idx['fake']]\n",
    "real_indices = [i for i, (_, label) in enumerate(dataset.samples) if label == dataset.class_to_idx['real']]\n",
    "\n",
    "fake_subset_size = int(1.0/2.0 * len(fake_indices))\n",
    "real_subset_size = int(1.0/2.0 * len(real_indices))\n",
    "\n",
    "fake_subset_indices = fake_indices[fake_subset_size:fake_subset_size*2]\n",
    "real_subset_indices = real_indices[real_subset_size:real_subset_size*2]\n",
    "\n",
    "balanced_subset_indices = np.concatenate((fake_subset_indices, real_subset_indices))\n",
    "balanced_subset = Subset(dataset, balanced_subset_indices)\n",
    "\n",
    "print(f\"Original Dataset Size: {len(dataset)}\")\n",
    "print(f\"Balanced Subset Size: {len(balanced_subset)} (Fake: {fake_subset_size}, Real: {real_subset_size})\")"
   ]
  },
  {
   "cell_type": "code",
   "execution_count": 4,
   "id": "b2d76804",
   "metadata": {
    "execution": {
     "iopub.execute_input": "2025-02-15T02:05:31.501884Z",
     "iopub.status.busy": "2025-02-15T02:05:31.501678Z",
     "iopub.status.idle": "2025-02-15T02:05:31.533245Z",
     "shell.execute_reply": "2025-02-15T02:05:31.532683Z"
    },
    "papermill": {
     "duration": 0.036633,
     "end_time": "2025-02-15T02:05:31.534572",
     "exception": false,
     "start_time": "2025-02-15T02:05:31.497939",
     "status": "completed"
    },
    "tags": []
   },
   "outputs": [],
   "source": [
    "train_size = int(0.8 * len(balanced_subset))\n",
    "val_size = len(balanced_subset) - train_size\n",
    "train_dataset, val_dataset = random_split(balanced_subset, [train_size, val_size])\n",
    "\n",
    "val_dataset.dataset.transform = val_transform\n",
    "\n",
    "train_loader = DataLoader(train_dataset, batch_size=128, shuffle=True)\n",
    "val_loader = DataLoader(val_dataset, batch_size=128, shuffle=False)"
   ]
  },
  {
   "cell_type": "code",
   "execution_count": 5,
   "id": "7cee2b8c",
   "metadata": {
    "execution": {
     "iopub.execute_input": "2025-02-15T02:05:31.541505Z",
     "iopub.status.busy": "2025-02-15T02:05:31.541258Z",
     "iopub.status.idle": "2025-02-15T02:05:31.545221Z",
     "shell.execute_reply": "2025-02-15T02:05:31.544440Z"
    },
    "papermill": {
     "duration": 0.008914,
     "end_time": "2025-02-15T02:05:31.546583",
     "exception": false,
     "start_time": "2025-02-15T02:05:31.537669",
     "status": "completed"
    },
    "tags": []
   },
   "outputs": [
    {
     "name": "stdout",
     "output_type": "stream",
     "text": [
      "Train Dataset Size: 19199\n",
      "Validation Dataset Size: 4800\n"
     ]
    }
   ],
   "source": [
    "print(f\"Train Dataset Size: {len(train_dataset)}\")\n",
    "print(f\"Validation Dataset Size: {len(val_dataset)}\")"
   ]
  },
  {
   "cell_type": "code",
   "execution_count": 6,
   "id": "79e690a2",
   "metadata": {
    "execution": {
     "iopub.execute_input": "2025-02-15T02:05:31.553791Z",
     "iopub.status.busy": "2025-02-15T02:05:31.553562Z",
     "iopub.status.idle": "2025-02-15T02:05:31.792570Z",
     "shell.execute_reply": "2025-02-15T02:05:31.791711Z"
    },
    "papermill": {
     "duration": 0.244026,
     "end_time": "2025-02-15T02:05:31.793844",
     "exception": false,
     "start_time": "2025-02-15T02:05:31.549818",
     "status": "completed"
    },
    "tags": []
   },
   "outputs": [
    {
     "data": {
      "image/png": "[encoded data removed]",
      "text/plain": [
       "<Figure size 800x600 with 1 Axes>"
      ]
     },
     "metadata": {},
     "output_type": "display_data"
    }
   ],
   "source": [
    "import matplotlib.pyplot as plt\n",
    "\n",
    "train_size = len(train_dataset)\n",
    "val_size = len(val_dataset)\n",
    "\n",
    "labels = ['Training Dataset', 'Validation Dataset']\n",
    "sizes = [train_size, val_size]\n",
    "\n",
    "plt.figure(figsize=(8, 6))\n",
    "plt.bar(labels, sizes, color=['blue', 'orange'], alpha=0.7)\n",
    "\n",
    "for i, size in enumerate(sizes):\n",
    "    plt.text(i, size + 5, str(size), ha='center', fontsize=12)\n",
    "\n",
    "plt.title('Dataset Split Distribution')\n",
    "plt.ylabel('Number of Samples')\n",
    "plt.xlabel('Dataset')\n",
    "plt.ylim(0, max(sizes) + 50)\n",
    "plt.show()"
   ]
  },
  {
   "cell_type": "code",
   "execution_count": 7,
   "id": "93d2e062",
   "metadata": {
    "execution": {
     "iopub.execute_input": "2025-02-15T02:05:31.801992Z",
     "iopub.status.busy": "2025-02-15T02:05:31.801748Z",
     "iopub.status.idle": "2025-02-15T02:05:31.856942Z",
     "shell.execute_reply": "2025-02-15T02:05:31.856092Z"
    },
    "papermill": {
     "duration": 0.060532,
     "end_time": "2025-02-15T02:05:31.858182",
     "exception": false,
     "start_time": "2025-02-15T02:05:31.797650",
     "status": "completed"
    },
    "tags": []
   },
   "outputs": [
    {
     "name": "stdout",
     "output_type": "stream",
     "text": [
      "cuda\n"
     ]
    }
   ],
   "source": [
    "device = torch.device(\"cuda\" if torch.cuda.is_available() else \"cpu\")\n",
    "print(device)"
   ]
  },
  {
   "cell_type": "code",
   "execution_count": 8,
   "id": "e6deaada",
   "metadata": {
    "execution": {
     "iopub.execute_input": "2025-02-15T02:05:31.866660Z",
     "iopub.status.busy": "2025-02-15T02:05:31.866374Z",
     "iopub.status.idle": "2025-02-15T02:05:32.371768Z",
     "shell.execute_reply": "2025-02-15T02:05:32.371057Z"
    },
    "papermill": {
     "duration": 0.51113,
     "end_time": "2025-02-15T02:05:32.373213",
     "exception": false,
     "start_time": "2025-02-15T02:05:31.862083",
     "status": "completed"
    },
    "tags": []
   },
   "outputs": [
    {
     "name": "stderr",
     "output_type": "stream",
     "text": [
      "Downloading: \"https://download.pytorch.org/models/mobilenet_v3_small-047dcff4.pth\" to /root/.cache/torch/hub/checkpoints/mobilenet_v3_small-047dcff4.pth\n",
      "100%|██████████| 9.83M/9.83M [00:00<00:00, 128MB/s]\n"
     ]
    }
   ],
   "source": [
    "import torchvision.models as models\n",
    "\n",
    "# Load MobileNetV3-Small\n",
    "model = models.mobilenet_v3_small(weights=models.MobileNet_V3_Small_Weights.DEFAULT)\n",
    "\n",
    "# Modify the classifier layer\n",
    "num_ftrs = model.classifier[3].in_features\n",
    "model.classifier[3] = nn.Linear(num_ftrs, 2)\n",
    "\n",
    "model = model.to(device)"
   ]
  },
  {
   "cell_type": "code",
   "execution_count": 9,
   "id": "f24e08d5",
   "metadata": {
    "execution": {
     "iopub.execute_input": "2025-02-15T02:05:32.382367Z",
     "iopub.status.busy": "2025-02-15T02:05:32.382105Z",
     "iopub.status.idle": "2025-02-15T02:05:32.386744Z",
     "shell.execute_reply": "2025-02-15T02:05:32.385951Z"
    },
    "papermill": {
     "duration": 0.01051,
     "end_time": "2025-02-15T02:05:32.388095",
     "exception": false,
     "start_time": "2025-02-15T02:05:32.377585",
     "status": "completed"
    },
    "tags": []
   },
   "outputs": [],
   "source": [
    "from torch.optim.lr_scheduler import StepLR\n",
    "\n",
    "optimizer = optim.Adam(model.parameters(), lr=0.001)\n",
    "criterion = nn.CrossEntropyLoss()\n",
    "scheduler = StepLR(optimizer, step_size=3, gamma=0.1)"
   ]
  },
  {
   "cell_type": "code",
   "execution_count": 10,
   "id": "63708a00",
   "metadata": {
    "execution": {
     "iopub.execute_input": "2025-02-15T02:05:32.396883Z",
     "iopub.status.busy": "2025-02-15T02:05:32.396675Z",
     "iopub.status.idle": "2025-02-15T02:05:32.400233Z",
     "shell.execute_reply": "2025-02-15T02:05:32.399605Z"
    },
    "papermill": {
     "duration": 0.009101,
     "end_time": "2025-02-15T02:05:32.401278",
     "exception": false,
     "start_time": "2025-02-15T02:05:32.392177",
     "status": "completed"
    },
    "tags": []
   },
   "outputs": [],
   "source": [
    "# Training and validation loop\n",
    "patience = 6\n",
    "trigger_times = 0\n",
    "best_val_loss = float('inf')\n",
    "epochs = 10\n",
    "best_val_acc = 0.0\n",
    "\n",
    "data = {\n",
    "    \"train_losses\": [],\n",
    "    \"train_accuracies\": [],\n",
    "    \"val_losses\": [],\n",
    "    \"val_accuracies\": [],\n",
    "}"
   ]
  },
  {
   "cell_type": "code",
   "execution_count": 11,
   "id": "751492ae",
   "metadata": {
    "execution": {
     "iopub.execute_input": "2025-02-15T02:05:32.410013Z",
     "iopub.status.busy": "2025-02-15T02:05:32.409766Z",
     "iopub.status.idle": "2025-02-15T09:51:32.976577Z",
     "shell.execute_reply": "2025-02-15T09:51:32.975687Z"
    },
    "papermill": {
     "duration": 27960.57746,
     "end_time": "2025-02-15T09:51:32.982766",
     "exception": false,
     "start_time": "2025-02-15T02:05:32.405306",
     "status": "completed"
    },
    "tags": []
   },
   "outputs": [
    {
     "name": "stdout",
     "output_type": "stream",
     "text": [
      "Epoch 1/10\n"
     ]
    },
    {
     "name": "stderr",
     "output_type": "stream",
     "text": [
      "/usr/local/lib/python3.10/dist-packages/PIL/Image.py:1054: UserWarning: Palette images with Transparency expressed in bytes should be converted to RGBA images\n",
      "  warnings.warn(\n"
     ]
    },
    {
     "name": "stdout",
     "output_type": "stream",
     "text": [
      "Train Loss: 0.3646 Acc: 0.8391\n",
      "Val Loss: 0.6705 Acc: 0.6977\n",
      "\n",
      "Classification Report:\n",
      "              precision    recall  f1-score   support\n",
      "\n",
      "        fake       0.95      0.42      0.58      2420\n",
      "        real       0.62      0.98      0.76      2380\n",
      "\n",
      "    accuracy                           0.70      4800\n",
      "   macro avg       0.79      0.70      0.67      4800\n",
      "weighted avg       0.79      0.70      0.67      4800\n",
      "\n",
      "Epoch 2/10\n"
     ]
    },
    {
     "name": "stderr",
     "output_type": "stream",
     "text": [
      "/usr/local/lib/python3.10/dist-packages/PIL/Image.py:1054: UserWarning: Palette images with Transparency expressed in bytes should be converted to RGBA images\n",
      "  warnings.warn(\n"
     ]
    },
    {
     "name": "stdout",
     "output_type": "stream",
     "text": [
      "Train Loss: 0.2992 Acc: 0.8720\n",
      "Val Loss: 0.7362 Acc: 0.7258\n",
      "\n",
      "Classification Report:\n",
      "              precision    recall  f1-score   support\n",
      "\n",
      "        fake       0.95      0.48      0.64      2420\n",
      "        real       0.65      0.98      0.78      2380\n",
      "\n",
      "    accuracy                           0.73      4800\n",
      "   macro avg       0.80      0.73      0.71      4800\n",
      "weighted avg       0.80      0.73      0.71      4800\n",
      "\n",
      "Early stopping trigger count: 1/6\n",
      "Epoch 3/10\n"
     ]
    },
    {
     "name": "stderr",
     "output_type": "stream",
     "text": [
      "/usr/local/lib/python3.10/dist-packages/PIL/Image.py:1054: UserWarning: Palette images with Transparency expressed in bytes should be converted to RGBA images\n",
      "  warnings.warn(\n"
     ]
    },
    {
     "name": "stdout",
     "output_type": "stream",
     "text": [
      "Train Loss: 0.2742 Acc: 0.8872\n",
      "Val Loss: 0.3450 Acc: 0.8556\n",
      "\n",
      "Classification Report:\n",
      "              precision    recall  f1-score   support\n",
      "\n",
      "        fake       0.85      0.86      0.86      2420\n",
      "        real       0.86      0.85      0.85      2380\n",
      "\n",
      "    accuracy                           0.86      4800\n",
      "   macro avg       0.86      0.86      0.86      4800\n",
      "weighted avg       0.86      0.86      0.86      4800\n",
      "\n",
      "Epoch 4/10\n"
     ]
    },
    {
     "name": "stderr",
     "output_type": "stream",
     "text": [
      "/usr/local/lib/python3.10/dist-packages/PIL/Image.py:1054: UserWarning: Palette images with Transparency expressed in bytes should be converted to RGBA images\n",
      "  warnings.warn(\n"
     ]
    },
    {
     "name": "stdout",
     "output_type": "stream",
     "text": [
      "Train Loss: 0.2296 Acc: 0.9063\n",
      "Val Loss: 0.2495 Acc: 0.8985\n",
      "\n",
      "Classification Report:\n",
      "              precision    recall  f1-score   support\n",
      "\n",
      "        fake       0.92      0.87      0.90      2420\n",
      "        real       0.88      0.93      0.90      2380\n",
      "\n",
      "    accuracy                           0.90      4800\n",
      "   macro avg       0.90      0.90      0.90      4800\n",
      "weighted avg       0.90      0.90      0.90      4800\n",
      "\n",
      "Epoch 5/10\n"
     ]
    },
    {
     "name": "stderr",
     "output_type": "stream",
     "text": [
      "/usr/local/lib/python3.10/dist-packages/PIL/Image.py:1054: UserWarning: Palette images with Transparency expressed in bytes should be converted to RGBA images\n",
      "  warnings.warn(\n"
     ]
    },
    {
     "name": "stdout",
     "output_type": "stream",
     "text": [
      "Train Loss: 0.2110 Acc: 0.9138\n",
      "Val Loss: 0.2402 Acc: 0.8981\n",
      "\n",
      "Classification Report:\n",
      "              precision    recall  f1-score   support\n",
      "\n",
      "        fake       0.93      0.86      0.90      2420\n",
      "        real       0.87      0.93      0.90      2380\n",
      "\n",
      "    accuracy                           0.90      4800\n",
      "   macro avg       0.90      0.90      0.90      4800\n",
      "weighted avg       0.90      0.90      0.90      4800\n",
      "\n",
      "Epoch 6/10\n"
     ]
    },
    {
     "name": "stderr",
     "output_type": "stream",
     "text": [
      "/usr/local/lib/python3.10/dist-packages/PIL/Image.py:1054: UserWarning: Palette images with Transparency expressed in bytes should be converted to RGBA images\n",
      "  warnings.warn(\n"
     ]
    },
    {
     "name": "stdout",
     "output_type": "stream",
     "text": [
      "Train Loss: 0.2034 Acc: 0.9171\n",
      "Val Loss: 0.2379 Acc: 0.9052\n",
      "\n",
      "Classification Report:\n",
      "              precision    recall  f1-score   support\n",
      "\n",
      "        fake       0.92      0.89      0.90      2420\n",
      "        real       0.89      0.92      0.91      2380\n",
      "\n",
      "    accuracy                           0.91      4800\n",
      "   macro avg       0.91      0.91      0.91      4800\n",
      "weighted avg       0.91      0.91      0.91      4800\n",
      "\n",
      "Epoch 7/10\n"
     ]
    },
    {
     "name": "stderr",
     "output_type": "stream",
     "text": [
      "/usr/local/lib/python3.10/dist-packages/PIL/Image.py:1054: UserWarning: Palette images with Transparency expressed in bytes should be converted to RGBA images\n",
      "  warnings.warn(\n"
     ]
    },
    {
     "name": "stdout",
     "output_type": "stream",
     "text": [
      "Train Loss: 0.1955 Acc: 0.9197\n",
      "Val Loss: 0.2383 Acc: 0.9019\n",
      "\n",
      "Classification Report:\n",
      "              precision    recall  f1-score   support\n",
      "\n",
      "        fake       0.91      0.89      0.90      2420\n",
      "        real       0.89      0.91      0.90      2380\n",
      "\n",
      "    accuracy                           0.90      4800\n",
      "   macro avg       0.90      0.90      0.90      4800\n",
      "weighted avg       0.90      0.90      0.90      4800\n",
      "\n",
      "Early stopping trigger count: 1/6\n",
      "Epoch 8/10\n"
     ]
    },
    {
     "name": "stderr",
     "output_type": "stream",
     "text": [
      "/usr/local/lib/python3.10/dist-packages/PIL/Image.py:1054: UserWarning: Palette images with Transparency expressed in bytes should be converted to RGBA images\n",
      "  warnings.warn(\n"
     ]
    },
    {
     "name": "stdout",
     "output_type": "stream",
     "text": [
      "Train Loss: 0.1974 Acc: 0.9179\n",
      "Val Loss: 0.2390 Acc: 0.9029\n",
      "\n",
      "Classification Report:\n",
      "              precision    recall  f1-score   support\n",
      "\n",
      "        fake       0.91      0.89      0.90      2420\n",
      "        real       0.89      0.91      0.90      2380\n",
      "\n",
      "    accuracy                           0.90      4800\n",
      "   macro avg       0.90      0.90      0.90      4800\n",
      "weighted avg       0.90      0.90      0.90      4800\n",
      "\n",
      "Early stopping trigger count: 2/6\n",
      "Epoch 9/10\n"
     ]
    },
    {
     "name": "stderr",
     "output_type": "stream",
     "text": [
      "/usr/local/lib/python3.10/dist-packages/PIL/Image.py:1054: UserWarning: Palette images with Transparency expressed in bytes should be converted to RGBA images\n",
      "  warnings.warn(\n"
     ]
    },
    {
     "name": "stdout",
     "output_type": "stream",
     "text": [
      "Train Loss: 0.1923 Acc: 0.9196\n",
      "Val Loss: 0.2272 Acc: 0.9102\n",
      "\n",
      "Classification Report:\n",
      "              precision    recall  f1-score   support\n",
      "\n",
      "        fake       0.92      0.90      0.91      2420\n",
      "        real       0.90      0.92      0.91      2380\n",
      "\n",
      "    accuracy                           0.91      4800\n",
      "   macro avg       0.91      0.91      0.91      4800\n",
      "weighted avg       0.91      0.91      0.91      4800\n",
      "\n",
      "Epoch 10/10\n"
     ]
    },
    {
     "name": "stderr",
     "output_type": "stream",
     "text": [
      "/usr/local/lib/python3.10/dist-packages/PIL/Image.py:1054: UserWarning: Palette images with Transparency expressed in bytes should be converted to RGBA images\n",
      "  warnings.warn(\n"
     ]
    },
    {
     "name": "stdout",
     "output_type": "stream",
     "text": [
      "Train Loss: 0.1977 Acc: 0.9209\n",
      "Val Loss: 0.2322 Acc: 0.9046\n",
      "\n",
      "Classification Report:\n",
      "              precision    recall  f1-score   support\n",
      "\n",
      "        fake       0.91      0.90      0.90      2420\n",
      "        real       0.90      0.91      0.90      2380\n",
      "\n",
      "    accuracy                           0.90      4800\n",
      "   macro avg       0.90      0.90      0.90      4800\n",
      "weighted avg       0.90      0.90      0.90      4800\n",
      "\n",
      "Early stopping trigger count: 1/6\n",
      "Best Validation Accuracy: 0.9102\n",
      "Best Validation Loss: 0.2272\n"
     ]
    }
   ],
   "source": [
    "for epoch in range(epochs):\n",
    "    print(f\"Epoch {epoch+1}/{epochs}\")\n",
    "\n",
    "    # Training phase\n",
    "    model.train()\n",
    "    running_loss = 0.0\n",
    "    running_corrects = 0\n",
    "\n",
    "    for inputs, labels in train_loader:\n",
    "        inputs, labels = inputs.to(device), labels.to(device)\n",
    "\n",
    "        # Zero the parameter gradients\n",
    "        optimizer.zero_grad()\n",
    "\n",
    "        # Forward pass\n",
    "        outputs = model(inputs)\n",
    "        _, preds = torch.max(outputs, 1)\n",
    "        loss = criterion(outputs, labels)\n",
    "\n",
    "        # Backward pass and optimization\n",
    "        loss.backward()\n",
    "        optimizer.step()\n",
    "\n",
    "        # Track loss and accuracy\n",
    "        running_loss += loss.item() * inputs.size(0)\n",
    "        running_corrects += torch.sum(preds == labels.data)\n",
    "\n",
    "    epoch_loss = running_loss / len(train_dataset)\n",
    "    epoch_acc = running_corrects.double() / len(train_dataset)\n",
    "\n",
    "    data[\"train_losses\"].append(epoch_loss)\n",
    "    data[\"train_accuracies\"].append(epoch_acc.item())\n",
    "\n",
    "    print(f\"Train Loss: {epoch_loss:.4f} Acc: {epoch_acc:.4f}\")\n",
    "\n",
    "    # Validation phase\n",
    "    model.eval()\n",
    "    val_loss = 0.0\n",
    "    val_corrects = 0\n",
    "    all_preds = []\n",
    "    all_labels = []\n",
    "\n",
    "    with torch.no_grad():\n",
    "        for inputs, labels in val_loader:\n",
    "            inputs, labels = inputs.to(device), labels.to(device)\n",
    "\n",
    "            outputs = model(inputs)\n",
    "            _, preds = torch.max(outputs, 1)\n",
    "            loss = criterion(outputs, labels)\n",
    "\n",
    "            val_loss += loss.item() * inputs.size(0)\n",
    "            val_corrects += torch.sum(preds == labels.data)\n",
    "\n",
    "            # Store predictions and labels for metrics\n",
    "            all_preds.extend(preds.cpu().numpy())\n",
    "            all_labels.extend(labels.cpu().numpy())\n",
    "\n",
    "    val_loss = val_loss / len(val_dataset)\n",
    "    val_acc = val_corrects.double() / len(val_dataset)\n",
    "\n",
    "    data[\"val_losses\"].append(val_loss)\n",
    "    data[\"val_accuracies\"].append(val_acc.item())\n",
    "\n",
    "    print(f\"Val Loss: {val_loss:.4f} Acc: {val_acc:.4f}\")\n",
    "\n",
    "    # Precision, Recall, F1-Score\n",
    "    print(\"\\nClassification Report:\")\n",
    "    print(classification_report(all_labels, all_preds, target_names=dataset.classes))\n",
    "\n",
    "    if val_acc > best_val_acc:\n",
    "        best_val_acc = val_acc\n",
    "\n",
    "    # Save the best model\n",
    "    if val_loss < best_val_loss:\n",
    "        best_val_loss = val_loss\n",
    "        torch.save(model.state_dict(), f'best_model{epoch}_mobilenetv3_small.pth')\n",
    "        trigger_times = 0  # Reset early stopping counter\n",
    "    else:\n",
    "        trigger_times += 1\n",
    "        print(f\"Early stopping trigger count: {trigger_times}/{patience}\")\n",
    "        if trigger_times >= patience:\n",
    "            print(\"Early stopping...\")\n",
    "            break\n",
    "\n",
    "    # Step the scheduler\n",
    "    scheduler.step()\n",
    "\n",
    "print(f'Best Validation Accuracy: {best_val_acc:.4f}')\n",
    "print(f'Best Validation Loss: {best_val_loss:.4f}')"
   ]
  },
  {
   "cell_type": "code",
   "execution_count": 12,
   "id": "c940d3ce",
   "metadata": {
    "execution": {
     "iopub.execute_input": "2025-02-15T09:51:32.994917Z",
     "iopub.status.busy": "2025-02-15T09:51:32.994673Z",
     "iopub.status.idle": "2025-02-15T09:51:33.008783Z",
     "shell.execute_reply": "2025-02-15T09:51:33.008127Z"
    },
    "papermill": {
     "duration": 0.021515,
     "end_time": "2025-02-15T09:51:33.010091",
     "exception": false,
     "start_time": "2025-02-15T09:51:32.988576",
     "status": "completed"
    },
    "tags": []
   },
   "outputs": [],
   "source": [
    "df = pd.DataFrame(data)"
   ]
  },
  {
   "cell_type": "code",
   "execution_count": 13,
   "id": "e9f77684",
   "metadata": {
    "execution": {
     "iopub.execute_input": "2025-02-15T09:51:33.021798Z",
     "iopub.status.busy": "2025-02-15T09:51:33.021557Z",
     "iopub.status.idle": "2025-02-15T09:51:33.024814Z",
     "shell.execute_reply": "2025-02-15T09:51:33.024089Z"
    },
    "papermill": {
     "duration": 0.010347,
     "end_time": "2025-02-15T09:51:33.025896",
     "exception": false,
     "start_time": "2025-02-15T09:51:33.015549",
     "status": "completed"
    },
    "tags": []
   },
   "outputs": [
    {
     "name": "stdout",
     "output_type": "stream",
     "text": [
      "{'train_losses': [0.36464110718610926, 0.29917210335687794, 0.27417509246228905, 0.2295907676806704, 0.21102180160534334, 0.20342293401715458, 0.1955229495458227, 0.19736353829025732, 0.19232050824431715, 0.19766918987329132], 'train_accuracies': [0.8391062034480963, 0.872024584613782, 0.8872337100890672, 0.9063492890254701, 0.913797593624668, 0.9171311005781551, 0.9196833168394187, 0.9179123912703786, 0.9195791447471222, 0.9208812959008281], 'val_losses': [0.6705203572909038, 0.7361666218439737, 0.34503596981366474, 0.24946574489275614, 0.240168474316597, 0.23790841341018676, 0.23829890588919322, 0.23903269251187642, 0.22720009366671245, 0.2321577783425649], 'val_accuracies': [0.6977083333333334, 0.7258333333333333, 0.8556250000000001, 0.8985416666666667, 0.8981250000000001, 0.9052083333333334, 0.9018750000000001, 0.9029166666666667, 0.9102083333333334, 0.9045833333333334]}\n"
     ]
    }
   ],
   "source": [
    "print(data)"
   ]
  },
  {
   "cell_type": "code",
   "execution_count": 14,
   "id": "3a2037bb",
   "metadata": {
    "execution": {
     "iopub.execute_input": "2025-02-15T09:51:33.037732Z",
     "iopub.status.busy": "2025-02-15T09:51:33.037528Z",
     "iopub.status.idle": "2025-02-15T09:51:33.056987Z",
     "shell.execute_reply": "2025-02-15T09:51:33.056349Z"
    },
    "papermill": {
     "duration": 0.026596,
     "end_time": "2025-02-15T09:51:33.058133",
     "exception": false,
     "start_time": "2025-02-15T09:51:33.031537",
     "status": "completed"
    },
    "tags": []
   },
   "outputs": [
    {
     "data": {
      "text/html": [
       "<div>\n",
       "<style scoped>\n",
       "    .dataframe tbody tr th:only-of-type {\n",
       "        vertical-align: middle;\n",
       "    }\n",
       "\n",
       "    .dataframe tbody tr th {\n",
       "        vertical-align: top;\n",
       "    }\n",
       "\n",
       "    .dataframe thead th {\n",
       "        text-align: right;\n",
       "    }\n",
       "</style>\n",
       "<table border=\"1\" class=\"dataframe\">\n",
       "  <thead>\n",
       "    <tr style=\"text-align: right;\">\n",
       "      <th></th>\n",
       "      <th>train_losses</th>\n",
       "      <th>train_accuracies</th>\n",
       "      <th>val_losses</th>\n",
       "      <th>val_accuracies</th>\n",
       "    </tr>\n",
       "  </thead>\n",
       "  <tbody>\n",
       "    <tr>\n",
       "      <th>0</th>\n",
       "      <td>0.364641</td>\n",
       "      <td>0.839106</td>\n",
       "      <td>0.670520</td>\n",
       "      <td>0.697708</td>\n",
       "    </tr>\n",
       "    <tr>\n",
       "      <th>1</th>\n",
       "      <td>0.299172</td>\n",
       "      <td>0.872025</td>\n",
       "      <td>0.736167</td>\n",
       "      <td>0.725833</td>\n",
       "    </tr>\n",
       "    <tr>\n",
       "      <th>2</th>\n",
       "      <td>0.274175</td>\n",
       "      <td>0.887234</td>\n",
       "      <td>0.345036</td>\n",
       "      <td>0.855625</td>\n",
       "    </tr>\n",
       "    <tr>\n",
       "      <th>3</th>\n",
       "      <td>0.229591</td>\n",
       "      <td>0.906349</td>\n",
       "      <td>0.249466</td>\n",
       "      <td>0.898542</td>\n",
       "    </tr>\n",
       "    <tr>\n",
       "      <th>4</th>\n",
       "      <td>0.211022</td>\n",
       "      <td>0.913798</td>\n",
       "      <td>0.240168</td>\n",
       "      <td>0.898125</td>\n",
       "    </tr>\n",
       "    <tr>\n",
       "      <th>5</th>\n",
       "      <td>0.203423</td>\n",
       "      <td>0.917131</td>\n",
       "      <td>0.237908</td>\n",
       "      <td>0.905208</td>\n",
       "    </tr>\n",
       "    <tr>\n",
       "      <th>6</th>\n",
       "      <td>0.195523</td>\n",
       "      <td>0.919683</td>\n",
       "      <td>0.238299</td>\n",
       "      <td>0.901875</td>\n",
       "    </tr>\n",
       "    <tr>\n",
       "      <th>7</th>\n",
       "      <td>0.197364</td>\n",
       "      <td>0.917912</td>\n",
       "      <td>0.239033</td>\n",
       "      <td>0.902917</td>\n",
       "    </tr>\n",
       "    <tr>\n",
       "      <th>8</th>\n",
       "      <td>0.192321</td>\n",
       "      <td>0.919579</td>\n",
       "      <td>0.227200</td>\n",
       "      <td>0.910208</td>\n",
       "    </tr>\n",
       "    <tr>\n",
       "      <th>9</th>\n",
       "      <td>0.197669</td>\n",
       "      <td>0.920881</td>\n",
       "      <td>0.232158</td>\n",
       "      <td>0.904583</td>\n",
       "    </tr>\n",
       "  </tbody>\n",
       "</table>\n",
       "</div>"
      ],
      "text/plain": [
       "   train_losses  train_accuracies  val_losses  val_accuracies\n",
       "0      0.364641          0.839106    0.670520        0.697708\n",
       "1      0.299172          0.872025    0.736167        0.725833\n",
       "2      0.274175          0.887234    0.345036        0.855625\n",
       "3      0.229591          0.906349    0.249466        0.898542\n",
       "4      0.211022          0.913798    0.240168        0.898125\n",
       "5      0.203423          0.917131    0.237908        0.905208\n",
       "6      0.195523          0.919683    0.238299        0.901875\n",
       "7      0.197364          0.917912    0.239033        0.902917\n",
       "8      0.192321          0.919579    0.227200        0.910208\n",
       "9      0.197669          0.920881    0.232158        0.904583"
      ]
     },
     "execution_count": 14,
     "metadata": {},
     "output_type": "execute_result"
    }
   ],
   "source": [
    "df"
   ]
  },
  {
   "cell_type": "code",
   "execution_count": 15,
   "id": "c46420ee",
   "metadata": {
    "execution": {
     "iopub.execute_input": "2025-02-15T09:51:33.070369Z",
     "iopub.status.busy": "2025-02-15T09:51:33.070168Z",
     "iopub.status.idle": "2025-02-15T09:51:33.079555Z",
     "shell.execute_reply": "2025-02-15T09:51:33.078891Z"
    },
    "papermill": {
     "duration": 0.017004,
     "end_time": "2025-02-15T09:51:33.080990",
     "exception": false,
     "start_time": "2025-02-15T09:51:33.063986",
     "status": "completed"
    },
    "tags": []
   },
   "outputs": [
    {
     "name": "stdout",
     "output_type": "stream",
     "text": [
      "CSV file saved successfully!\n"
     ]
    }
   ],
   "source": [
    "df.to_csv(\"/kaggle/working/MobileNet_2-3ofData.csv\", index=False)\n",
    "print(\"CSV file saved successfully!\")"
   ]
  },
  {
   "cell_type": "code",
   "execution_count": 16,
   "id": "67563fc4",
   "metadata": {
    "execution": {
     "iopub.execute_input": "2025-02-15T09:51:33.093524Z",
     "iopub.status.busy": "2025-02-15T09:51:33.093298Z",
     "iopub.status.idle": "2025-02-15T09:51:33.487816Z",
     "shell.execute_reply": "2025-02-15T09:51:33.487009Z"
    },
    "papermill": {
     "duration": 0.40212,
     "end_time": "2025-02-15T09:51:33.489068",
     "exception": false,
     "start_time": "2025-02-15T09:51:33.086948",
     "status": "completed"
    },
    "tags": []
   },
   "outputs": [
    {
     "data": {
      "image/png": "[encoded data removed]",
      "text/plain": [
       "<Figure size 1200x600 with 1 Axes>"
      ]
     },
     "metadata": {},
     "output_type": "display_data"
    },
    {
     "data": {
      "image/png": "[encoded data removed]",
      "text/plain": [
       "<Figure size 1200x600 with 1 Axes>"
      ]
     },
     "metadata": {},
     "output_type": "display_data"
    }
   ],
   "source": [
    "import matplotlib.pyplot as plt\n",
    "\n",
    "# Plot Training and Validation Loss\n",
    "plt.figure(figsize=(12, 6))\n",
    "plt.plot(range(1, len(data[\"train_losses\"]) + 1), data[\"train_losses\"], label='Training Loss', marker='o')\n",
    "plt.plot(range(1, len(data[\"val_losses\"]) + 1), data[\"val_losses\"], label='Validation Loss', marker='o')\n",
    "plt.title('Training and Validation Loss', fontsize=16)\n",
    "plt.xlabel('Epochs', fontsize=14)\n",
    "plt.ylabel('Loss', fontsize=14)\n",
    "plt.xticks(range(1, len(data[\"train_losses\"]) + 1))\n",
    "plt.legend(fontsize=12)\n",
    "plt.grid(alpha=0.5)\n",
    "plt.show()\n",
    "\n",
    "# Plot Training and Validation Accuracy\n",
    "plt.figure(figsize=(12, 6))\n",
    "plt.plot(range(1, len(data[\"train_accuracies\"]) + 1), data[\"train_accuracies\"], label='Training Accuracy', marker='o')\n",
    "plt.plot(range(1, len(data[\"val_accuracies\"]) + 1), data[\"val_accuracies\"], label='Validation Accuracy', marker='o')\n",
    "plt.title('Training and Validation Accuracy', fontsize=16)\n",
    "plt.xlabel('Epochs', fontsize=14)\n",
    "plt.ylabel('Accuracy', fontsize=14)\n",
    "plt.xticks(range(1, len(data[\"train_accuracies\"]) + 1))\n",
    "plt.legend(fontsize=12)\n",
    "plt.grid(alpha=0.5)\n",
    "plt.show()"
   ]
  },
  {
   "cell_type": "code",
   "execution_count": null,
   "id": "e183819a",
   "metadata": {
    "papermill": {
     "duration": 0.007604,
     "end_time": "2025-02-15T09:51:33.504829",
     "exception": false,
     "start_time": "2025-02-15T09:51:33.497225",
     "status": "completed"
    },
    "tags": []
   },
   "outputs": [],
   "source": []
  },
  {
   "cell_type": "code",
   "execution_count": null,
   "id": "35a488f7",
   "metadata": {
    "papermill": {
     "duration": 0.007649,
     "end_time": "2025-02-15T09:51:33.519961",
     "exception": false,
     "start_time": "2025-02-15T09:51:33.512312",
     "status": "completed"
    },
    "tags": []
   },
   "outputs": [],
   "source": []
  }
 ],
 "metadata": {
  "kaggle": {
   "accelerator": "gpu",
   "dataSources": [
    {
     "datasetId": 5070657,
     "sourceId": 8497982,
     "sourceType": "datasetVersion"
    }
   ],
   "dockerImageVersionId": 30887,
   "isGpuEnabled": true,
   "isInternetEnabled": true,
   "language": "python",
   "sourceType": "notebook"
  },
  "kernelspec": {
   "display_name": "Python 3",
   "language": "python",
   "name": "python3"
  },
  "language_info": {
   "codemirror_mode": {
    "name": "ipython",
    "version": 3
   },
   "file_extension": ".py",
   "mimetype": "text/x-python",
   "name": "python",
   "nbconvert_exporter": "python",
   "pygments_lexer": "ipython3",
   "version": "3.10.12"
  },
  "papermill": {
   "default_parameters": {},
   "duration": 28424.736259,
   "end_time": "2025-02-15T09:51:35.275715",
   "environment_variables": {},
   "exception": null,
   "input_path": "__notebook__.ipynb",
   "output_path": "__notebook__.ipynb",
   "parameters": {},
   "start_time": "2025-02-15T01:57:50.539456",
   "version": "2.6.0"
  }
 },
 "nbformat": 4,
 "nbformat_minor": 5
}
